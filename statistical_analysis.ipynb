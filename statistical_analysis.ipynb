{
 "cells": [
  {
   "cell_type": "markdown",
   "id": "88da1d7d",
   "metadata": {},
   "source": [
    "# Проект по статистическому анализу данных: анализ популярного сервиса аренды самокатов GoFast. "
   ]
  },
  {
   "cell_type": "markdown",
   "id": "28d951ca",
   "metadata": {},
   "source": [
    "Нам переданы данные о некоторых пользователях из нескольких городов, а также об их поездках. Необходимо проанализировать данные и проверить некоторые гипотезы, которые могут помочь бизнесу вырасти.\n",
    "\n",
    "Чтобы совершать поездки по городу, пользователи сервиса GoFast пользуются мобильным приложением. Сервисом можно пользоваться:\n",
    "\n",
    "- без подписки\n",
    "    - абонентская плата отсутствует;\n",
    "    - стоимость одной минуты поездки — 8 рублей;\n",
    "    - стоимость старта (начала поездки) — 50 рублей;\n",
    "- с подпиской Ultra\n",
    "    - абонентская плата — 199 рублей в месяц;\n",
    "    - стоимость одной минуты поездки — 6 рублей;\n",
    "    - стоимость старта — бесплатно."
   ]
  },
  {
   "cell_type": "markdown",
   "id": "a77f49c0",
   "metadata": {},
   "source": [
    "## Описание данных"
   ]
  },
  {
   "cell_type": "markdown",
   "id": "86b19354",
   "metadata": {},
   "source": [
    "В основных данных есть информация о пользователях, их поездках и подписках.\n",
    "\n",
    "**Пользователи — users_go.csv**\n",
    "- user_id - уникальный идентификатор пользователя\n",
    "- name - имя пользователя\n",
    "- age - возраст\n",
    "- city - город\n",
    "- subscription_type - тип подписки (free, ultra)\n",
    "\n",
    "**Поездки — rides_go.csv**\n",
    "- user_id - уникальный идентификатор пользователя\n",
    "- distance - расстояние, которое пользователь проехал в текущей сессии (в метрах)\n",
    "- duration - продолжительность сессии (в минутах) — время с того момента, как пользователь нажал кнопку «Начать поездку» до момента, как он нажал кнопку «Завершить поездку»\n",
    "- date - дата совершения поездки\n",
    "\n",
    "**Подписки — subscriptions_go.csv**\n",
    "- subscription_type - тип подписки\n",
    "- minute_price - стоимость одной минуты поездки по данной подписке\n",
    "- start_ride_price - стоимость начала поездки\n",
    "- subscription_fee - стоимость ежемесячного платежа"
   ]
  },
  {
   "cell_type": "markdown",
   "id": "e09fc400",
   "metadata": {},
   "source": [
    "## Загрузка данных"
   ]
  },
  {
   "cell_type": "code",
   "execution_count": 1,
   "id": "72576667",
   "metadata": {},
   "outputs": [],
   "source": [
    "import pandas as pd\n",
    "import matplotlib.pyplot as plt\n",
    "import numpy as np\n",
    "import scipy.stats as st"
   ]
  },
  {
   "cell_type": "code",
   "execution_count": 2,
   "id": "1f26e91d",
   "metadata": {},
   "outputs": [],
   "source": [
    "df_users = pd.read_csv('/datasets/users_go.csv')\n",
    "df_rides_go = pd.read_csv('/datasets/rides_go.csv', parse_dates=['date'])\n",
    "df_subscriptions_go = pd.read_csv('/datasets/subscriptions_go.csv')"
   ]
  },
  {
   "cell_type": "markdown",
   "id": "d14f5240",
   "metadata": {},
   "source": [
    "Изучим общую информацию о каждом датафрейме."
   ]
  },
  {
   "cell_type": "code",
   "execution_count": 3,
   "id": "a449407d",
   "metadata": {},
   "outputs": [
    {
     "data": {
      "text/html": [
       "<div>\n",
       "<style scoped>\n",
       "    .dataframe tbody tr th:only-of-type {\n",
       "        vertical-align: middle;\n",
       "    }\n",
       "\n",
       "    .dataframe tbody tr th {\n",
       "        vertical-align: top;\n",
       "    }\n",
       "\n",
       "    .dataframe thead th {\n",
       "        text-align: right;\n",
       "    }\n",
       "</style>\n",
       "<table border=\"1\" class=\"dataframe\">\n",
       "  <thead>\n",
       "    <tr style=\"text-align: right;\">\n",
       "      <th></th>\n",
       "      <th>user_id</th>\n",
       "      <th>name</th>\n",
       "      <th>age</th>\n",
       "      <th>city</th>\n",
       "      <th>subscription_type</th>\n",
       "    </tr>\n",
       "  </thead>\n",
       "  <tbody>\n",
       "    <tr>\n",
       "      <th>0</th>\n",
       "      <td>1</td>\n",
       "      <td>Кира</td>\n",
       "      <td>22</td>\n",
       "      <td>Тюмень</td>\n",
       "      <td>ultra</td>\n",
       "    </tr>\n",
       "    <tr>\n",
       "      <th>1</th>\n",
       "      <td>2</td>\n",
       "      <td>Станислав</td>\n",
       "      <td>31</td>\n",
       "      <td>Омск</td>\n",
       "      <td>ultra</td>\n",
       "    </tr>\n",
       "    <tr>\n",
       "      <th>2</th>\n",
       "      <td>3</td>\n",
       "      <td>Алексей</td>\n",
       "      <td>20</td>\n",
       "      <td>Москва</td>\n",
       "      <td>ultra</td>\n",
       "    </tr>\n",
       "    <tr>\n",
       "      <th>3</th>\n",
       "      <td>4</td>\n",
       "      <td>Константин</td>\n",
       "      <td>26</td>\n",
       "      <td>Ростов-на-Дону</td>\n",
       "      <td>ultra</td>\n",
       "    </tr>\n",
       "    <tr>\n",
       "      <th>4</th>\n",
       "      <td>5</td>\n",
       "      <td>Адель</td>\n",
       "      <td>28</td>\n",
       "      <td>Омск</td>\n",
       "      <td>ultra</td>\n",
       "    </tr>\n",
       "  </tbody>\n",
       "</table>\n",
       "</div>"
      ],
      "text/plain": [
       "   user_id        name  age            city subscription_type\n",
       "0        1        Кира   22          Тюмень             ultra\n",
       "1        2   Станислав   31            Омск             ultra\n",
       "2        3     Алексей   20          Москва             ultra\n",
       "3        4  Константин   26  Ростов-на-Дону             ultra\n",
       "4        5       Адель   28            Омск             ultra"
      ]
     },
     "execution_count": 3,
     "metadata": {},
     "output_type": "execute_result"
    }
   ],
   "source": [
    "df_users.head()"
   ]
  },
  {
   "cell_type": "code",
   "execution_count": 4,
   "id": "802f13f2",
   "metadata": {
    "scrolled": true
   },
   "outputs": [
    {
     "name": "stdout",
     "output_type": "stream",
     "text": [
      "<class 'pandas.core.frame.DataFrame'>\n",
      "RangeIndex: 1565 entries, 0 to 1564\n",
      "Data columns (total 5 columns):\n",
      " #   Column             Non-Null Count  Dtype \n",
      "---  ------             --------------  ----- \n",
      " 0   user_id            1565 non-null   int64 \n",
      " 1   name               1565 non-null   object\n",
      " 2   age                1565 non-null   int64 \n",
      " 3   city               1565 non-null   object\n",
      " 4   subscription_type  1565 non-null   object\n",
      "dtypes: int64(2), object(3)\n",
      "memory usage: 61.3+ KB\n"
     ]
    }
   ],
   "source": [
    "df_users.info()"
   ]
  },
  {
   "cell_type": "code",
   "execution_count": 5,
   "id": "4b7ef4a3",
   "metadata": {},
   "outputs": [
    {
     "data": {
      "text/html": [
       "<div>\n",
       "<style scoped>\n",
       "    .dataframe tbody tr th:only-of-type {\n",
       "        vertical-align: middle;\n",
       "    }\n",
       "\n",
       "    .dataframe tbody tr th {\n",
       "        vertical-align: top;\n",
       "    }\n",
       "\n",
       "    .dataframe thead th {\n",
       "        text-align: right;\n",
       "    }\n",
       "</style>\n",
       "<table border=\"1\" class=\"dataframe\">\n",
       "  <thead>\n",
       "    <tr style=\"text-align: right;\">\n",
       "      <th></th>\n",
       "      <th>user_id</th>\n",
       "      <th>distance</th>\n",
       "      <th>duration</th>\n",
       "      <th>date</th>\n",
       "    </tr>\n",
       "  </thead>\n",
       "  <tbody>\n",
       "    <tr>\n",
       "      <th>0</th>\n",
       "      <td>1</td>\n",
       "      <td>4409.919140</td>\n",
       "      <td>25.599769</td>\n",
       "      <td>2021-01-01</td>\n",
       "    </tr>\n",
       "    <tr>\n",
       "      <th>1</th>\n",
       "      <td>1</td>\n",
       "      <td>2617.592153</td>\n",
       "      <td>15.816871</td>\n",
       "      <td>2021-01-18</td>\n",
       "    </tr>\n",
       "    <tr>\n",
       "      <th>2</th>\n",
       "      <td>1</td>\n",
       "      <td>754.159807</td>\n",
       "      <td>6.232113</td>\n",
       "      <td>2021-04-20</td>\n",
       "    </tr>\n",
       "    <tr>\n",
       "      <th>3</th>\n",
       "      <td>1</td>\n",
       "      <td>2694.783254</td>\n",
       "      <td>18.511000</td>\n",
       "      <td>2021-08-11</td>\n",
       "    </tr>\n",
       "    <tr>\n",
       "      <th>4</th>\n",
       "      <td>1</td>\n",
       "      <td>4028.687306</td>\n",
       "      <td>26.265803</td>\n",
       "      <td>2021-08-28</td>\n",
       "    </tr>\n",
       "  </tbody>\n",
       "</table>\n",
       "</div>"
      ],
      "text/plain": [
       "   user_id     distance   duration       date\n",
       "0        1  4409.919140  25.599769 2021-01-01\n",
       "1        1  2617.592153  15.816871 2021-01-18\n",
       "2        1   754.159807   6.232113 2021-04-20\n",
       "3        1  2694.783254  18.511000 2021-08-11\n",
       "4        1  4028.687306  26.265803 2021-08-28"
      ]
     },
     "execution_count": 5,
     "metadata": {},
     "output_type": "execute_result"
    }
   ],
   "source": [
    "df_rides_go.head()"
   ]
  },
  {
   "cell_type": "code",
   "execution_count": 6,
   "id": "8b959d2c",
   "metadata": {},
   "outputs": [
    {
     "name": "stdout",
     "output_type": "stream",
     "text": [
      "<class 'pandas.core.frame.DataFrame'>\n",
      "RangeIndex: 18068 entries, 0 to 18067\n",
      "Data columns (total 4 columns):\n",
      " #   Column    Non-Null Count  Dtype         \n",
      "---  ------    --------------  -----         \n",
      " 0   user_id   18068 non-null  int64         \n",
      " 1   distance  18068 non-null  float64       \n",
      " 2   duration  18068 non-null  float64       \n",
      " 3   date      18068 non-null  datetime64[ns]\n",
      "dtypes: datetime64[ns](1), float64(2), int64(1)\n",
      "memory usage: 564.8 KB\n"
     ]
    }
   ],
   "source": [
    "df_rides_go.info()"
   ]
  },
  {
   "cell_type": "code",
   "execution_count": 7,
   "id": "66000a9d",
   "metadata": {},
   "outputs": [
    {
     "data": {
      "text/html": [
       "<div>\n",
       "<style scoped>\n",
       "    .dataframe tbody tr th:only-of-type {\n",
       "        vertical-align: middle;\n",
       "    }\n",
       "\n",
       "    .dataframe tbody tr th {\n",
       "        vertical-align: top;\n",
       "    }\n",
       "\n",
       "    .dataframe thead th {\n",
       "        text-align: right;\n",
       "    }\n",
       "</style>\n",
       "<table border=\"1\" class=\"dataframe\">\n",
       "  <thead>\n",
       "    <tr style=\"text-align: right;\">\n",
       "      <th></th>\n",
       "      <th>subscription_type</th>\n",
       "      <th>minute_price</th>\n",
       "      <th>start_ride_price</th>\n",
       "      <th>subscription_fee</th>\n",
       "    </tr>\n",
       "  </thead>\n",
       "  <tbody>\n",
       "    <tr>\n",
       "      <th>0</th>\n",
       "      <td>free</td>\n",
       "      <td>8</td>\n",
       "      <td>50</td>\n",
       "      <td>0</td>\n",
       "    </tr>\n",
       "    <tr>\n",
       "      <th>1</th>\n",
       "      <td>ultra</td>\n",
       "      <td>6</td>\n",
       "      <td>0</td>\n",
       "      <td>199</td>\n",
       "    </tr>\n",
       "  </tbody>\n",
       "</table>\n",
       "</div>"
      ],
      "text/plain": [
       "  subscription_type  minute_price  start_ride_price  subscription_fee\n",
       "0              free             8                50                 0\n",
       "1             ultra             6                 0               199"
      ]
     },
     "execution_count": 7,
     "metadata": {},
     "output_type": "execute_result"
    }
   ],
   "source": [
    "df_subscriptions_go.head()"
   ]
  },
  {
   "cell_type": "code",
   "execution_count": 8,
   "id": "3c950262",
   "metadata": {},
   "outputs": [
    {
     "name": "stdout",
     "output_type": "stream",
     "text": [
      "<class 'pandas.core.frame.DataFrame'>\n",
      "RangeIndex: 2 entries, 0 to 1\n",
      "Data columns (total 4 columns):\n",
      " #   Column             Non-Null Count  Dtype \n",
      "---  ------             --------------  ----- \n",
      " 0   subscription_type  2 non-null      object\n",
      " 1   minute_price       2 non-null      int64 \n",
      " 2   start_ride_price   2 non-null      int64 \n",
      " 3   subscription_fee   2 non-null      int64 \n",
      "dtypes: int64(3), object(1)\n",
      "memory usage: 192.0+ bytes\n"
     ]
    }
   ],
   "source": [
    "df_subscriptions_go.info()"
   ]
  },
  {
   "cell_type": "markdown",
   "id": "c42cbe00",
   "metadata": {},
   "source": [
    "## Предобработка данных"
   ]
  },
  {
   "cell_type": "markdown",
   "id": "15cca982",
   "metadata": {},
   "source": [
    "Опираясь на полученную о каждом датафрейме общую информацию, можно предварительно сделать следующие выводы: пропусков в данных не наблюдается."
   ]
  },
  {
   "cell_type": "markdown",
   "id": "03cf6e8c",
   "metadata": {},
   "source": [
    "Проверим наличие пропущенных значений и дубликатов."
   ]
  },
  {
   "cell_type": "markdown",
   "id": "1d489b8b",
   "metadata": {},
   "source": [
    "- для датафрейма **df_user**"
   ]
  },
  {
   "cell_type": "code",
   "execution_count": 9,
   "id": "1b271cea",
   "metadata": {},
   "outputs": [
    {
     "data": {
      "text/plain": [
       "0       False\n",
       "1       False\n",
       "2       False\n",
       "3       False\n",
       "4       False\n",
       "        ...  \n",
       "1560     True\n",
       "1561     True\n",
       "1562     True\n",
       "1563     True\n",
       "1564     True\n",
       "Length: 1565, dtype: bool"
      ]
     },
     "execution_count": 9,
     "metadata": {},
     "output_type": "execute_result"
    }
   ],
   "source": [
    "# Проверим датафрейм на наличие строк-дубликатов.\n",
    "df_users.duplicated()"
   ]
  },
  {
   "cell_type": "code",
   "execution_count": 10,
   "id": "00c242d9",
   "metadata": {
    "scrolled": true
   },
   "outputs": [
    {
     "data": {
      "text/plain": [
       "user_id  name       age  city            subscription_type\n",
       "1        Кира       22   Тюмень          ultra                1\n",
       "1020     Камилла    32   Москва          free                 1\n",
       "1029     Игорь      21   Краснодар       free                 1\n",
       "1028     Вадим      17   Сочи            free                 1\n",
       "1027     Мария      21   Сочи            free                 1\n",
       "                                                             ..\n",
       "510      Роман      24   Ростов-на-Дону  ultra                1\n",
       "509      Ян         29   Москва          ultra                1\n",
       "508      Станислав  15   Тюмень          ultra                1\n",
       "507      Эвелина    27   Пятигорск       ultra                1\n",
       "1534     Альберт    25   Краснодар       free                 1\n",
       "Length: 1534, dtype: int64"
      ]
     },
     "execution_count": 10,
     "metadata": {},
     "output_type": "execute_result"
    }
   ],
   "source": [
    "# Удалим дубликаты\n",
    "df_users = df_users.drop_duplicates(keep='first')\n",
    "df_users.value_counts()"
   ]
  },
  {
   "cell_type": "code",
   "execution_count": 11,
   "id": "966843ad",
   "metadata": {},
   "outputs": [
    {
     "data": {
      "text/plain": [
       "array(['ultra', 'free'], dtype=object)"
      ]
     },
     "execution_count": 11,
     "metadata": {},
     "output_type": "execute_result"
    }
   ],
   "source": [
    "# Проверим наличие пропусков не стандартного типа данных в столбце 'subscription_type'\n",
    "df_users['subscription_type'].unique()"
   ]
  },
  {
   "cell_type": "markdown",
   "id": "f5df7921",
   "metadata": {},
   "source": [
    "- для датафрейма **df_rides_go**"
   ]
  },
  {
   "cell_type": "code",
   "execution_count": 12,
   "id": "c19780d6",
   "metadata": {},
   "outputs": [
    {
     "data": {
      "text/plain": [
       "user_id  distance     duration   date      \n",
       "1        748.690645   15.041884  2021-11-22    1\n",
       "1105     3232.037291  19.120140  2021-02-24    1\n",
       "         4661.122393  21.159450  2021-03-25    1\n",
       "         4468.509613  12.937019  2021-11-28    1\n",
       "         4057.692285  21.695055  2021-06-05    1\n",
       "                                              ..\n",
       "645      4040.109793  17.100274  2021-11-26    1\n",
       "646      2635.251399  11.081349  2021-09-06    1\n",
       "         2853.140708  23.699278  2021-01-28    1\n",
       "         3442.376310  22.753041  2021-03-17    1\n",
       "1534     4928.173852  22.560373  2021-09-13    1\n",
       "Length: 18068, dtype: int64"
      ]
     },
     "execution_count": 12,
     "metadata": {},
     "output_type": "execute_result"
    }
   ],
   "source": [
    "# Проверим датафрейм на наличие строк-дубликатов.\n",
    "df_rides_go.value_counts()"
   ]
  },
  {
   "cell_type": "markdown",
   "id": "6204017c",
   "metadata": {},
   "source": [
    "Все возможные пропуски и дубликаты были рассмотрены и удалены. В остальных случаях на основе общей информации о датафреймах, анализируя данные в них, соответсвие типов данных столбцам датафрейма, сравнивая количество строк датафрейма и количество значений non-null, можно сделать вывод, что более этого датафреймы в предобработке не нуждаются."
   ]
  },
  {
   "cell_type": "markdown",
   "id": "047ae886",
   "metadata": {},
   "source": [
    "Создадим новый столбец с номером месяца на основе столбца date."
   ]
  },
  {
   "cell_type": "code",
   "execution_count": 13,
   "id": "f76b6214",
   "metadata": {},
   "outputs": [
    {
     "data": {
      "text/html": [
       "<div>\n",
       "<style scoped>\n",
       "    .dataframe tbody tr th:only-of-type {\n",
       "        vertical-align: middle;\n",
       "    }\n",
       "\n",
       "    .dataframe tbody tr th {\n",
       "        vertical-align: top;\n",
       "    }\n",
       "\n",
       "    .dataframe thead th {\n",
       "        text-align: right;\n",
       "    }\n",
       "</style>\n",
       "<table border=\"1\" class=\"dataframe\">\n",
       "  <thead>\n",
       "    <tr style=\"text-align: right;\">\n",
       "      <th></th>\n",
       "      <th>user_id</th>\n",
       "      <th>distance</th>\n",
       "      <th>duration</th>\n",
       "      <th>date</th>\n",
       "      <th>month</th>\n",
       "    </tr>\n",
       "  </thead>\n",
       "  <tbody>\n",
       "    <tr>\n",
       "      <th>0</th>\n",
       "      <td>1</td>\n",
       "      <td>4409.919140</td>\n",
       "      <td>25.599769</td>\n",
       "      <td>2021-01-01</td>\n",
       "      <td>1</td>\n",
       "    </tr>\n",
       "    <tr>\n",
       "      <th>1</th>\n",
       "      <td>1</td>\n",
       "      <td>2617.592153</td>\n",
       "      <td>15.816871</td>\n",
       "      <td>2021-01-18</td>\n",
       "      <td>1</td>\n",
       "    </tr>\n",
       "    <tr>\n",
       "      <th>2</th>\n",
       "      <td>1</td>\n",
       "      <td>754.159807</td>\n",
       "      <td>6.232113</td>\n",
       "      <td>2021-04-20</td>\n",
       "      <td>4</td>\n",
       "    </tr>\n",
       "    <tr>\n",
       "      <th>3</th>\n",
       "      <td>1</td>\n",
       "      <td>2694.783254</td>\n",
       "      <td>18.511000</td>\n",
       "      <td>2021-08-11</td>\n",
       "      <td>8</td>\n",
       "    </tr>\n",
       "    <tr>\n",
       "      <th>4</th>\n",
       "      <td>1</td>\n",
       "      <td>4028.687306</td>\n",
       "      <td>26.265803</td>\n",
       "      <td>2021-08-28</td>\n",
       "      <td>8</td>\n",
       "    </tr>\n",
       "  </tbody>\n",
       "</table>\n",
       "</div>"
      ],
      "text/plain": [
       "   user_id     distance   duration       date  month\n",
       "0        1  4409.919140  25.599769 2021-01-01      1\n",
       "1        1  2617.592153  15.816871 2021-01-18      1\n",
       "2        1   754.159807   6.232113 2021-04-20      4\n",
       "3        1  2694.783254  18.511000 2021-08-11      8\n",
       "4        1  4028.687306  26.265803 2021-08-28      8"
      ]
     },
     "execution_count": 13,
     "metadata": {},
     "output_type": "execute_result"
    }
   ],
   "source": [
    "df_rides_go['month'] = pd.DatetimeIndex(df_rides_go['date']).month\n",
    "df_rides_go.head()"
   ]
  },
  {
   "cell_type": "markdown",
   "id": "388d9579",
   "metadata": {},
   "source": [
    "## Исследовательский анализ данных"
   ]
  },
  {
   "cell_type": "markdown",
   "id": "60e64094",
   "metadata": {},
   "source": [
    "Опишим и визуализируем общую информацию о пользователях и поездках."
   ]
  },
  {
   "cell_type": "markdown",
   "id": "dc369113",
   "metadata": {},
   "source": [
    "- частота встречаемости городов"
   ]
  },
  {
   "cell_type": "code",
   "execution_count": 14,
   "id": "7ce04762",
   "metadata": {},
   "outputs": [
    {
     "data": {
      "text/plain": [
       "Пятигорск         219\n",
       "Екатеринбург      204\n",
       "Ростов-на-Дону    198\n",
       "Краснодар         193\n",
       "Сочи              189\n",
       "Омск              183\n",
       "Тюмень            180\n",
       "Москва            168\n",
       "Name: city, dtype: int64"
      ]
     },
     "execution_count": 14,
     "metadata": {},
     "output_type": "execute_result"
    }
   ],
   "source": [
    "df_users['city'].value_counts()"
   ]
  },
  {
   "cell_type": "code",
   "execution_count": 15,
   "id": "5fa92f76",
   "metadata": {},
   "outputs": [
    {
     "data": {
      "text/plain": [
       "Text(0, 0.5, 'Частота встречаемости')"
      ]
     },
     "execution_count": 15,
     "metadata": {},
     "output_type": "execute_result"
    },
    {
     "data": {
      "image/png": "[encoded data removed]",
      "text/plain": [
       "<Figure size 432x288 with 1 Axes>"
      ]
     },
     "metadata": {
      "needs_background": "light"
     },
     "output_type": "display_data"
    }
   ],
   "source": [
    "df_users.groupby('city')['user_id'].count().sort_values().plot.bar()\n",
    "plt.title(\"Частота встречаемости городов\")\n",
    "plt.ylabel('Частота встречаемости')"
   ]
  },
  {
   "cell_type": "markdown",
   "id": "21c5a2b7",
   "metadata": {},
   "source": [
    "Наиболее часто встречаемым городом является Пятигорск, наименее встречаемым - Москва."
   ]
  },
  {
   "cell_type": "markdown",
   "id": "bfca2a20",
   "metadata": {},
   "source": [
    "- соотношение пользователей с подпиской и без подписки"
   ]
  },
  {
   "cell_type": "code",
   "execution_count": 16,
   "id": "56c3b41f",
   "metadata": {},
   "outputs": [
    {
     "data": {
      "text/plain": [
       "free     0.544329\n",
       "ultra    0.455671\n",
       "Name: subscription_type, dtype: float64"
      ]
     },
     "execution_count": 16,
     "metadata": {},
     "output_type": "execute_result"
    }
   ],
   "source": [
    "df_users['subscription_type'].value_counts(normalize=True)"
   ]
  },
  {
   "cell_type": "code",
   "execution_count": 17,
   "id": "ea8db17b",
   "metadata": {},
   "outputs": [
    {
     "data": {
      "text/plain": [
       "<Figure size 720x576 with 0 Axes>"
      ]
     },
     "execution_count": 17,
     "metadata": {},
     "output_type": "execute_result"
    },
    {
     "data": {
      "image/png": "[encoded data removed]",
      "text/plain": [
       "<Figure size 432x288 with 1 Axes>"
      ]
     },
     "metadata": {},
     "output_type": "display_data"
    },
    {
     "data": {
      "text/plain": [
       "<Figure size 720x576 with 0 Axes>"
      ]
     },
     "metadata": {},
     "output_type": "display_data"
    }
   ],
   "source": [
    "df_users.groupby('subscription_type')['user_id'].count().plot.pie()\n",
    "plt.title('Соотношение пользователей с подпиской и без подписки')\n",
    "plt.figure(figsize=(10, 8))"
   ]
  },
  {
   "cell_type": "markdown",
   "id": "8b53fd16",
   "metadata": {},
   "source": [
    "Преобладает количество пользователей без подписки."
   ]
  },
  {
   "cell_type": "markdown",
   "id": "5c46f580",
   "metadata": {},
   "source": [
    "- возраст пользователей"
   ]
  },
  {
   "cell_type": "code",
   "execution_count": 18,
   "id": "13abc5e3",
   "metadata": {
    "scrolled": false
   },
   "outputs": [
    {
     "data": {
      "text/plain": [
       "Text(0, 0.5, 'Количество пользователей')"
      ]
     },
     "execution_count": 18,
     "metadata": {},
     "output_type": "execute_result"
    },
    {
     "data": {
      "image/png": "[encoded data removed]",
      "text/plain": [
       "<Figure size 720x576 with 1 Axes>"
      ]
     },
     "metadata": {
      "needs_background": "light"
     },
     "output_type": "display_data"
    }
   ],
   "source": [
    "df_users.hist('age', bins=30, figsize=(10, 8))\n",
    "plt.title('Возраст пользователей')\n",
    "plt.ylabel('Количество пользователей')"
   ]
  },
  {
   "cell_type": "code",
   "execution_count": 19,
   "id": "b5c55f8b",
   "metadata": {},
   "outputs": [
    {
     "data": {
      "text/plain": [
       "array([12, 13, 14, 15, 16, 17, 18, 19, 20, 21, 22, 23, 24, 25, 26, 27, 28,\n",
       "       29, 30, 31, 32, 33, 34, 35, 36, 37, 38, 39, 43])"
      ]
     },
     "execution_count": 19,
     "metadata": {},
     "output_type": "execute_result"
    }
   ],
   "source": [
    "df_users['age'].sort_values().unique()"
   ]
  },
  {
   "cell_type": "code",
   "execution_count": 20,
   "id": "ab4cc2a2",
   "metadata": {},
   "outputs": [
    {
     "data": {
      "text/plain": [
       "count    1534.000000\n",
       "mean       24.903520\n",
       "std         4.572367\n",
       "min        12.000000\n",
       "25%        22.000000\n",
       "50%        25.000000\n",
       "75%        28.000000\n",
       "max        43.000000\n",
       "Name: age, dtype: float64"
      ]
     },
     "execution_count": 20,
     "metadata": {},
     "output_type": "execute_result"
    }
   ],
   "source": [
    "df_users['age'].describe()"
   ]
  },
  {
   "cell_type": "markdown",
   "id": "d0c1ba4b",
   "metadata": {},
   "source": [
    "Чаще всего совершают поездки люди в возрасте 25 лет. Услугами сервиса пользуются люди от 12 до 43 лет."
   ]
  },
  {
   "cell_type": "markdown",
   "id": "9852dede",
   "metadata": {},
   "source": [
    "- расстояние, которое пользователь преодолел за одну поездку"
   ]
  },
  {
   "cell_type": "code",
   "execution_count": 21,
   "id": "25467814",
   "metadata": {},
   "outputs": [
    {
     "data": {
      "text/plain": [
       "Text(0, 0.5, 'Количество пользователей')"
      ]
     },
     "execution_count": 21,
     "metadata": {},
     "output_type": "execute_result"
    },
    {
     "data": {
      "image/png": "[encoded data removed]",
      "text/plain": [
       "<Figure size 720x576 with 1 Axes>"
      ]
     },
     "metadata": {
      "needs_background": "light"
     },
     "output_type": "display_data"
    }
   ],
   "source": [
    "df_rides_go.hist('distance', bins=50, figsize=(10, 8))\n",
    "plt.title('Расстояние, которое пользователь преодолел за одну поездку')\n",
    "plt.ylabel('Количество пользователей')\n"
   ]
  },
  {
   "cell_type": "code",
   "execution_count": 22,
   "id": "fb439a92",
   "metadata": {},
   "outputs": [
    {
     "data": {
      "text/plain": [
       "array([8.55682926e-01, 2.57078689e+00, 4.32950578e+00, ...,\n",
       "       6.90849134e+03, 7.06600377e+03, 7.21100774e+03])"
      ]
     },
     "execution_count": 22,
     "metadata": {},
     "output_type": "execute_result"
    }
   ],
   "source": [
    "df_rides_go['distance'].sort_values().unique()"
   ]
  },
  {
   "cell_type": "markdown",
   "id": "a46a7606",
   "metadata": {},
   "source": [
    "На первый взгляд нельзя назвать распрделение нормальным, так как наблюдаются два пика. Также есть сомнения относительно небольших расстояний. Построим \"ящик с усами\"."
   ]
  },
  {
   "cell_type": "code",
   "execution_count": 23,
   "id": "0f2daeea",
   "metadata": {},
   "outputs": [
    {
     "data": {
      "text/plain": [
       "<AxesSubplot:>"
      ]
     },
     "execution_count": 23,
     "metadata": {},
     "output_type": "execute_result"
    },
    {
     "data": {
      "image/png": "[encoded data removed]",
      "text/plain": [
       "<Figure size 432x288 with 1 Axes>"
      ]
     },
     "metadata": {
      "needs_background": "light"
     },
     "output_type": "display_data"
    }
   ],
   "source": [
    "df_rides_go['distance'].plot.box()"
   ]
  },
  {
   "cell_type": "markdown",
   "id": "b6b1c8cb",
   "metadata": {},
   "source": [
    "Рассмотрим подробнее поездки на расстояния меньше 900 м и обратим внимание на их продолжительность."
   ]
  },
  {
   "cell_type": "code",
   "execution_count": 24,
   "id": "62e77e35",
   "metadata": {},
   "outputs": [
    {
     "data": {
      "text/html": [
       "<div>\n",
       "<style scoped>\n",
       "    .dataframe tbody tr th:only-of-type {\n",
       "        vertical-align: middle;\n",
       "    }\n",
       "\n",
       "    .dataframe tbody tr th {\n",
       "        vertical-align: top;\n",
       "    }\n",
       "\n",
       "    .dataframe thead th {\n",
       "        text-align: right;\n",
       "    }\n",
       "</style>\n",
       "<table border=\"1\" class=\"dataframe\">\n",
       "  <thead>\n",
       "    <tr style=\"text-align: right;\">\n",
       "      <th></th>\n",
       "      <th>distance</th>\n",
       "      <th>duration</th>\n",
       "    </tr>\n",
       "  </thead>\n",
       "  <tbody>\n",
       "    <tr>\n",
       "      <th>11555</th>\n",
       "      <td>0.855683</td>\n",
       "      <td>10.001902</td>\n",
       "    </tr>\n",
       "    <tr>\n",
       "      <th>9541</th>\n",
       "      <td>2.570787</td>\n",
       "      <td>3.011018</td>\n",
       "    </tr>\n",
       "    <tr>\n",
       "      <th>13690</th>\n",
       "      <td>4.329506</td>\n",
       "      <td>4.008958</td>\n",
       "    </tr>\n",
       "    <tr>\n",
       "      <th>8658</th>\n",
       "      <td>6.784447</td>\n",
       "      <td>6.015656</td>\n",
       "    </tr>\n",
       "    <tr>\n",
       "      <th>7841</th>\n",
       "      <td>7.097072</td>\n",
       "      <td>10.026614</td>\n",
       "    </tr>\n",
       "    <tr>\n",
       "      <th>...</th>\n",
       "      <td>...</td>\n",
       "      <td>...</td>\n",
       "    </tr>\n",
       "    <tr>\n",
       "      <th>3198</th>\n",
       "      <td>896.425316</td>\n",
       "      <td>8.068674</td>\n",
       "    </tr>\n",
       "    <tr>\n",
       "      <th>935</th>\n",
       "      <td>897.049773</td>\n",
       "      <td>8.832789</td>\n",
       "    </tr>\n",
       "    <tr>\n",
       "      <th>12173</th>\n",
       "      <td>897.148133</td>\n",
       "      <td>7.563280</td>\n",
       "    </tr>\n",
       "    <tr>\n",
       "      <th>9101</th>\n",
       "      <td>899.137243</td>\n",
       "      <td>12.157929</td>\n",
       "    </tr>\n",
       "    <tr>\n",
       "      <th>12359</th>\n",
       "      <td>899.756406</td>\n",
       "      <td>6.999188</td>\n",
       "    </tr>\n",
       "  </tbody>\n",
       "</table>\n",
       "<p>1233 rows × 2 columns</p>\n",
       "</div>"
      ],
      "text/plain": [
       "         distance   duration\n",
       "11555    0.855683  10.001902\n",
       "9541     2.570787   3.011018\n",
       "13690    4.329506   4.008958\n",
       "8658     6.784447   6.015656\n",
       "7841     7.097072  10.026614\n",
       "...           ...        ...\n",
       "3198   896.425316   8.068674\n",
       "935    897.049773   8.832789\n",
       "12173  897.148133   7.563280\n",
       "9101   899.137243  12.157929\n",
       "12359  899.756406   6.999188\n",
       "\n",
       "[1233 rows x 2 columns]"
      ]
     },
     "execution_count": 24,
     "metadata": {},
     "output_type": "execute_result"
    }
   ],
   "source": [
    "df_rides_go.query('distance < 900')[['distance', 'duration']].sort_values('distance')"
   ]
  },
  {
   "cell_type": "markdown",
   "id": "b0c2fd0c",
   "metadata": {},
   "source": [
    "Время, за которое были преодолены подозрительно небольшие расстояния, вполне им соответствует. \n",
    "\n",
    "Такие маленькие дистанции могут быть обусловлены, к примеру, ситуациями, когда \"поездка\" была начата, но у пользователя возникли какие-то технические проблемы/сомнения, из-за чего она была прервана."
   ]
  },
  {
   "cell_type": "markdown",
   "id": "0bfd44d4",
   "metadata": {},
   "source": [
    "- продолжительность поездок"
   ]
  },
  {
   "cell_type": "code",
   "execution_count": 25,
   "id": "370d3a3d",
   "metadata": {},
   "outputs": [
    {
     "data": {
      "text/plain": [
       "Text(0, 0.5, 'Количество пользователей')"
      ]
     },
     "execution_count": 25,
     "metadata": {},
     "output_type": "execute_result"
    },
    {
     "data": {
      "image/png": "[encoded data removed]",
      "text/plain": [
       "<Figure size 720x576 with 1 Axes>"
      ]
     },
     "metadata": {
      "needs_background": "light"
     },
     "output_type": "display_data"
    }
   ],
   "source": [
    "df_rides_go.hist('duration', bins=50, figsize=(10, 8))\n",
    "plt.title('Продолжительность поездок')\n",
    "plt.ylabel('Количество пользователей')"
   ]
  },
  {
   "cell_type": "markdown",
   "id": "f3c14957",
   "metadata": {},
   "source": [
    "Продолжительность поездок распределена нормально. Наиболее частое время использования - 15-20 минут."
   ]
  },
  {
   "cell_type": "markdown",
   "id": "94dd35b8",
   "metadata": {},
   "source": [
    "## Объединение данных"
   ]
  },
  {
   "cell_type": "markdown",
   "id": "bcba2409",
   "metadata": {},
   "source": [
    "Объединим данные о пользователях, поездках и подписках в один датафрейм."
   ]
  },
  {
   "cell_type": "code",
   "execution_count": 26,
   "id": "b56bc856",
   "metadata": {
    "scrolled": false
   },
   "outputs": [
    {
     "data": {
      "text/html": [
       "<div>\n",
       "<style scoped>\n",
       "    .dataframe tbody tr th:only-of-type {\n",
       "        vertical-align: middle;\n",
       "    }\n",
       "\n",
       "    .dataframe tbody tr th {\n",
       "        vertical-align: top;\n",
       "    }\n",
       "\n",
       "    .dataframe thead th {\n",
       "        text-align: right;\n",
       "    }\n",
       "</style>\n",
       "<table border=\"1\" class=\"dataframe\">\n",
       "  <thead>\n",
       "    <tr style=\"text-align: right;\">\n",
       "      <th></th>\n",
       "      <th>user_id</th>\n",
       "      <th>distance</th>\n",
       "      <th>duration</th>\n",
       "      <th>date</th>\n",
       "      <th>month</th>\n",
       "      <th>name</th>\n",
       "      <th>age</th>\n",
       "      <th>city</th>\n",
       "      <th>subscription_type</th>\n",
       "    </tr>\n",
       "  </thead>\n",
       "  <tbody>\n",
       "    <tr>\n",
       "      <th>0</th>\n",
       "      <td>1</td>\n",
       "      <td>4409.919140</td>\n",
       "      <td>25.599769</td>\n",
       "      <td>2021-01-01</td>\n",
       "      <td>1</td>\n",
       "      <td>Кира</td>\n",
       "      <td>22</td>\n",
       "      <td>Тюмень</td>\n",
       "      <td>ultra</td>\n",
       "    </tr>\n",
       "    <tr>\n",
       "      <th>1</th>\n",
       "      <td>1</td>\n",
       "      <td>2617.592153</td>\n",
       "      <td>15.816871</td>\n",
       "      <td>2021-01-18</td>\n",
       "      <td>1</td>\n",
       "      <td>Кира</td>\n",
       "      <td>22</td>\n",
       "      <td>Тюмень</td>\n",
       "      <td>ultra</td>\n",
       "    </tr>\n",
       "    <tr>\n",
       "      <th>2</th>\n",
       "      <td>1</td>\n",
       "      <td>754.159807</td>\n",
       "      <td>6.232113</td>\n",
       "      <td>2021-04-20</td>\n",
       "      <td>4</td>\n",
       "      <td>Кира</td>\n",
       "      <td>22</td>\n",
       "      <td>Тюмень</td>\n",
       "      <td>ultra</td>\n",
       "    </tr>\n",
       "    <tr>\n",
       "      <th>3</th>\n",
       "      <td>1</td>\n",
       "      <td>2694.783254</td>\n",
       "      <td>18.511000</td>\n",
       "      <td>2021-08-11</td>\n",
       "      <td>8</td>\n",
       "      <td>Кира</td>\n",
       "      <td>22</td>\n",
       "      <td>Тюмень</td>\n",
       "      <td>ultra</td>\n",
       "    </tr>\n",
       "    <tr>\n",
       "      <th>4</th>\n",
       "      <td>1</td>\n",
       "      <td>4028.687306</td>\n",
       "      <td>26.265803</td>\n",
       "      <td>2021-08-28</td>\n",
       "      <td>8</td>\n",
       "      <td>Кира</td>\n",
       "      <td>22</td>\n",
       "      <td>Тюмень</td>\n",
       "      <td>ultra</td>\n",
       "    </tr>\n",
       "    <tr>\n",
       "      <th>...</th>\n",
       "      <td>...</td>\n",
       "      <td>...</td>\n",
       "      <td>...</td>\n",
       "      <td>...</td>\n",
       "      <td>...</td>\n",
       "      <td>...</td>\n",
       "      <td>...</td>\n",
       "      <td>...</td>\n",
       "      <td>...</td>\n",
       "    </tr>\n",
       "    <tr>\n",
       "      <th>18063</th>\n",
       "      <td>1534</td>\n",
       "      <td>3781.098080</td>\n",
       "      <td>19.822962</td>\n",
       "      <td>2021-11-04</td>\n",
       "      <td>11</td>\n",
       "      <td>Альберт</td>\n",
       "      <td>25</td>\n",
       "      <td>Краснодар</td>\n",
       "      <td>free</td>\n",
       "    </tr>\n",
       "    <tr>\n",
       "      <th>18064</th>\n",
       "      <td>1534</td>\n",
       "      <td>2840.423057</td>\n",
       "      <td>21.409799</td>\n",
       "      <td>2021-11-16</td>\n",
       "      <td>11</td>\n",
       "      <td>Альберт</td>\n",
       "      <td>25</td>\n",
       "      <td>Краснодар</td>\n",
       "      <td>free</td>\n",
       "    </tr>\n",
       "    <tr>\n",
       "      <th>18065</th>\n",
       "      <td>1534</td>\n",
       "      <td>3826.185507</td>\n",
       "      <td>18.435051</td>\n",
       "      <td>2021-11-18</td>\n",
       "      <td>11</td>\n",
       "      <td>Альберт</td>\n",
       "      <td>25</td>\n",
       "      <td>Краснодар</td>\n",
       "      <td>free</td>\n",
       "    </tr>\n",
       "    <tr>\n",
       "      <th>18066</th>\n",
       "      <td>1534</td>\n",
       "      <td>2902.308661</td>\n",
       "      <td>16.674362</td>\n",
       "      <td>2021-11-27</td>\n",
       "      <td>11</td>\n",
       "      <td>Альберт</td>\n",
       "      <td>25</td>\n",
       "      <td>Краснодар</td>\n",
       "      <td>free</td>\n",
       "    </tr>\n",
       "    <tr>\n",
       "      <th>18067</th>\n",
       "      <td>1534</td>\n",
       "      <td>2371.711192</td>\n",
       "      <td>15.893917</td>\n",
       "      <td>2021-12-29</td>\n",
       "      <td>12</td>\n",
       "      <td>Альберт</td>\n",
       "      <td>25</td>\n",
       "      <td>Краснодар</td>\n",
       "      <td>free</td>\n",
       "    </tr>\n",
       "  </tbody>\n",
       "</table>\n",
       "<p>18068 rows × 9 columns</p>\n",
       "</div>"
      ],
      "text/plain": [
       "       user_id     distance   duration       date  month     name  age  \\\n",
       "0            1  4409.919140  25.599769 2021-01-01      1     Кира   22   \n",
       "1            1  2617.592153  15.816871 2021-01-18      1     Кира   22   \n",
       "2            1   754.159807   6.232113 2021-04-20      4     Кира   22   \n",
       "3            1  2694.783254  18.511000 2021-08-11      8     Кира   22   \n",
       "4            1  4028.687306  26.265803 2021-08-28      8     Кира   22   \n",
       "...        ...          ...        ...        ...    ...      ...  ...   \n",
       "18063     1534  3781.098080  19.822962 2021-11-04     11  Альберт   25   \n",
       "18064     1534  2840.423057  21.409799 2021-11-16     11  Альберт   25   \n",
       "18065     1534  3826.185507  18.435051 2021-11-18     11  Альберт   25   \n",
       "18066     1534  2902.308661  16.674362 2021-11-27     11  Альберт   25   \n",
       "18067     1534  2371.711192  15.893917 2021-12-29     12  Альберт   25   \n",
       "\n",
       "            city subscription_type  \n",
       "0         Тюмень             ultra  \n",
       "1         Тюмень             ultra  \n",
       "2         Тюмень             ultra  \n",
       "3         Тюмень             ultra  \n",
       "4         Тюмень             ultra  \n",
       "...          ...               ...  \n",
       "18063  Краснодар              free  \n",
       "18064  Краснодар              free  \n",
       "18065  Краснодар              free  \n",
       "18066  Краснодар              free  \n",
       "18067  Краснодар              free  \n",
       "\n",
       "[18068 rows x 9 columns]"
      ]
     },
     "execution_count": 26,
     "metadata": {},
     "output_type": "execute_result"
    }
   ],
   "source": [
    "df = df_rides_go.merge(df_users, on='user_id', how='left')\n",
    "df"
   ]
  },
  {
   "cell_type": "code",
   "execution_count": 27,
   "id": "c7f8b127",
   "metadata": {
    "scrolled": false
   },
   "outputs": [
    {
     "data": {
      "text/html": [
       "<div>\n",
       "<style scoped>\n",
       "    .dataframe tbody tr th:only-of-type {\n",
       "        vertical-align: middle;\n",
       "    }\n",
       "\n",
       "    .dataframe tbody tr th {\n",
       "        vertical-align: top;\n",
       "    }\n",
       "\n",
       "    .dataframe thead th {\n",
       "        text-align: right;\n",
       "    }\n",
       "</style>\n",
       "<table border=\"1\" class=\"dataframe\">\n",
       "  <thead>\n",
       "    <tr style=\"text-align: right;\">\n",
       "      <th></th>\n",
       "      <th>user_id</th>\n",
       "      <th>distance</th>\n",
       "      <th>duration</th>\n",
       "      <th>date</th>\n",
       "      <th>month</th>\n",
       "      <th>name</th>\n",
       "      <th>age</th>\n",
       "      <th>city</th>\n",
       "      <th>subscription_type</th>\n",
       "      <th>minute_price</th>\n",
       "      <th>start_ride_price</th>\n",
       "      <th>subscription_fee</th>\n",
       "    </tr>\n",
       "  </thead>\n",
       "  <tbody>\n",
       "    <tr>\n",
       "      <th>0</th>\n",
       "      <td>700</td>\n",
       "      <td>2515.690719</td>\n",
       "      <td>14.944286</td>\n",
       "      <td>2021-01-02</td>\n",
       "      <td>1</td>\n",
       "      <td>Айдар</td>\n",
       "      <td>22</td>\n",
       "      <td>Омск</td>\n",
       "      <td>free</td>\n",
       "      <td>8</td>\n",
       "      <td>50</td>\n",
       "      <td>0</td>\n",
       "    </tr>\n",
       "    <tr>\n",
       "      <th>1</th>\n",
       "      <td>700</td>\n",
       "      <td>846.932642</td>\n",
       "      <td>16.234663</td>\n",
       "      <td>2021-02-01</td>\n",
       "      <td>2</td>\n",
       "      <td>Айдар</td>\n",
       "      <td>22</td>\n",
       "      <td>Омск</td>\n",
       "      <td>free</td>\n",
       "      <td>8</td>\n",
       "      <td>50</td>\n",
       "      <td>0</td>\n",
       "    </tr>\n",
       "    <tr>\n",
       "      <th>2</th>\n",
       "      <td>700</td>\n",
       "      <td>4004.434142</td>\n",
       "      <td>20.016628</td>\n",
       "      <td>2021-02-04</td>\n",
       "      <td>2</td>\n",
       "      <td>Айдар</td>\n",
       "      <td>22</td>\n",
       "      <td>Омск</td>\n",
       "      <td>free</td>\n",
       "      <td>8</td>\n",
       "      <td>50</td>\n",
       "      <td>0</td>\n",
       "    </tr>\n",
       "    <tr>\n",
       "      <th>3</th>\n",
       "      <td>700</td>\n",
       "      <td>1205.911290</td>\n",
       "      <td>9.782872</td>\n",
       "      <td>2021-02-10</td>\n",
       "      <td>2</td>\n",
       "      <td>Айдар</td>\n",
       "      <td>22</td>\n",
       "      <td>Омск</td>\n",
       "      <td>free</td>\n",
       "      <td>8</td>\n",
       "      <td>50</td>\n",
       "      <td>0</td>\n",
       "    </tr>\n",
       "    <tr>\n",
       "      <th>4</th>\n",
       "      <td>700</td>\n",
       "      <td>3047.379435</td>\n",
       "      <td>17.427673</td>\n",
       "      <td>2021-02-14</td>\n",
       "      <td>2</td>\n",
       "      <td>Айдар</td>\n",
       "      <td>22</td>\n",
       "      <td>Омск</td>\n",
       "      <td>free</td>\n",
       "      <td>8</td>\n",
       "      <td>50</td>\n",
       "      <td>0</td>\n",
       "    </tr>\n",
       "    <tr>\n",
       "      <th>...</th>\n",
       "      <td>...</td>\n",
       "      <td>...</td>\n",
       "      <td>...</td>\n",
       "      <td>...</td>\n",
       "      <td>...</td>\n",
       "      <td>...</td>\n",
       "      <td>...</td>\n",
       "      <td>...</td>\n",
       "      <td>...</td>\n",
       "      <td>...</td>\n",
       "      <td>...</td>\n",
       "      <td>...</td>\n",
       "    </tr>\n",
       "    <tr>\n",
       "      <th>18063</th>\n",
       "      <td>699</td>\n",
       "      <td>3973.046497</td>\n",
       "      <td>24.671163</td>\n",
       "      <td>2021-08-29</td>\n",
       "      <td>8</td>\n",
       "      <td>Оксана</td>\n",
       "      <td>22</td>\n",
       "      <td>Москва</td>\n",
       "      <td>ultra</td>\n",
       "      <td>6</td>\n",
       "      <td>0</td>\n",
       "      <td>199</td>\n",
       "    </tr>\n",
       "    <tr>\n",
       "      <th>18064</th>\n",
       "      <td>699</td>\n",
       "      <td>3288.702563</td>\n",
       "      <td>15.892886</td>\n",
       "      <td>2021-09-12</td>\n",
       "      <td>9</td>\n",
       "      <td>Оксана</td>\n",
       "      <td>22</td>\n",
       "      <td>Москва</td>\n",
       "      <td>ultra</td>\n",
       "      <td>6</td>\n",
       "      <td>0</td>\n",
       "      <td>199</td>\n",
       "    </tr>\n",
       "    <tr>\n",
       "      <th>18065</th>\n",
       "      <td>699</td>\n",
       "      <td>3076.159348</td>\n",
       "      <td>14.389525</td>\n",
       "      <td>2021-09-26</td>\n",
       "      <td>9</td>\n",
       "      <td>Оксана</td>\n",
       "      <td>22</td>\n",
       "      <td>Москва</td>\n",
       "      <td>ultra</td>\n",
       "      <td>6</td>\n",
       "      <td>0</td>\n",
       "      <td>199</td>\n",
       "    </tr>\n",
       "    <tr>\n",
       "      <th>18066</th>\n",
       "      <td>699</td>\n",
       "      <td>4707.845501</td>\n",
       "      <td>15.839579</td>\n",
       "      <td>2021-10-17</td>\n",
       "      <td>10</td>\n",
       "      <td>Оксана</td>\n",
       "      <td>22</td>\n",
       "      <td>Москва</td>\n",
       "      <td>ultra</td>\n",
       "      <td>6</td>\n",
       "      <td>0</td>\n",
       "      <td>199</td>\n",
       "    </tr>\n",
       "    <tr>\n",
       "      <th>18067</th>\n",
       "      <td>699</td>\n",
       "      <td>3202.890770</td>\n",
       "      <td>25.217345</td>\n",
       "      <td>2021-12-03</td>\n",
       "      <td>12</td>\n",
       "      <td>Оксана</td>\n",
       "      <td>22</td>\n",
       "      <td>Москва</td>\n",
       "      <td>ultra</td>\n",
       "      <td>6</td>\n",
       "      <td>0</td>\n",
       "      <td>199</td>\n",
       "    </tr>\n",
       "  </tbody>\n",
       "</table>\n",
       "<p>18068 rows × 12 columns</p>\n",
       "</div>"
      ],
      "text/plain": [
       "       user_id     distance   duration       date  month    name  age    city  \\\n",
       "0          700  2515.690719  14.944286 2021-01-02      1   Айдар   22    Омск   \n",
       "1          700   846.932642  16.234663 2021-02-01      2   Айдар   22    Омск   \n",
       "2          700  4004.434142  20.016628 2021-02-04      2   Айдар   22    Омск   \n",
       "3          700  1205.911290   9.782872 2021-02-10      2   Айдар   22    Омск   \n",
       "4          700  3047.379435  17.427673 2021-02-14      2   Айдар   22    Омск   \n",
       "...        ...          ...        ...        ...    ...     ...  ...     ...   \n",
       "18063      699  3973.046497  24.671163 2021-08-29      8  Оксана   22  Москва   \n",
       "18064      699  3288.702563  15.892886 2021-09-12      9  Оксана   22  Москва   \n",
       "18065      699  3076.159348  14.389525 2021-09-26      9  Оксана   22  Москва   \n",
       "18066      699  4707.845501  15.839579 2021-10-17     10  Оксана   22  Москва   \n",
       "18067      699  3202.890770  25.217345 2021-12-03     12  Оксана   22  Москва   \n",
       "\n",
       "      subscription_type  minute_price  start_ride_price  subscription_fee  \n",
       "0                  free             8                50                 0  \n",
       "1                  free             8                50                 0  \n",
       "2                  free             8                50                 0  \n",
       "3                  free             8                50                 0  \n",
       "4                  free             8                50                 0  \n",
       "...                 ...           ...               ...               ...  \n",
       "18063             ultra             6                 0               199  \n",
       "18064             ultra             6                 0               199  \n",
       "18065             ultra             6                 0               199  \n",
       "18066             ultra             6                 0               199  \n",
       "18067             ultra             6                 0               199  \n",
       "\n",
       "[18068 rows x 12 columns]"
      ]
     },
     "execution_count": 27,
     "metadata": {},
     "output_type": "execute_result"
    }
   ],
   "source": [
    "df = df.merge(df_subscriptions_go, on='subscription_type', how='right')\n",
    "df"
   ]
  },
  {
   "cell_type": "markdown",
   "id": "73803425",
   "metadata": {},
   "source": [
    "Создадим ещё два датафрейма из датафрейма df:\n",
    "\n",
    "- c данными о пользователях без подписки\n"
   ]
  },
  {
   "cell_type": "code",
   "execution_count": 28,
   "id": "f0d9b8f1",
   "metadata": {},
   "outputs": [
    {
     "data": {
      "text/html": [
       "<div>\n",
       "<style scoped>\n",
       "    .dataframe tbody tr th:only-of-type {\n",
       "        vertical-align: middle;\n",
       "    }\n",
       "\n",
       "    .dataframe tbody tr th {\n",
       "        vertical-align: top;\n",
       "    }\n",
       "\n",
       "    .dataframe thead th {\n",
       "        text-align: right;\n",
       "    }\n",
       "</style>\n",
       "<table border=\"1\" class=\"dataframe\">\n",
       "  <thead>\n",
       "    <tr style=\"text-align: right;\">\n",
       "      <th></th>\n",
       "      <th>user_id</th>\n",
       "      <th>distance</th>\n",
       "      <th>duration</th>\n",
       "      <th>date</th>\n",
       "      <th>month</th>\n",
       "      <th>name</th>\n",
       "      <th>age</th>\n",
       "      <th>city</th>\n",
       "      <th>subscription_type</th>\n",
       "      <th>minute_price</th>\n",
       "      <th>start_ride_price</th>\n",
       "      <th>subscription_fee</th>\n",
       "    </tr>\n",
       "  </thead>\n",
       "  <tbody>\n",
       "    <tr>\n",
       "      <th>0</th>\n",
       "      <td>700</td>\n",
       "      <td>2515.690719</td>\n",
       "      <td>14.944286</td>\n",
       "      <td>2021-01-02</td>\n",
       "      <td>1</td>\n",
       "      <td>Айдар</td>\n",
       "      <td>22</td>\n",
       "      <td>Омск</td>\n",
       "      <td>free</td>\n",
       "      <td>8</td>\n",
       "      <td>50</td>\n",
       "      <td>0</td>\n",
       "    </tr>\n",
       "    <tr>\n",
       "      <th>1</th>\n",
       "      <td>700</td>\n",
       "      <td>846.932642</td>\n",
       "      <td>16.234663</td>\n",
       "      <td>2021-02-01</td>\n",
       "      <td>2</td>\n",
       "      <td>Айдар</td>\n",
       "      <td>22</td>\n",
       "      <td>Омск</td>\n",
       "      <td>free</td>\n",
       "      <td>8</td>\n",
       "      <td>50</td>\n",
       "      <td>0</td>\n",
       "    </tr>\n",
       "    <tr>\n",
       "      <th>2</th>\n",
       "      <td>700</td>\n",
       "      <td>4004.434142</td>\n",
       "      <td>20.016628</td>\n",
       "      <td>2021-02-04</td>\n",
       "      <td>2</td>\n",
       "      <td>Айдар</td>\n",
       "      <td>22</td>\n",
       "      <td>Омск</td>\n",
       "      <td>free</td>\n",
       "      <td>8</td>\n",
       "      <td>50</td>\n",
       "      <td>0</td>\n",
       "    </tr>\n",
       "    <tr>\n",
       "      <th>3</th>\n",
       "      <td>700</td>\n",
       "      <td>1205.911290</td>\n",
       "      <td>9.782872</td>\n",
       "      <td>2021-02-10</td>\n",
       "      <td>2</td>\n",
       "      <td>Айдар</td>\n",
       "      <td>22</td>\n",
       "      <td>Омск</td>\n",
       "      <td>free</td>\n",
       "      <td>8</td>\n",
       "      <td>50</td>\n",
       "      <td>0</td>\n",
       "    </tr>\n",
       "    <tr>\n",
       "      <th>4</th>\n",
       "      <td>700</td>\n",
       "      <td>3047.379435</td>\n",
       "      <td>17.427673</td>\n",
       "      <td>2021-02-14</td>\n",
       "      <td>2</td>\n",
       "      <td>Айдар</td>\n",
       "      <td>22</td>\n",
       "      <td>Омск</td>\n",
       "      <td>free</td>\n",
       "      <td>8</td>\n",
       "      <td>50</td>\n",
       "      <td>0</td>\n",
       "    </tr>\n",
       "  </tbody>\n",
       "</table>\n",
       "</div>"
      ],
      "text/plain": [
       "   user_id     distance   duration       date  month   name  age  city  \\\n",
       "0      700  2515.690719  14.944286 2021-01-02      1  Айдар   22  Омск   \n",
       "1      700   846.932642  16.234663 2021-02-01      2  Айдар   22  Омск   \n",
       "2      700  4004.434142  20.016628 2021-02-04      2  Айдар   22  Омск   \n",
       "3      700  1205.911290   9.782872 2021-02-10      2  Айдар   22  Омск   \n",
       "4      700  3047.379435  17.427673 2021-02-14      2  Айдар   22  Омск   \n",
       "\n",
       "  subscription_type  minute_price  start_ride_price  subscription_fee  \n",
       "0              free             8                50                 0  \n",
       "1              free             8                50                 0  \n",
       "2              free             8                50                 0  \n",
       "3              free             8                50                 0  \n",
       "4              free             8                50                 0  "
      ]
     },
     "execution_count": 28,
     "metadata": {},
     "output_type": "execute_result"
    }
   ],
   "source": [
    "df_free = df.query('subscription_type == \"free\"')\n",
    "df_free.head()"
   ]
  },
  {
   "cell_type": "code",
   "execution_count": 29,
   "id": "7c19c029",
   "metadata": {},
   "outputs": [
    {
     "data": {
      "text/plain": [
       "(11568, 12)"
      ]
     },
     "execution_count": 29,
     "metadata": {},
     "output_type": "execute_result"
    }
   ],
   "source": [
    "df_free.shape"
   ]
  },
  {
   "cell_type": "markdown",
   "id": "6c441608",
   "metadata": {},
   "source": [
    "- с данными о пользователях с подпиской"
   ]
  },
  {
   "cell_type": "code",
   "execution_count": 30,
   "id": "1e228981",
   "metadata": {},
   "outputs": [
    {
     "data": {
      "text/html": [
       "<div>\n",
       "<style scoped>\n",
       "    .dataframe tbody tr th:only-of-type {\n",
       "        vertical-align: middle;\n",
       "    }\n",
       "\n",
       "    .dataframe tbody tr th {\n",
       "        vertical-align: top;\n",
       "    }\n",
       "\n",
       "    .dataframe thead th {\n",
       "        text-align: right;\n",
       "    }\n",
       "</style>\n",
       "<table border=\"1\" class=\"dataframe\">\n",
       "  <thead>\n",
       "    <tr style=\"text-align: right;\">\n",
       "      <th></th>\n",
       "      <th>user_id</th>\n",
       "      <th>distance</th>\n",
       "      <th>duration</th>\n",
       "      <th>date</th>\n",
       "      <th>month</th>\n",
       "      <th>name</th>\n",
       "      <th>age</th>\n",
       "      <th>city</th>\n",
       "      <th>subscription_type</th>\n",
       "      <th>minute_price</th>\n",
       "      <th>start_ride_price</th>\n",
       "      <th>subscription_fee</th>\n",
       "    </tr>\n",
       "  </thead>\n",
       "  <tbody>\n",
       "    <tr>\n",
       "      <th>11568</th>\n",
       "      <td>1</td>\n",
       "      <td>4409.919140</td>\n",
       "      <td>25.599769</td>\n",
       "      <td>2021-01-01</td>\n",
       "      <td>1</td>\n",
       "      <td>Кира</td>\n",
       "      <td>22</td>\n",
       "      <td>Тюмень</td>\n",
       "      <td>ultra</td>\n",
       "      <td>6</td>\n",
       "      <td>0</td>\n",
       "      <td>199</td>\n",
       "    </tr>\n",
       "    <tr>\n",
       "      <th>11569</th>\n",
       "      <td>1</td>\n",
       "      <td>2617.592153</td>\n",
       "      <td>15.816871</td>\n",
       "      <td>2021-01-18</td>\n",
       "      <td>1</td>\n",
       "      <td>Кира</td>\n",
       "      <td>22</td>\n",
       "      <td>Тюмень</td>\n",
       "      <td>ultra</td>\n",
       "      <td>6</td>\n",
       "      <td>0</td>\n",
       "      <td>199</td>\n",
       "    </tr>\n",
       "    <tr>\n",
       "      <th>11570</th>\n",
       "      <td>1</td>\n",
       "      <td>754.159807</td>\n",
       "      <td>6.232113</td>\n",
       "      <td>2021-04-20</td>\n",
       "      <td>4</td>\n",
       "      <td>Кира</td>\n",
       "      <td>22</td>\n",
       "      <td>Тюмень</td>\n",
       "      <td>ultra</td>\n",
       "      <td>6</td>\n",
       "      <td>0</td>\n",
       "      <td>199</td>\n",
       "    </tr>\n",
       "    <tr>\n",
       "      <th>11571</th>\n",
       "      <td>1</td>\n",
       "      <td>2694.783254</td>\n",
       "      <td>18.511000</td>\n",
       "      <td>2021-08-11</td>\n",
       "      <td>8</td>\n",
       "      <td>Кира</td>\n",
       "      <td>22</td>\n",
       "      <td>Тюмень</td>\n",
       "      <td>ultra</td>\n",
       "      <td>6</td>\n",
       "      <td>0</td>\n",
       "      <td>199</td>\n",
       "    </tr>\n",
       "    <tr>\n",
       "      <th>11572</th>\n",
       "      <td>1</td>\n",
       "      <td>4028.687306</td>\n",
       "      <td>26.265803</td>\n",
       "      <td>2021-08-28</td>\n",
       "      <td>8</td>\n",
       "      <td>Кира</td>\n",
       "      <td>22</td>\n",
       "      <td>Тюмень</td>\n",
       "      <td>ultra</td>\n",
       "      <td>6</td>\n",
       "      <td>0</td>\n",
       "      <td>199</td>\n",
       "    </tr>\n",
       "  </tbody>\n",
       "</table>\n",
       "</div>"
      ],
      "text/plain": [
       "       user_id     distance   duration       date  month  name  age    city  \\\n",
       "11568        1  4409.919140  25.599769 2021-01-01      1  Кира   22  Тюмень   \n",
       "11569        1  2617.592153  15.816871 2021-01-18      1  Кира   22  Тюмень   \n",
       "11570        1   754.159807   6.232113 2021-04-20      4  Кира   22  Тюмень   \n",
       "11571        1  2694.783254  18.511000 2021-08-11      8  Кира   22  Тюмень   \n",
       "11572        1  4028.687306  26.265803 2021-08-28      8  Кира   22  Тюмень   \n",
       "\n",
       "      subscription_type  minute_price  start_ride_price  subscription_fee  \n",
       "11568             ultra             6                 0               199  \n",
       "11569             ultra             6                 0               199  \n",
       "11570             ultra             6                 0               199  \n",
       "11571             ultra             6                 0               199  \n",
       "11572             ultra             6                 0               199  "
      ]
     },
     "execution_count": 30,
     "metadata": {},
     "output_type": "execute_result"
    }
   ],
   "source": [
    "df_ultra = df.query('subscription_type == \"ultra\"')\n",
    "df_ultra.head()"
   ]
  },
  {
   "cell_type": "code",
   "execution_count": 31,
   "id": "acf40693",
   "metadata": {},
   "outputs": [
    {
     "data": {
      "text/plain": [
       "(6500, 12)"
      ]
     },
     "execution_count": 31,
     "metadata": {},
     "output_type": "execute_result"
    }
   ],
   "source": [
    "df_ultra.shape"
   ]
  },
  {
   "cell_type": "markdown",
   "id": "c6d8ae01",
   "metadata": {},
   "source": [
    "Визуализируем информацию о расстоянии и времени поездок для пользователей обеих категорий."
   ]
  },
  {
   "cell_type": "markdown",
   "id": "4c5b0407",
   "metadata": {},
   "source": [
    "- расстояния поездок"
   ]
  },
  {
   "cell_type": "code",
   "execution_count": 32,
   "id": "f8dedeb9",
   "metadata": {},
   "outputs": [
    {
     "data": {
      "text/plain": [
       "Text(0, 0.5, 'Количество поездок')"
      ]
     },
     "execution_count": 32,
     "metadata": {},
     "output_type": "execute_result"
    },
    {
     "data": {
      "image/png": "[encoded data removed]",
      "text/plain": [
       "<Figure size 432x288 with 1 Axes>"
      ]
     },
     "metadata": {
      "needs_background": "light"
     },
     "output_type": "display_data"
    }
   ],
   "source": [
    "ax = df_free.plot(kind='hist', y='distance', histtype='step', bins=50, linewidth=5, alpha=0.7, label='free')\n",
    "df_ultra.plot(kind='hist', y='distance', histtype='step', bins=50, linewidth=5, alpha=0.7, label='ultra', ax=ax, grid=True)\n",
    "plt.title('Расстояния поездок с разными подписками')\n",
    "plt.ylabel('Количество поездок')"
   ]
  },
  {
   "cell_type": "markdown",
   "id": "005104ad",
   "metadata": {},
   "source": [
    "Обе гистограммы попадают под определение нормального распредления, однако с двумя пиками. По полученным графикам можно сказать, что обладатели подписки наиболее стабильны в своих действиях, а точнее в преодолеваемых расстояниях - среднее расстояние, на которое они передвигаются на самокатах, составляет 3000 метров, чего нельзя сказать о пользователях без подписки - их средние дистанции составляют от 2000 до 4000 метров. Также при рассмотрении пика поменьше становится ясно, что пользователи с подпиской менее склонны к тому, чтобы делать заезды на короткие дистанции, а если мы имеем дело с ними то в среднем они составляют 1000 метров, и не доходят до нулевых расстояний. С пользователями без подписки ситуация обстоит по-другому - среднее (небольшое) расстояние составляет 400 - 600 метров, само преодоленное расстояние в некоторых достигает нулевых и не совсем естественных значений. По итогу можно сделать вывод о том, что поведение пользователей без подписки характеризуется размытостью намерений и целей, в то время как обладатели подписки гораздо более постоянны, с чем и связано оформление подписки."
   ]
  },
  {
   "cell_type": "markdown",
   "id": "5381920c",
   "metadata": {},
   "source": [
    "- продолжительность поездок"
   ]
  },
  {
   "cell_type": "code",
   "execution_count": 33,
   "id": "672fdbfa",
   "metadata": {
    "scrolled": false
   },
   "outputs": [
    {
     "data": {
      "text/plain": [
       "Text(0, 0.5, 'Количество поездок')"
      ]
     },
     "execution_count": 33,
     "metadata": {},
     "output_type": "execute_result"
    },
    {
     "data": {
      "image/png": "[encoded data removed]",
      "text/plain": [
       "<Figure size 432x288 with 1 Axes>"
      ]
     },
     "metadata": {
      "needs_background": "light"
     },
     "output_type": "display_data"
    }
   ],
   "source": [
    "ax = df_free.plot(kind='hist', y='duration', histtype='step', bins=50, linewidth=5, alpha=0.7, label='free')\n",
    "df_ultra.plot(kind='hist', y='duration', histtype='step', bins=50, linewidth=5, alpha=0.7, label='ultra', ax=ax, grid=True)\n",
    "plt.title('Время поездок с разными подписками')\n",
    "plt.ylabel('Количество поездок')"
   ]
  },
  {
   "cell_type": "markdown",
   "id": "438b4d49",
   "metadata": {},
   "source": [
    "Обе гистограммы характеризуются нормальным распределением, средняя продолжительность поездки - 15-20 минут."
   ]
  },
  {
   "cell_type": "markdown",
   "id": "2877aec2",
   "metadata": {},
   "source": [
    "## Подсчёт выручки"
   ]
  },
  {
   "cell_type": "markdown",
   "id": "1d2c6764",
   "metadata": {},
   "source": [
    "Создадим датафрейм с агрегированными данными о поездках на основе датафрейма с объединёнными данными: найдем суммарное расстояние, количество поездок и суммарное время для каждого пользователя за каждый месяц."
   ]
  },
  {
   "cell_type": "code",
   "execution_count": 34,
   "id": "14298427",
   "metadata": {},
   "outputs": [
    {
     "data": {
      "text/html": [
       "<div>\n",
       "<style scoped>\n",
       "    .dataframe tbody tr th:only-of-type {\n",
       "        vertical-align: middle;\n",
       "    }\n",
       "\n",
       "    .dataframe tbody tr th {\n",
       "        vertical-align: top;\n",
       "    }\n",
       "\n",
       "    .dataframe thead th {\n",
       "        text-align: right;\n",
       "    }\n",
       "</style>\n",
       "<table border=\"1\" class=\"dataframe\">\n",
       "  <thead>\n",
       "    <tr style=\"text-align: right;\">\n",
       "      <th></th>\n",
       "      <th>user_id</th>\n",
       "      <th>distance</th>\n",
       "      <th>duration</th>\n",
       "      <th>date</th>\n",
       "      <th>month</th>\n",
       "      <th>name</th>\n",
       "      <th>age</th>\n",
       "      <th>city</th>\n",
       "      <th>subscription_type</th>\n",
       "      <th>minute_price</th>\n",
       "      <th>start_ride_price</th>\n",
       "      <th>subscription_fee</th>\n",
       "    </tr>\n",
       "  </thead>\n",
       "  <tbody>\n",
       "    <tr>\n",
       "      <th>0</th>\n",
       "      <td>700</td>\n",
       "      <td>2515.690719</td>\n",
       "      <td>15.0</td>\n",
       "      <td>2021-01-02</td>\n",
       "      <td>1</td>\n",
       "      <td>Айдар</td>\n",
       "      <td>22</td>\n",
       "      <td>Омск</td>\n",
       "      <td>free</td>\n",
       "      <td>8</td>\n",
       "      <td>50</td>\n",
       "      <td>0</td>\n",
       "    </tr>\n",
       "    <tr>\n",
       "      <th>1</th>\n",
       "      <td>700</td>\n",
       "      <td>846.932642</td>\n",
       "      <td>17.0</td>\n",
       "      <td>2021-02-01</td>\n",
       "      <td>2</td>\n",
       "      <td>Айдар</td>\n",
       "      <td>22</td>\n",
       "      <td>Омск</td>\n",
       "      <td>free</td>\n",
       "      <td>8</td>\n",
       "      <td>50</td>\n",
       "      <td>0</td>\n",
       "    </tr>\n",
       "    <tr>\n",
       "      <th>2</th>\n",
       "      <td>700</td>\n",
       "      <td>4004.434142</td>\n",
       "      <td>21.0</td>\n",
       "      <td>2021-02-04</td>\n",
       "      <td>2</td>\n",
       "      <td>Айдар</td>\n",
       "      <td>22</td>\n",
       "      <td>Омск</td>\n",
       "      <td>free</td>\n",
       "      <td>8</td>\n",
       "      <td>50</td>\n",
       "      <td>0</td>\n",
       "    </tr>\n",
       "    <tr>\n",
       "      <th>3</th>\n",
       "      <td>700</td>\n",
       "      <td>1205.911290</td>\n",
       "      <td>10.0</td>\n",
       "      <td>2021-02-10</td>\n",
       "      <td>2</td>\n",
       "      <td>Айдар</td>\n",
       "      <td>22</td>\n",
       "      <td>Омск</td>\n",
       "      <td>free</td>\n",
       "      <td>8</td>\n",
       "      <td>50</td>\n",
       "      <td>0</td>\n",
       "    </tr>\n",
       "    <tr>\n",
       "      <th>4</th>\n",
       "      <td>700</td>\n",
       "      <td>3047.379435</td>\n",
       "      <td>18.0</td>\n",
       "      <td>2021-02-14</td>\n",
       "      <td>2</td>\n",
       "      <td>Айдар</td>\n",
       "      <td>22</td>\n",
       "      <td>Омск</td>\n",
       "      <td>free</td>\n",
       "      <td>8</td>\n",
       "      <td>50</td>\n",
       "      <td>0</td>\n",
       "    </tr>\n",
       "  </tbody>\n",
       "</table>\n",
       "</div>"
      ],
      "text/plain": [
       "   user_id     distance  duration       date  month   name  age  city  \\\n",
       "0      700  2515.690719      15.0 2021-01-02      1  Айдар   22  Омск   \n",
       "1      700   846.932642      17.0 2021-02-01      2  Айдар   22  Омск   \n",
       "2      700  4004.434142      21.0 2021-02-04      2  Айдар   22  Омск   \n",
       "3      700  1205.911290      10.0 2021-02-10      2  Айдар   22  Омск   \n",
       "4      700  3047.379435      18.0 2021-02-14      2  Айдар   22  Омск   \n",
       "\n",
       "  subscription_type  minute_price  start_ride_price  subscription_fee  \n",
       "0              free             8                50                 0  \n",
       "1              free             8                50                 0  \n",
       "2              free             8                50                 0  \n",
       "3              free             8                50                 0  \n",
       "4              free             8                50                 0  "
      ]
     },
     "execution_count": 34,
     "metadata": {},
     "output_type": "execute_result"
    }
   ],
   "source": [
    "# Округлим продолжительность поездки до следующего целого числа\n",
    "df['duration'] = np.ceil(df['duration'])\n",
    "df.head()"
   ]
  },
  {
   "cell_type": "code",
   "execution_count": 35,
   "id": "06929414",
   "metadata": {},
   "outputs": [
    {
     "data": {
      "text/html": [
       "<div>\n",
       "<style scoped>\n",
       "    .dataframe tbody tr th:only-of-type {\n",
       "        vertical-align: middle;\n",
       "    }\n",
       "\n",
       "    .dataframe tbody tr th {\n",
       "        vertical-align: top;\n",
       "    }\n",
       "\n",
       "    .dataframe thead th {\n",
       "        text-align: right;\n",
       "    }\n",
       "</style>\n",
       "<table border=\"1\" class=\"dataframe\">\n",
       "  <thead>\n",
       "    <tr style=\"text-align: right;\">\n",
       "      <th></th>\n",
       "      <th>user_id</th>\n",
       "      <th>month</th>\n",
       "      <th>distance</th>\n",
       "      <th>duration</th>\n",
       "      <th>count_of_rides</th>\n",
       "      <th>minute_price</th>\n",
       "      <th>start_ride_price</th>\n",
       "      <th>subscription_fee</th>\n",
       "    </tr>\n",
       "  </thead>\n",
       "  <tbody>\n",
       "    <tr>\n",
       "      <th>0</th>\n",
       "      <td>1</td>\n",
       "      <td>1</td>\n",
       "      <td>7027.511294</td>\n",
       "      <td>42.0</td>\n",
       "      <td>2</td>\n",
       "      <td>6</td>\n",
       "      <td>0</td>\n",
       "      <td>199</td>\n",
       "    </tr>\n",
       "    <tr>\n",
       "      <th>1</th>\n",
       "      <td>1</td>\n",
       "      <td>4</td>\n",
       "      <td>754.159807</td>\n",
       "      <td>7.0</td>\n",
       "      <td>1</td>\n",
       "      <td>6</td>\n",
       "      <td>0</td>\n",
       "      <td>199</td>\n",
       "    </tr>\n",
       "    <tr>\n",
       "      <th>2</th>\n",
       "      <td>1</td>\n",
       "      <td>8</td>\n",
       "      <td>6723.470560</td>\n",
       "      <td>46.0</td>\n",
       "      <td>2</td>\n",
       "      <td>6</td>\n",
       "      <td>0</td>\n",
       "      <td>199</td>\n",
       "    </tr>\n",
       "    <tr>\n",
       "      <th>3</th>\n",
       "      <td>1</td>\n",
       "      <td>10</td>\n",
       "      <td>5809.911100</td>\n",
       "      <td>32.0</td>\n",
       "      <td>2</td>\n",
       "      <td>6</td>\n",
       "      <td>0</td>\n",
       "      <td>199</td>\n",
       "    </tr>\n",
       "    <tr>\n",
       "      <th>4</th>\n",
       "      <td>1</td>\n",
       "      <td>11</td>\n",
       "      <td>7003.499363</td>\n",
       "      <td>56.0</td>\n",
       "      <td>3</td>\n",
       "      <td>6</td>\n",
       "      <td>0</td>\n",
       "      <td>199</td>\n",
       "    </tr>\n",
       "    <tr>\n",
       "      <th>5</th>\n",
       "      <td>1</td>\n",
       "      <td>12</td>\n",
       "      <td>6751.629942</td>\n",
       "      <td>28.0</td>\n",
       "      <td>2</td>\n",
       "      <td>6</td>\n",
       "      <td>0</td>\n",
       "      <td>199</td>\n",
       "    </tr>\n",
       "    <tr>\n",
       "      <th>6</th>\n",
       "      <td>2</td>\n",
       "      <td>3</td>\n",
       "      <td>10187.723006</td>\n",
       "      <td>63.0</td>\n",
       "      <td>3</td>\n",
       "      <td>6</td>\n",
       "      <td>0</td>\n",
       "      <td>199</td>\n",
       "    </tr>\n",
       "    <tr>\n",
       "      <th>7</th>\n",
       "      <td>2</td>\n",
       "      <td>4</td>\n",
       "      <td>6164.381824</td>\n",
       "      <td>40.0</td>\n",
       "      <td>2</td>\n",
       "      <td>6</td>\n",
       "      <td>0</td>\n",
       "      <td>199</td>\n",
       "    </tr>\n",
       "    <tr>\n",
       "      <th>8</th>\n",
       "      <td>2</td>\n",
       "      <td>6</td>\n",
       "      <td>3255.338202</td>\n",
       "      <td>14.0</td>\n",
       "      <td>1</td>\n",
       "      <td>6</td>\n",
       "      <td>0</td>\n",
       "      <td>199</td>\n",
       "    </tr>\n",
       "    <tr>\n",
       "      <th>9</th>\n",
       "      <td>2</td>\n",
       "      <td>7</td>\n",
       "      <td>6780.722964</td>\n",
       "      <td>48.0</td>\n",
       "      <td>2</td>\n",
       "      <td>6</td>\n",
       "      <td>0</td>\n",
       "      <td>199</td>\n",
       "    </tr>\n",
       "    <tr>\n",
       "      <th>10</th>\n",
       "      <td>2</td>\n",
       "      <td>8</td>\n",
       "      <td>923.007439</td>\n",
       "      <td>7.0</td>\n",
       "      <td>1</td>\n",
       "      <td>6</td>\n",
       "      <td>0</td>\n",
       "      <td>199</td>\n",
       "    </tr>\n",
       "    <tr>\n",
       "      <th>11</th>\n",
       "      <td>2</td>\n",
       "      <td>10</td>\n",
       "      <td>2824.636598</td>\n",
       "      <td>19.0</td>\n",
       "      <td>1</td>\n",
       "      <td>6</td>\n",
       "      <td>0</td>\n",
       "      <td>199</td>\n",
       "    </tr>\n",
       "    <tr>\n",
       "      <th>12</th>\n",
       "      <td>2</td>\n",
       "      <td>12</td>\n",
       "      <td>3828.248580</td>\n",
       "      <td>12.0</td>\n",
       "      <td>1</td>\n",
       "      <td>6</td>\n",
       "      <td>0</td>\n",
       "      <td>199</td>\n",
       "    </tr>\n",
       "    <tr>\n",
       "      <th>13</th>\n",
       "      <td>3</td>\n",
       "      <td>1</td>\n",
       "      <td>3061.777147</td>\n",
       "      <td>13.0</td>\n",
       "      <td>1</td>\n",
       "      <td>6</td>\n",
       "      <td>0</td>\n",
       "      <td>199</td>\n",
       "    </tr>\n",
       "    <tr>\n",
       "      <th>14</th>\n",
       "      <td>3</td>\n",
       "      <td>2</td>\n",
       "      <td>5421.152016</td>\n",
       "      <td>39.0</td>\n",
       "      <td>2</td>\n",
       "      <td>6</td>\n",
       "      <td>0</td>\n",
       "      <td>199</td>\n",
       "    </tr>\n",
       "    <tr>\n",
       "      <th>15</th>\n",
       "      <td>3</td>\n",
       "      <td>4</td>\n",
       "      <td>2956.651632</td>\n",
       "      <td>21.0</td>\n",
       "      <td>1</td>\n",
       "      <td>6</td>\n",
       "      <td>0</td>\n",
       "      <td>199</td>\n",
       "    </tr>\n",
       "    <tr>\n",
       "      <th>16</th>\n",
       "      <td>3</td>\n",
       "      <td>5</td>\n",
       "      <td>9064.026918</td>\n",
       "      <td>63.0</td>\n",
       "      <td>3</td>\n",
       "      <td>6</td>\n",
       "      <td>0</td>\n",
       "      <td>199</td>\n",
       "    </tr>\n",
       "    <tr>\n",
       "      <th>17</th>\n",
       "      <td>3</td>\n",
       "      <td>7</td>\n",
       "      <td>10919.595403</td>\n",
       "      <td>67.0</td>\n",
       "      <td>3</td>\n",
       "      <td>6</td>\n",
       "      <td>0</td>\n",
       "      <td>199</td>\n",
       "    </tr>\n",
       "    <tr>\n",
       "      <th>18</th>\n",
       "      <td>3</td>\n",
       "      <td>9</td>\n",
       "      <td>2891.012822</td>\n",
       "      <td>23.0</td>\n",
       "      <td>1</td>\n",
       "      <td>6</td>\n",
       "      <td>0</td>\n",
       "      <td>199</td>\n",
       "    </tr>\n",
       "    <tr>\n",
       "      <th>19</th>\n",
       "      <td>3</td>\n",
       "      <td>12</td>\n",
       "      <td>2593.381928</td>\n",
       "      <td>13.0</td>\n",
       "      <td>1</td>\n",
       "      <td>6</td>\n",
       "      <td>0</td>\n",
       "      <td>199</td>\n",
       "    </tr>\n",
       "  </tbody>\n",
       "</table>\n",
       "</div>"
      ],
      "text/plain": [
       "    user_id  month      distance  duration  count_of_rides  minute_price  \\\n",
       "0         1      1   7027.511294      42.0               2             6   \n",
       "1         1      4    754.159807       7.0               1             6   \n",
       "2         1      8   6723.470560      46.0               2             6   \n",
       "3         1     10   5809.911100      32.0               2             6   \n",
       "4         1     11   7003.499363      56.0               3             6   \n",
       "5         1     12   6751.629942      28.0               2             6   \n",
       "6         2      3  10187.723006      63.0               3             6   \n",
       "7         2      4   6164.381824      40.0               2             6   \n",
       "8         2      6   3255.338202      14.0               1             6   \n",
       "9         2      7   6780.722964      48.0               2             6   \n",
       "10        2      8    923.007439       7.0               1             6   \n",
       "11        2     10   2824.636598      19.0               1             6   \n",
       "12        2     12   3828.248580      12.0               1             6   \n",
       "13        3      1   3061.777147      13.0               1             6   \n",
       "14        3      2   5421.152016      39.0               2             6   \n",
       "15        3      4   2956.651632      21.0               1             6   \n",
       "16        3      5   9064.026918      63.0               3             6   \n",
       "17        3      7  10919.595403      67.0               3             6   \n",
       "18        3      9   2891.012822      23.0               1             6   \n",
       "19        3     12   2593.381928      13.0               1             6   \n",
       "\n",
       "    start_ride_price  subscription_fee  \n",
       "0                  0               199  \n",
       "1                  0               199  \n",
       "2                  0               199  \n",
       "3                  0               199  \n",
       "4                  0               199  \n",
       "5                  0               199  \n",
       "6                  0               199  \n",
       "7                  0               199  \n",
       "8                  0               199  \n",
       "9                  0               199  \n",
       "10                 0               199  \n",
       "11                 0               199  \n",
       "12                 0               199  \n",
       "13                 0               199  \n",
       "14                 0               199  \n",
       "15                 0               199  \n",
       "16                 0               199  \n",
       "17                 0               199  \n",
       "18                 0               199  \n",
       "19                 0               199  "
      ]
     },
     "execution_count": 35,
     "metadata": {},
     "output_type": "execute_result"
    }
   ],
   "source": [
    "df_revenue = df.groupby(['user_id', 'month']).agg({'distance': 'sum', 'duration': 'sum', 'date': 'count', 'minute_price' : 'median', 'start_ride_price': 'median', 'subscription_fee': 'median'})\n",
    "df_revenue = df_revenue.rename(columns={'date': 'count_of_rides'})\n",
    "df_revenue = df_revenue.reset_index()\n",
    "df_revenue.head(20)"
   ]
  },
  {
   "cell_type": "markdown",
   "id": "553a0ddd",
   "metadata": {},
   "source": [
    "Добавим столбец с помесячной выручкой, которую принёс каждый пользователь. Для этого обратитесь к информации об условиях оплаты для подписчиков и тех, у кого нет подписки. "
   ]
  },
  {
   "cell_type": "code",
   "execution_count": 37,
   "id": "6a6c52a2",
   "metadata": {},
   "outputs": [
    {
     "data": {
      "text/html": [
       "<div>\n",
       "<style scoped>\n",
       "    .dataframe tbody tr th:only-of-type {\n",
       "        vertical-align: middle;\n",
       "    }\n",
       "\n",
       "    .dataframe tbody tr th {\n",
       "        vertical-align: top;\n",
       "    }\n",
       "\n",
       "    .dataframe thead th {\n",
       "        text-align: right;\n",
       "    }\n",
       "</style>\n",
       "<table border=\"1\" class=\"dataframe\">\n",
       "  <thead>\n",
       "    <tr style=\"text-align: right;\">\n",
       "      <th></th>\n",
       "      <th>user_id</th>\n",
       "      <th>month</th>\n",
       "      <th>distance</th>\n",
       "      <th>duration</th>\n",
       "      <th>count_of_rides</th>\n",
       "      <th>minute_price</th>\n",
       "      <th>start_ride_price</th>\n",
       "      <th>subscription_fee</th>\n",
       "      <th>revenue</th>\n",
       "    </tr>\n",
       "  </thead>\n",
       "  <tbody>\n",
       "    <tr>\n",
       "      <th>0</th>\n",
       "      <td>1</td>\n",
       "      <td>1</td>\n",
       "      <td>7027.511294</td>\n",
       "      <td>42.0</td>\n",
       "      <td>2</td>\n",
       "      <td>6</td>\n",
       "      <td>0</td>\n",
       "      <td>199</td>\n",
       "      <td>451.0</td>\n",
       "    </tr>\n",
       "    <tr>\n",
       "      <th>1</th>\n",
       "      <td>1</td>\n",
       "      <td>4</td>\n",
       "      <td>754.159807</td>\n",
       "      <td>7.0</td>\n",
       "      <td>1</td>\n",
       "      <td>6</td>\n",
       "      <td>0</td>\n",
       "      <td>199</td>\n",
       "      <td>241.0</td>\n",
       "    </tr>\n",
       "    <tr>\n",
       "      <th>2</th>\n",
       "      <td>1</td>\n",
       "      <td>8</td>\n",
       "      <td>6723.470560</td>\n",
       "      <td>46.0</td>\n",
       "      <td>2</td>\n",
       "      <td>6</td>\n",
       "      <td>0</td>\n",
       "      <td>199</td>\n",
       "      <td>475.0</td>\n",
       "    </tr>\n",
       "    <tr>\n",
       "      <th>3</th>\n",
       "      <td>1</td>\n",
       "      <td>10</td>\n",
       "      <td>5809.911100</td>\n",
       "      <td>32.0</td>\n",
       "      <td>2</td>\n",
       "      <td>6</td>\n",
       "      <td>0</td>\n",
       "      <td>199</td>\n",
       "      <td>391.0</td>\n",
       "    </tr>\n",
       "    <tr>\n",
       "      <th>4</th>\n",
       "      <td>1</td>\n",
       "      <td>11</td>\n",
       "      <td>7003.499363</td>\n",
       "      <td>56.0</td>\n",
       "      <td>3</td>\n",
       "      <td>6</td>\n",
       "      <td>0</td>\n",
       "      <td>199</td>\n",
       "      <td>535.0</td>\n",
       "    </tr>\n",
       "    <tr>\n",
       "      <th>...</th>\n",
       "      <td>...</td>\n",
       "      <td>...</td>\n",
       "      <td>...</td>\n",
       "      <td>...</td>\n",
       "      <td>...</td>\n",
       "      <td>...</td>\n",
       "      <td>...</td>\n",
       "      <td>...</td>\n",
       "      <td>...</td>\n",
       "    </tr>\n",
       "    <tr>\n",
       "      <th>11326</th>\n",
       "      <td>1534</td>\n",
       "      <td>6</td>\n",
       "      <td>3409.468534</td>\n",
       "      <td>26.0</td>\n",
       "      <td>2</td>\n",
       "      <td>8</td>\n",
       "      <td>50</td>\n",
       "      <td>0</td>\n",
       "      <td>308.0</td>\n",
       "    </tr>\n",
       "    <tr>\n",
       "      <th>11327</th>\n",
       "      <td>1534</td>\n",
       "      <td>8</td>\n",
       "      <td>7622.453034</td>\n",
       "      <td>48.0</td>\n",
       "      <td>2</td>\n",
       "      <td>8</td>\n",
       "      <td>50</td>\n",
       "      <td>0</td>\n",
       "      <td>484.0</td>\n",
       "    </tr>\n",
       "    <tr>\n",
       "      <th>11328</th>\n",
       "      <td>1534</td>\n",
       "      <td>9</td>\n",
       "      <td>4928.173852</td>\n",
       "      <td>23.0</td>\n",
       "      <td>1</td>\n",
       "      <td>8</td>\n",
       "      <td>50</td>\n",
       "      <td>0</td>\n",
       "      <td>234.0</td>\n",
       "    </tr>\n",
       "    <tr>\n",
       "      <th>11329</th>\n",
       "      <td>1534</td>\n",
       "      <td>11</td>\n",
       "      <td>13350.015305</td>\n",
       "      <td>78.0</td>\n",
       "      <td>4</td>\n",
       "      <td>8</td>\n",
       "      <td>50</td>\n",
       "      <td>0</td>\n",
       "      <td>824.0</td>\n",
       "    </tr>\n",
       "    <tr>\n",
       "      <th>11330</th>\n",
       "      <td>1534</td>\n",
       "      <td>12</td>\n",
       "      <td>2371.711192</td>\n",
       "      <td>16.0</td>\n",
       "      <td>1</td>\n",
       "      <td>8</td>\n",
       "      <td>50</td>\n",
       "      <td>0</td>\n",
       "      <td>178.0</td>\n",
       "    </tr>\n",
       "  </tbody>\n",
       "</table>\n",
       "<p>11331 rows × 9 columns</p>\n",
       "</div>"
      ],
      "text/plain": [
       "       user_id  month      distance  duration  count_of_rides  minute_price  \\\n",
       "0            1      1   7027.511294      42.0               2             6   \n",
       "1            1      4    754.159807       7.0               1             6   \n",
       "2            1      8   6723.470560      46.0               2             6   \n",
       "3            1     10   5809.911100      32.0               2             6   \n",
       "4            1     11   7003.499363      56.0               3             6   \n",
       "...        ...    ...           ...       ...             ...           ...   \n",
       "11326     1534      6   3409.468534      26.0               2             8   \n",
       "11327     1534      8   7622.453034      48.0               2             8   \n",
       "11328     1534      9   4928.173852      23.0               1             8   \n",
       "11329     1534     11  13350.015305      78.0               4             8   \n",
       "11330     1534     12   2371.711192      16.0               1             8   \n",
       "\n",
       "       start_ride_price  subscription_fee  revenue  \n",
       "0                     0               199    451.0  \n",
       "1                     0               199    241.0  \n",
       "2                     0               199    475.0  \n",
       "3                     0               199    391.0  \n",
       "4                     0               199    535.0  \n",
       "...                 ...               ...      ...  \n",
       "11326                50                 0    308.0  \n",
       "11327                50                 0    484.0  \n",
       "11328                50                 0    234.0  \n",
       "11329                50                 0    824.0  \n",
       "11330                50                 0    178.0  \n",
       "\n",
       "[11331 rows x 9 columns]"
      ]
     },
     "execution_count": 37,
     "metadata": {},
     "output_type": "execute_result"
    }
   ],
   "source": [
    "def revenue_calculation(row):\n",
    "    return (\n",
    "    row['count_of_rides'] * row['start_ride_price'] \n",
    "    + row['duration'] * row['minute_price'] \n",
    "    + row['subscription_fee'] \n",
    ")\n",
    "\n",
    "df_revenue['revenue'] = df_revenue.apply(revenue_calculation, axis=1)\n",
    "df_revenue"
   ]
  },
  {
   "cell_type": "markdown",
   "id": "9e063166",
   "metadata": {},
   "source": [
    "## Проверка гипотез"
   ]
  },
  {
   "cell_type": "markdown",
   "id": "d1c2ea3c",
   "metadata": {},
   "source": [
    "Продакт-менеджеры сервиса хотят увеличить количество пользователей с подпиской. Для этого они будут проводить различные акции, но сначала нужно выяснить несколько важных моментов.\n",
    "\n",
    "1. Важно понять, тратят ли пользователи с подпиской больше времени на поездки? Если да, то пользователи с подпиской могут быть «выгоднее» для компании. Проверим гипотезу. Используем исходные данные о продолжительности каждой сессии — отдельно для подписчиков и тех, у кого нет подписки."
   ]
  },
  {
   "cell_type": "markdown",
   "id": "be332549",
   "metadata": {},
   "source": [
    "Необходимо проверить одностороннюю гипотезу о равенстве средних двух генеральных совокупностей. \n",
    "- Нулевая гипотеза: средняя продолжительность поездок пользователей с подпиской равна средней продолжительности поездок пользователей без подписки.\n",
    "- Альтернативая гипотеза: средняя продолжительность поездок пользователей с подпиской больше средней продолжительности поездок пользователей без подписки."
   ]
  },
  {
   "cell_type": "code",
   "execution_count": 38,
   "id": "9d98df6b",
   "metadata": {},
   "outputs": [
    {
     "name": "stdout",
     "output_type": "stream",
     "text": [
      "p-value: 5.6757813771289775e-37\n",
      "Отвергаем нулевую гипотезу\n"
     ]
    }
   ],
   "source": [
    "alpha = 0.05\n",
    "\n",
    "results = st.ttest_ind(df_ultra['duration'], df_free['duration'], equal_var=False, alternative='greater')\n",
    "\n",
    "print(f'p-value: {results.pvalue}')\n",
    "\n",
    "if results.pvalue < alpha:\n",
    "    print('Отвергаем нулевую гипотезу')\n",
    "else:\n",
    "    print('Нет оснований отвергнуть нулевую гипотезу')      "
   ]
  },
  {
   "cell_type": "code",
   "execution_count": 39,
   "id": "8b36b641",
   "metadata": {},
   "outputs": [
    {
     "data": {
      "text/plain": [
       "1.1510758641418413"
      ]
     },
     "execution_count": 39,
     "metadata": {},
     "output_type": "execute_result"
    }
   ],
   "source": [
    "df_ultra['duration'].mean() - df_free['duration'].mean()"
   ]
  },
  {
   "cell_type": "markdown",
   "id": "d4966f41",
   "metadata": {},
   "source": [
    "Отвергаем гипотезу о том, что средняя продолжительность поездок пользователей с подпиской равна средней продолжительности поездок пользователей без подписки, в пользу гипотезы о том, что средняя продолжительность поездок пользователей с подпиской больше средней продолжительности поездок пользователей без подписки."
   ]
  },
  {
   "cell_type": "markdown",
   "id": "114a3f98",
   "metadata": {},
   "source": [
    "2. Расстояние одной поездки в 3130 метров — оптимальное с точки зрения износа самоката. Можно ли сказать, что среднее расстояние, которое проезжают пользователи с подпиской за одну поездку, не превышает 3130 метров? \n",
    "\n",
    "Необходимо проверить одностороннюю гипотезу.\n",
    "- Нулевая гипотеза: среднее расстояние, которое проезжают пользователи с подпиской за одну поездку равно 3130 метров.\n",
    "- Альтернативая гипотеза: среднее расстояние, которое проезжают пользователи с подпиской за одну поездку больше 3130 метров."
   ]
  },
  {
   "cell_type": "code",
   "execution_count": 40,
   "id": "2e71c78d",
   "metadata": {},
   "outputs": [
    {
     "name": "stdout",
     "output_type": "stream",
     "text": [
      "p-value: 0.9195368847849785\n",
      "Нет оснований отвергнуть нулевую гипотезу\n"
     ]
    }
   ],
   "source": [
    "alpha = 0.05\n",
    "\n",
    "optimal_value = 3130\n",
    "\n",
    "results = st.ttest_1samp(df_ultra['distance'], optimal_value, alternative='greater')\n",
    "\n",
    "print(f'p-value: {results.pvalue}')\n",
    "\n",
    "if results.pvalue < alpha:\n",
    "    print('Отвергаем нулевую гипотезу')\n",
    "else:\n",
    "    print('Нет оснований отвергнуть нулевую гипотезу')   "
   ]
  },
  {
   "cell_type": "code",
   "execution_count": 41,
   "id": "922bab72",
   "metadata": {
    "scrolled": true
   },
   "outputs": [
    {
     "data": {
      "text/plain": [
       "18.54198516280583"
      ]
     },
     "execution_count": 41,
     "metadata": {},
     "output_type": "execute_result"
    }
   ],
   "source": [
    "df_ultra['duration'].mean()"
   ]
  },
  {
   "cell_type": "markdown",
   "id": "cccda143",
   "metadata": {},
   "source": [
    "Нет оснований отвергнуть нулевую гипотезу о том, что среднее расстояние, которое проезжают пользователи с подпиской за одну поездку, равно 3130 метров."
   ]
  },
  {
   "cell_type": "markdown",
   "id": "72992818",
   "metadata": {},
   "source": [
    "3. Проверим гипотезу о том, будет ли помесячная выручка от пользователей с подпиской по месяцам выше, чем выручка от пользователей без подписки."
   ]
  },
  {
   "cell_type": "markdown",
   "id": "0dc8f2dd",
   "metadata": {},
   "source": [
    "Необходимо проверить одностороннюю гипотезу о равенстве средних двух генеральных совокупностей.\n",
    "\n",
    "- Нулевая гипотеза: помесячная выручка от пользователей с подпиской равна выручке от пользователей без подписки.\n",
    "- Альтернативая гипотеза: помесячная выручка от пользователей с подпиской больше выручки от пользователей без подписки."
   ]
  },
  {
   "cell_type": "code",
   "execution_count": 42,
   "id": "b4d43677",
   "metadata": {},
   "outputs": [
    {
     "name": "stdout",
     "output_type": "stream",
     "text": [
      "p-value: 8.874140893976874e-40\n",
      "Отвергаем нулевую гипотезу\n"
     ]
    }
   ],
   "source": [
    "alpha = 0.05\n",
    "\n",
    "results = st.ttest_ind(\n",
    "    df_revenue.loc[df_revenue['subscription_fee'] == 199, 'revenue'], \n",
    "    df_revenue.loc[df_revenue['subscription_fee'] == 0, 'revenue'], \n",
    "    equal_var=False, \n",
    "    alternative='greater')\n",
    "\n",
    "print(f'p-value: {results.pvalue}')\n",
    "\n",
    "if results.pvalue < alpha:\n",
    "    print('Отвергаем нулевую гипотезу')\n",
    "else:\n",
    "    print('Нет оснований отвергнуть нулевую гипотезу')"
   ]
  },
  {
   "cell_type": "markdown",
   "id": "fecd9530",
   "metadata": {},
   "source": [
    "Отвергаем нулевую гипотезу о том, что помесячная выручка от пользователей с подпиской равна выручке от пользователей без подписки, в пользу гипотезы о том, что помесячная выручка от пользователей с подпиской больше выручки от пользователей без подписки."
   ]
  },
  {
   "cell_type": "markdown",
   "id": "ad1e07d6",
   "metadata": {},
   "source": [
    "4. Представьте такую ситуацию: техническая команда сервиса обновила сервера, с которыми взаимодействует мобильное приложение. Она надеется, что из-за этого количество обращений в техподдержку значимо снизилось. Некоторый файл содержит для каждого пользователя данные о количестве обращений до обновления и после него. Какой тест вам понадобился бы для проверки этой гипотезы?"
   ]
  },
  {
   "cell_type": "markdown",
   "id": "d663591e",
   "metadata": {},
   "source": [
    "Необходимо будет проверить гипотезу о равенстве средних для зависимых выборок. Подразумевается, что данные о количестве обращений до обновления и после него измеряются для одних и тех же объектов, а если быть точнее - для одних и тех же пользователей. Чтобы проверить такую гипотезу, необходимо применить мутод scipy.stats.ttest_rel(). Мы передаем ему два параметра: набор данных (об одних и тех же пользователях) до и после обновления. Размеры выборок одинаковы."
   ]
  },
  {
   "cell_type": "markdown",
   "id": "a71c20ea",
   "metadata": {},
   "source": [
    "## Вывод"
   ]
  },
  {
   "cell_type": "markdown",
   "id": "906ae0b9",
   "metadata": {},
   "source": [
    "Перед нами стояла задача проанализировать данные и проверить некоторые гипотезы, которые могут помочь бизнесу вырасти.\n",
    "Нам переданы данные о некоторых пользователях из нескольких городов, а также об их поездках. В ходе работы мы провели предобрабтку данных - проверили на наличие пропусков и устранили дубликаты, а таже исследовательский и статистический анализы полученых данных.\n",
    "По результатам проделанной работы были сделаны следующие выводы:\n",
    "1. Количество пользователей без подписки немного больше количества пользователй с подпиской.\n",
    "2. Пользователями сервиса являются люди от 12 до 43 лет. Наболее часто прокатом самокатов пользуются люди в возрасте 25 лет.\n",
    "3. Обладатели подписки наиболее стабильны в своих действиях, а точнее в преодолеваемых расстояниях - среднее расстояние, на которое они передвигаются на самокатах, составляет 3000 метров, чего нельзя сказать о пользователях без подписки - их средние дистанции составляют от 2000 до 4000 метров. Также пользователи с подпиской менее склонны к тому, чтобы делать заезды на короткие дистанции, а если мы имеем дело с ними то в среднем они составляют 1000 метров, и не доходят до нулевых расстояний. С пользователями без подписки ситуация обстоит по-другому - среднее (небольшое) расстояние составляет 400 - 600 метров, само преодоленное расстояние в некоторых достигает нулевых и не совсем естественных значений. По итогу можно сделать вывод о том, что поведение пользователей без подписки характеризуется размытостью намерений и целей, в то время как обладатели подписки гораздо более постоянны, с чем и связано оформление подписки.\n",
    "4. Средняя продолжительность поездки - 15-20 минут.\n",
    "\n",
    "Также были приняты или опровергнуты некоторые гипотезы:\n",
    "- Отвергаем гипотезу о том, что средняя продолжительность поездок пользователей с подпиской равна средней продолжительности поездок пользователей без подписки, в пользу гипотезы о том, что средняя продолжительность поездок пользователей **с подпиской** **больше** средней продолжительности поездок пользователей **без подписки**.\n",
    "- Не нашлось оснований отвергнуть нулевую гипотезу о том, что среднее расстояние, которое проезжают пользователи с подпиской за одну поездку, равно 3130 метров.\n",
    "- Отвергаем нулевую гипотезу о том, что помесячная выручка от пользователей с подпиской равна выручке от пользователей без подписки, в пользу гипотезы о том, что помесячная выручка от пользователей **с подпиской больше** выручки от пользователей **без подписки**."
   ]
  },
  {
   "cell_type": "markdown",
   "id": "3d2a40b4",
   "metadata": {},
   "source": [
    "Рекомендуется провести различные акции с целью увеличения количества пользователей с подпиской, в связи с тем что:\n",
    "- во-первых, средняя продолжительность поездок пользователей с подпиской больше средней продолжительности поездок пользователей без подписки\n",
    "- а во-вторых, гипотеза о том, что помесячная выручка от пользователей с подпиской равна выручке от пользователей без подписки, была отвергнута в пользу гипотезы о том, что помесячная выручка от пользователей с подпиской больше выручки от пользователей без подписки. И это при условии неравного соотношения пользователей двух категрий (пользователей с подпиской меньше), и если приложить усилия для увеличения количества пользователей с подпиской, то и выручка с этой категории пользователей может возрасти. \n",
    "Ко всему прочему, не нашлось оснований отвергнуть нулевую гипотезу о том, что среднее расстояние, которое проезжают пользователи с подпиской за одну поездку равно 3130 метров. Значит, пользователи с подпиской оптимально используют самокаты с точки зрения его износа: дольше время службы самоката - меньше затрат на приобртние нового. "
   ]
  }
 ],
 "metadata": {
  "ExecuteTimeLog": [
   {
    "duration": 46,
    "start_time": "2024-03-19T19:45:18.399Z"
   },
   {
    "duration": 389,
    "start_time": "2024-03-19T19:45:32.493Z"
   },
   {
    "duration": 88,
    "start_time": "2024-03-19T19:45:32.884Z"
   },
   {
    "duration": 239,
    "start_time": "2024-03-19T19:47:23.915Z"
   },
   {
    "duration": 14,
    "start_time": "2024-03-19T20:17:11.095Z"
   },
   {
    "duration": 11,
    "start_time": "2024-03-19T20:17:34.331Z"
   },
   {
    "duration": 8,
    "start_time": "2024-03-19T20:18:58.941Z"
   },
   {
    "duration": 11,
    "start_time": "2024-03-19T20:19:18.682Z"
   },
   {
    "duration": 6,
    "start_time": "2024-03-19T20:20:10.288Z"
   },
   {
    "duration": 10,
    "start_time": "2024-03-19T20:20:40.317Z"
   },
   {
    "duration": 1222,
    "start_time": "2024-03-19T20:30:23.785Z"
   },
   {
    "duration": 7,
    "start_time": "2024-03-19T20:31:13.694Z"
   },
   {
    "duration": 62,
    "start_time": "2024-03-19T20:31:29.558Z"
   },
   {
    "duration": 18,
    "start_time": "2024-03-19T20:31:38.188Z"
   },
   {
    "duration": 4,
    "start_time": "2024-03-19T20:40:43.825Z"
   },
   {
    "duration": 9,
    "start_time": "2024-03-19T20:42:29.229Z"
   },
   {
    "duration": 7,
    "start_time": "2024-03-19T20:42:36.634Z"
   },
   {
    "duration": 6,
    "start_time": "2024-03-19T20:43:25.577Z"
   },
   {
    "duration": 7,
    "start_time": "2024-03-19T20:45:16.986Z"
   },
   {
    "duration": 6,
    "start_time": "2024-03-19T20:45:50.379Z"
   },
   {
    "duration": 7,
    "start_time": "2024-03-19T20:47:42.099Z"
   },
   {
    "duration": 5,
    "start_time": "2024-03-19T20:50:09.558Z"
   },
   {
    "duration": 9,
    "start_time": "2024-03-19T20:50:26.291Z"
   },
   {
    "duration": 6,
    "start_time": "2024-03-19T20:52:04.273Z"
   },
   {
    "duration": 8,
    "start_time": "2024-03-19T20:53:34.668Z"
   },
   {
    "duration": 8,
    "start_time": "2024-03-19T20:54:11.060Z"
   },
   {
    "duration": 8,
    "start_time": "2024-03-19T20:54:51.449Z"
   },
   {
    "duration": 7,
    "start_time": "2024-03-19T20:54:56.284Z"
   },
   {
    "duration": 12,
    "start_time": "2024-03-19T20:55:02.612Z"
   },
   {
    "duration": 8,
    "start_time": "2024-03-19T20:55:57.613Z"
   },
   {
    "duration": 2,
    "start_time": "2024-03-19T20:56:07.807Z"
   },
   {
    "duration": 67,
    "start_time": "2024-03-19T20:56:07.814Z"
   },
   {
    "duration": 8,
    "start_time": "2024-03-19T20:56:07.882Z"
   },
   {
    "duration": 12,
    "start_time": "2024-03-19T20:56:07.892Z"
   },
   {
    "duration": 10,
    "start_time": "2024-03-19T20:56:07.906Z"
   },
   {
    "duration": 12,
    "start_time": "2024-03-19T20:56:07.918Z"
   },
   {
    "duration": 10,
    "start_time": "2024-03-19T20:56:07.932Z"
   },
   {
    "duration": 35,
    "start_time": "2024-03-19T20:56:07.943Z"
   },
   {
    "duration": 17,
    "start_time": "2024-03-19T20:56:07.980Z"
   },
   {
    "duration": 6,
    "start_time": "2024-03-19T20:56:07.999Z"
   },
   {
    "duration": 13,
    "start_time": "2024-03-19T20:56:08.007Z"
   },
   {
    "duration": 22,
    "start_time": "2024-03-19T20:56:08.021Z"
   },
   {
    "duration": 31,
    "start_time": "2024-03-19T20:56:08.045Z"
   },
   {
    "duration": 11,
    "start_time": "2024-03-19T20:56:54.501Z"
   },
   {
    "duration": 11,
    "start_time": "2024-03-19T20:57:01.824Z"
   },
   {
    "duration": 8,
    "start_time": "2024-03-19T20:57:07.358Z"
   },
   {
    "duration": 98,
    "start_time": "2024-03-19T20:57:52.700Z"
   },
   {
    "duration": 5,
    "start_time": "2024-03-19T20:58:36.096Z"
   },
   {
    "duration": 4,
    "start_time": "2024-03-19T21:00:08.272Z"
   },
   {
    "duration": 4,
    "start_time": "2024-03-19T21:00:45.250Z"
   },
   {
    "duration": 4,
    "start_time": "2024-03-19T21:01:53.297Z"
   },
   {
    "duration": 10,
    "start_time": "2024-03-19T21:02:04.825Z"
   },
   {
    "duration": 3,
    "start_time": "2024-03-19T21:02:34.231Z"
   },
   {
    "duration": 86,
    "start_time": "2024-03-19T21:02:34.236Z"
   },
   {
    "duration": 7,
    "start_time": "2024-03-19T21:02:34.324Z"
   },
   {
    "duration": 31,
    "start_time": "2024-03-19T21:02:34.333Z"
   },
   {
    "duration": 32,
    "start_time": "2024-03-19T21:02:34.366Z"
   },
   {
    "duration": 34,
    "start_time": "2024-03-19T21:02:34.400Z"
   },
   {
    "duration": 25,
    "start_time": "2024-03-19T21:02:34.435Z"
   },
   {
    "duration": 14,
    "start_time": "2024-03-19T21:02:34.461Z"
   },
   {
    "duration": 23,
    "start_time": "2024-03-19T21:02:34.477Z"
   },
   {
    "duration": 11,
    "start_time": "2024-03-19T21:02:34.502Z"
   },
   {
    "duration": 21,
    "start_time": "2024-03-19T21:02:34.514Z"
   },
   {
    "duration": 13,
    "start_time": "2024-03-19T21:02:34.536Z"
   },
   {
    "duration": 45,
    "start_time": "2024-03-19T21:02:34.550Z"
   },
   {
    "duration": 1637,
    "start_time": "2024-03-19T21:10:04.120Z"
   },
   {
    "duration": 1614,
    "start_time": "2024-03-19T21:11:04.810Z"
   },
   {
    "duration": 2,
    "start_time": "2024-03-19T21:11:19.912Z"
   },
   {
    "duration": 72,
    "start_time": "2024-03-19T21:11:19.916Z"
   },
   {
    "duration": 8,
    "start_time": "2024-03-19T21:11:19.990Z"
   },
   {
    "duration": 26,
    "start_time": "2024-03-19T21:11:20.000Z"
   },
   {
    "duration": 21,
    "start_time": "2024-03-19T21:11:20.028Z"
   },
   {
    "duration": 11,
    "start_time": "2024-03-19T21:11:20.051Z"
   },
   {
    "duration": 12,
    "start_time": "2024-03-19T21:11:20.063Z"
   },
   {
    "duration": 13,
    "start_time": "2024-03-19T21:11:20.076Z"
   },
   {
    "duration": 14,
    "start_time": "2024-03-19T21:11:20.090Z"
   },
   {
    "duration": 5,
    "start_time": "2024-03-19T21:11:20.106Z"
   },
   {
    "duration": 7,
    "start_time": "2024-03-19T21:11:20.113Z"
   },
   {
    "duration": 8,
    "start_time": "2024-03-19T21:11:20.121Z"
   },
   {
    "duration": 45,
    "start_time": "2024-03-19T21:11:20.130Z"
   },
   {
    "duration": 1654,
    "start_time": "2024-03-19T21:11:20.177Z"
   },
   {
    "duration": 12,
    "start_time": "2024-03-19T21:12:06.333Z"
   },
   {
    "duration": 4,
    "start_time": "2024-03-19T21:12:40.802Z"
   },
   {
    "duration": 10,
    "start_time": "2024-03-19T21:12:52.419Z"
   },
   {
    "duration": 102,
    "start_time": "2024-03-19T21:20:48.261Z"
   },
   {
    "duration": 10,
    "start_time": "2024-03-19T21:24:10.825Z"
   },
   {
    "duration": 3,
    "start_time": "2024-03-19T21:24:18.584Z"
   },
   {
    "duration": 70,
    "start_time": "2024-03-19T21:24:18.589Z"
   },
   {
    "duration": 8,
    "start_time": "2024-03-19T21:24:18.661Z"
   },
   {
    "duration": 16,
    "start_time": "2024-03-19T21:24:18.671Z"
   },
   {
    "duration": 15,
    "start_time": "2024-03-19T21:24:18.690Z"
   },
   {
    "duration": 17,
    "start_time": "2024-03-19T21:24:18.706Z"
   },
   {
    "duration": 6,
    "start_time": "2024-03-19T21:24:18.725Z"
   },
   {
    "duration": 15,
    "start_time": "2024-03-19T21:24:18.733Z"
   },
   {
    "duration": 34,
    "start_time": "2024-03-19T21:24:18.750Z"
   },
   {
    "duration": 10,
    "start_time": "2024-03-19T21:24:18.785Z"
   },
   {
    "duration": 17,
    "start_time": "2024-03-19T21:24:18.796Z"
   },
   {
    "duration": 13,
    "start_time": "2024-03-19T21:24:18.814Z"
   },
   {
    "duration": 28,
    "start_time": "2024-03-19T21:24:18.829Z"
   },
   {
    "duration": 10,
    "start_time": "2024-03-19T21:24:18.860Z"
   },
   {
    "duration": 3,
    "start_time": "2024-03-19T21:24:18.871Z"
   },
   {
    "duration": 11,
    "start_time": "2024-03-19T21:24:18.875Z"
   },
   {
    "duration": 5,
    "start_time": "2024-03-19T21:24:28.459Z"
   },
   {
    "duration": 9,
    "start_time": "2024-03-19T21:24:39.484Z"
   },
   {
    "duration": 12,
    "start_time": "2024-03-19T21:24:59.800Z"
   },
   {
    "duration": 8,
    "start_time": "2024-03-19T21:25:18.457Z"
   },
   {
    "duration": 13,
    "start_time": "2024-03-19T21:28:09.204Z"
   },
   {
    "duration": 2,
    "start_time": "2024-03-19T21:28:33.795Z"
   },
   {
    "duration": 66,
    "start_time": "2024-03-19T21:28:33.806Z"
   },
   {
    "duration": 8,
    "start_time": "2024-03-19T21:28:33.874Z"
   },
   {
    "duration": 10,
    "start_time": "2024-03-19T21:28:33.883Z"
   },
   {
    "duration": 8,
    "start_time": "2024-03-19T21:28:33.894Z"
   },
   {
    "duration": 11,
    "start_time": "2024-03-19T21:28:33.903Z"
   },
   {
    "duration": 5,
    "start_time": "2024-03-19T21:28:33.916Z"
   },
   {
    "duration": 11,
    "start_time": "2024-03-19T21:28:33.923Z"
   },
   {
    "duration": 43,
    "start_time": "2024-03-19T21:28:33.935Z"
   },
   {
    "duration": 6,
    "start_time": "2024-03-19T21:28:33.980Z"
   },
   {
    "duration": 13,
    "start_time": "2024-03-19T21:28:33.989Z"
   },
   {
    "duration": 5,
    "start_time": "2024-03-19T21:28:34.004Z"
   },
   {
    "duration": 59,
    "start_time": "2024-03-19T21:28:34.011Z"
   },
   {
    "duration": 11,
    "start_time": "2024-03-19T21:28:34.072Z"
   },
   {
    "duration": 12,
    "start_time": "2024-03-19T21:28:34.084Z"
   },
   {
    "duration": 304,
    "start_time": "2024-03-19T21:30:00.846Z"
   },
   {
    "duration": 3,
    "start_time": "2024-03-19T21:30:04.028Z"
   },
   {
    "duration": 73,
    "start_time": "2024-03-19T21:30:04.033Z"
   },
   {
    "duration": 9,
    "start_time": "2024-03-19T21:30:04.108Z"
   },
   {
    "duration": 23,
    "start_time": "2024-03-19T21:30:04.119Z"
   },
   {
    "duration": 15,
    "start_time": "2024-03-19T21:30:04.146Z"
   },
   {
    "duration": 11,
    "start_time": "2024-03-19T21:30:04.163Z"
   },
   {
    "duration": 7,
    "start_time": "2024-03-19T21:30:04.175Z"
   },
   {
    "duration": 11,
    "start_time": "2024-03-19T21:30:04.184Z"
   },
   {
    "duration": 19,
    "start_time": "2024-03-19T21:30:04.197Z"
   },
   {
    "duration": 7,
    "start_time": "2024-03-19T21:30:04.218Z"
   },
   {
    "duration": 28,
    "start_time": "2024-03-19T21:30:04.226Z"
   },
   {
    "duration": 16,
    "start_time": "2024-03-19T21:30:04.255Z"
   },
   {
    "duration": 29,
    "start_time": "2024-03-19T21:30:04.272Z"
   },
   {
    "duration": 9,
    "start_time": "2024-03-19T21:30:04.303Z"
   },
   {
    "duration": 16,
    "start_time": "2024-03-19T21:30:04.314Z"
   },
   {
    "duration": 226,
    "start_time": "2024-03-19T21:31:01.858Z"
   },
   {
    "duration": 9,
    "start_time": "2024-03-19T21:31:29.833Z"
   },
   {
    "duration": 7,
    "start_time": "2024-03-19T21:32:00.489Z"
   },
   {
    "duration": 194,
    "start_time": "2024-03-19T21:32:10.344Z"
   },
   {
    "duration": 126,
    "start_time": "2024-03-19T21:32:33.777Z"
   },
   {
    "duration": 132,
    "start_time": "2024-03-19T21:33:22.534Z"
   },
   {
    "duration": 126,
    "start_time": "2024-03-19T21:33:39.425Z"
   },
   {
    "duration": 118,
    "start_time": "2024-03-19T21:34:50.826Z"
   },
   {
    "duration": 12,
    "start_time": "2024-03-19T21:35:05.377Z"
   },
   {
    "duration": 123,
    "start_time": "2024-03-19T21:45:13.779Z"
   },
   {
    "duration": 137,
    "start_time": "2024-03-19T21:45:24.058Z"
   },
   {
    "duration": 126,
    "start_time": "2024-03-19T21:45:33.856Z"
   },
   {
    "duration": 124,
    "start_time": "2024-03-19T21:45:54.834Z"
   },
   {
    "duration": 143,
    "start_time": "2024-03-19T21:46:40.923Z"
   },
   {
    "duration": 148,
    "start_time": "2024-03-19T21:47:10.921Z"
   },
   {
    "duration": 141,
    "start_time": "2024-03-19T21:52:29.470Z"
   },
   {
    "duration": 5,
    "start_time": "2024-03-19T21:55:26.287Z"
   },
   {
    "duration": 6,
    "start_time": "2024-03-19T21:56:32.878Z"
   },
   {
    "duration": 6,
    "start_time": "2024-03-19T21:57:53.662Z"
   },
   {
    "duration": 77,
    "start_time": "2024-03-19T21:59:39.277Z"
   },
   {
    "duration": 5,
    "start_time": "2024-03-19T22:00:44.196Z"
   },
   {
    "duration": 5,
    "start_time": "2024-03-19T22:01:03.109Z"
   },
   {
    "duration": 8,
    "start_time": "2024-03-19T22:05:16.766Z"
   },
   {
    "duration": 4,
    "start_time": "2024-03-19T22:05:28.824Z"
   },
   {
    "duration": 4,
    "start_time": "2024-03-19T22:05:33.070Z"
   },
   {
    "duration": 7,
    "start_time": "2024-03-19T22:05:48.365Z"
   },
   {
    "duration": 6,
    "start_time": "2024-03-19T22:06:47.929Z"
   },
   {
    "duration": 7,
    "start_time": "2024-03-19T22:06:55.832Z"
   },
   {
    "duration": 2,
    "start_time": "2024-03-19T22:07:26.320Z"
   },
   {
    "duration": 68,
    "start_time": "2024-03-19T22:07:26.324Z"
   },
   {
    "duration": 8,
    "start_time": "2024-03-19T22:07:26.394Z"
   },
   {
    "duration": 10,
    "start_time": "2024-03-19T22:07:26.404Z"
   },
   {
    "duration": 8,
    "start_time": "2024-03-19T22:07:26.416Z"
   },
   {
    "duration": 11,
    "start_time": "2024-03-19T22:07:26.425Z"
   },
   {
    "duration": 6,
    "start_time": "2024-03-19T22:07:26.437Z"
   },
   {
    "duration": 9,
    "start_time": "2024-03-19T22:07:26.445Z"
   },
   {
    "duration": 13,
    "start_time": "2024-03-19T22:07:26.469Z"
   },
   {
    "duration": 7,
    "start_time": "2024-03-19T22:07:26.484Z"
   },
   {
    "duration": 14,
    "start_time": "2024-03-19T22:07:26.492Z"
   },
   {
    "duration": 4,
    "start_time": "2024-03-19T22:07:26.507Z"
   },
   {
    "duration": 21,
    "start_time": "2024-03-19T22:07:26.513Z"
   },
   {
    "duration": 41,
    "start_time": "2024-03-19T22:07:26.536Z"
   },
   {
    "duration": 6,
    "start_time": "2024-03-19T22:07:26.579Z"
   },
   {
    "duration": 170,
    "start_time": "2024-03-19T22:07:26.587Z"
   },
   {
    "duration": 12,
    "start_time": "2024-03-19T22:07:26.759Z"
   },
   {
    "duration": 75,
    "start_time": "2024-03-19T22:07:26.773Z"
   },
   {
    "duration": 24,
    "start_time": "2024-03-19T22:07:26.849Z"
   },
   {
    "duration": 9,
    "start_time": "2024-03-19T22:07:40.729Z"
   },
   {
    "duration": 4,
    "start_time": "2024-03-19T22:08:06.498Z"
   },
   {
    "duration": 4,
    "start_time": "2024-03-19T22:08:09.073Z"
   },
   {
    "duration": 7,
    "start_time": "2024-03-19T22:08:16.143Z"
   },
   {
    "duration": 9,
    "start_time": "2024-03-19T22:08:34.659Z"
   },
   {
    "duration": 9,
    "start_time": "2024-03-19T22:08:40.426Z"
   },
   {
    "duration": 6,
    "start_time": "2024-03-19T22:12:01.979Z"
   },
   {
    "duration": 5,
    "start_time": "2024-03-19T22:12:08.320Z"
   },
   {
    "duration": 5,
    "start_time": "2024-03-19T22:12:51.104Z"
   },
   {
    "duration": 143,
    "start_time": "2024-03-19T22:13:51.803Z"
   },
   {
    "duration": 2,
    "start_time": "2024-03-19T22:15:31.678Z"
   },
   {
    "duration": 105,
    "start_time": "2024-03-19T22:15:31.682Z"
   },
   {
    "duration": 8,
    "start_time": "2024-03-19T22:15:31.788Z"
   },
   {
    "duration": 25,
    "start_time": "2024-03-19T22:15:31.798Z"
   },
   {
    "duration": 32,
    "start_time": "2024-03-19T22:15:31.826Z"
   },
   {
    "duration": 14,
    "start_time": "2024-03-19T22:15:31.860Z"
   },
   {
    "duration": 6,
    "start_time": "2024-03-19T22:15:31.875Z"
   },
   {
    "duration": 18,
    "start_time": "2024-03-19T22:15:31.883Z"
   },
   {
    "duration": 15,
    "start_time": "2024-03-19T22:15:31.902Z"
   },
   {
    "duration": 6,
    "start_time": "2024-03-19T22:15:31.919Z"
   },
   {
    "duration": 24,
    "start_time": "2024-03-19T22:15:31.927Z"
   },
   {
    "duration": 18,
    "start_time": "2024-03-19T22:15:31.953Z"
   },
   {
    "duration": 37,
    "start_time": "2024-03-19T22:15:31.974Z"
   },
   {
    "duration": 10,
    "start_time": "2024-03-19T22:15:32.012Z"
   },
   {
    "duration": 5,
    "start_time": "2024-03-19T22:15:32.024Z"
   },
   {
    "duration": 154,
    "start_time": "2024-03-19T22:15:32.031Z"
   },
   {
    "duration": 6,
    "start_time": "2024-03-19T22:15:32.186Z"
   },
   {
    "duration": 89,
    "start_time": "2024-03-19T22:15:32.193Z"
   },
   {
    "duration": 5,
    "start_time": "2024-03-19T22:15:32.283Z"
   },
   {
    "duration": 143,
    "start_time": "2024-03-19T22:15:32.289Z"
   },
   {
    "duration": 5,
    "start_time": "2024-03-19T22:17:36.313Z"
   },
   {
    "duration": 137,
    "start_time": "2024-03-19T22:18:30.001Z"
   },
   {
    "duration": 9,
    "start_time": "2024-03-19T22:20:29.474Z"
   },
   {
    "duration": 123,
    "start_time": "2024-03-19T22:20:34.769Z"
   },
   {
    "duration": 135,
    "start_time": "2024-03-19T22:21:35.195Z"
   },
   {
    "duration": 139,
    "start_time": "2024-03-19T22:23:02.133Z"
   },
   {
    "duration": 98,
    "start_time": "2024-03-19T22:23:10.400Z"
   },
   {
    "duration": 148,
    "start_time": "2024-03-19T22:25:31.763Z"
   },
   {
    "duration": 621,
    "start_time": "2024-03-19T22:26:06.911Z"
   },
   {
    "duration": 654,
    "start_time": "2024-03-19T22:26:44.926Z"
   },
   {
    "duration": 216,
    "start_time": "2024-03-19T22:27:17.197Z"
   },
   {
    "duration": 156,
    "start_time": "2024-03-19T22:28:27.529Z"
   },
   {
    "duration": 93,
    "start_time": "2024-03-19T22:28:35.581Z"
   },
   {
    "duration": 106,
    "start_time": "2024-03-19T22:28:49.879Z"
   },
   {
    "duration": 1632,
    "start_time": "2024-03-19T22:29:06.194Z"
   },
   {
    "duration": 17,
    "start_time": "2024-03-19T22:29:22.553Z"
   },
   {
    "duration": 1603,
    "start_time": "2024-03-19T22:29:39.319Z"
   },
   {
    "duration": 8,
    "start_time": "2024-03-19T22:30:46.662Z"
   },
   {
    "duration": 136,
    "start_time": "2024-03-19T22:31:00.739Z"
   },
   {
    "duration": 130,
    "start_time": "2024-03-19T22:31:11.441Z"
   },
   {
    "duration": 103,
    "start_time": "2024-03-19T22:31:28.035Z"
   },
   {
    "duration": 1602,
    "start_time": "2024-03-19T22:33:19.032Z"
   },
   {
    "duration": 6,
    "start_time": "2024-03-19T22:33:51.881Z"
   },
   {
    "duration": 11,
    "start_time": "2024-03-19T22:34:28.059Z"
   },
   {
    "duration": 9,
    "start_time": "2024-03-19T22:34:38.664Z"
   },
   {
    "duration": 410,
    "start_time": "2024-03-19T22:35:16.709Z"
   },
   {
    "duration": 5,
    "start_time": "2024-03-19T22:35:32.580Z"
   },
   {
    "duration": 9,
    "start_time": "2024-03-19T22:35:50.118Z"
   },
   {
    "duration": 1573,
    "start_time": "2024-03-19T22:36:28.563Z"
   },
   {
    "duration": 1487,
    "start_time": "2024-03-19T22:36:33.058Z"
   },
   {
    "duration": 126,
    "start_time": "2024-03-19T22:37:47.372Z"
   },
   {
    "duration": 103,
    "start_time": "2024-03-19T22:37:57.343Z"
   },
   {
    "duration": 5,
    "start_time": "2024-03-19T22:38:05.026Z"
   },
   {
    "duration": 5,
    "start_time": "2024-03-19T22:38:40.335Z"
   },
   {
    "duration": 148,
    "start_time": "2024-03-19T22:41:04.209Z"
   },
   {
    "duration": 156,
    "start_time": "2024-03-19T22:41:44.136Z"
   },
   {
    "duration": 154,
    "start_time": "2024-03-19T22:42:12.600Z"
   },
   {
    "duration": 152,
    "start_time": "2024-03-19T22:42:34.685Z"
   },
   {
    "duration": 172,
    "start_time": "2024-03-19T22:51:02.444Z"
   },
   {
    "duration": 157,
    "start_time": "2024-03-19T22:51:14.110Z"
   },
   {
    "duration": 170,
    "start_time": "2024-03-19T22:51:28.847Z"
   },
   {
    "duration": 181,
    "start_time": "2024-03-19T22:51:33.586Z"
   },
   {
    "duration": 5,
    "start_time": "2024-03-19T22:53:14.239Z"
   },
   {
    "duration": 8,
    "start_time": "2024-03-19T22:53:29.086Z"
   },
   {
    "duration": 4,
    "start_time": "2024-03-19T23:00:24.197Z"
   },
   {
    "duration": 5,
    "start_time": "2024-03-19T23:00:35.888Z"
   },
   {
    "duration": 10,
    "start_time": "2024-03-19T23:07:24.876Z"
   },
   {
    "duration": 1633,
    "start_time": "2024-03-19T23:07:36.296Z"
   },
   {
    "duration": 12,
    "start_time": "2024-03-19T23:07:51.469Z"
   },
   {
    "duration": 118,
    "start_time": "2024-03-19T23:10:48.252Z"
   },
   {
    "duration": 13,
    "start_time": "2024-03-19T23:10:54.355Z"
   },
   {
    "duration": 14,
    "start_time": "2024-03-19T23:11:19.235Z"
   },
   {
    "duration": 186,
    "start_time": "2024-03-19T23:13:24.385Z"
   },
   {
    "duration": 8,
    "start_time": "2024-03-19T23:16:07.025Z"
   },
   {
    "duration": 103,
    "start_time": "2024-03-19T23:17:07.395Z"
   },
   {
    "duration": 9,
    "start_time": "2024-03-19T23:17:52.565Z"
   },
   {
    "duration": 106,
    "start_time": "2024-03-19T23:25:24.233Z"
   },
   {
    "duration": 240,
    "start_time": "2024-03-19T23:25:40.986Z"
   },
   {
    "duration": 212,
    "start_time": "2024-03-19T23:25:48.784Z"
   },
   {
    "duration": 205,
    "start_time": "2024-03-19T23:26:02.523Z"
   },
   {
    "duration": 75,
    "start_time": "2024-03-19T23:26:23.122Z"
   },
   {
    "duration": 79,
    "start_time": "2024-03-19T23:27:24.052Z"
   },
   {
    "duration": 77,
    "start_time": "2024-03-19T23:27:37.053Z"
   },
   {
    "duration": 75,
    "start_time": "2024-03-19T23:27:47.192Z"
   },
   {
    "duration": 74,
    "start_time": "2024-03-19T23:27:56.709Z"
   },
   {
    "duration": 79,
    "start_time": "2024-03-19T23:28:02.628Z"
   },
   {
    "duration": 73,
    "start_time": "2024-03-19T23:28:17.969Z"
   },
   {
    "duration": 75,
    "start_time": "2024-03-19T23:28:28.811Z"
   },
   {
    "duration": 180,
    "start_time": "2024-03-19T23:28:50.139Z"
   },
   {
    "duration": 2,
    "start_time": "2024-03-19T23:28:57.194Z"
   },
   {
    "duration": 83,
    "start_time": "2024-03-19T23:28:57.198Z"
   },
   {
    "duration": 7,
    "start_time": "2024-03-19T23:28:57.283Z"
   },
   {
    "duration": 34,
    "start_time": "2024-03-19T23:28:57.292Z"
   },
   {
    "duration": 28,
    "start_time": "2024-03-19T23:28:57.329Z"
   },
   {
    "duration": 19,
    "start_time": "2024-03-19T23:28:57.358Z"
   },
   {
    "duration": 11,
    "start_time": "2024-03-19T23:28:57.379Z"
   },
   {
    "duration": 10,
    "start_time": "2024-03-19T23:28:57.391Z"
   },
   {
    "duration": 12,
    "start_time": "2024-03-19T23:28:57.403Z"
   },
   {
    "duration": 7,
    "start_time": "2024-03-19T23:28:57.417Z"
   },
   {
    "duration": 13,
    "start_time": "2024-03-19T23:28:57.427Z"
   },
   {
    "duration": 96,
    "start_time": "2024-03-19T23:28:57.442Z"
   },
   {
    "duration": 0,
    "start_time": "2024-03-19T23:28:57.540Z"
   },
   {
    "duration": 0,
    "start_time": "2024-03-19T23:28:57.542Z"
   },
   {
    "duration": 0,
    "start_time": "2024-03-19T23:28:57.543Z"
   },
   {
    "duration": 0,
    "start_time": "2024-03-19T23:28:57.545Z"
   },
   {
    "duration": 0,
    "start_time": "2024-03-19T23:28:57.546Z"
   },
   {
    "duration": 0,
    "start_time": "2024-03-19T23:28:57.548Z"
   },
   {
    "duration": 0,
    "start_time": "2024-03-19T23:28:57.549Z"
   },
   {
    "duration": 0,
    "start_time": "2024-03-19T23:28:57.550Z"
   },
   {
    "duration": 0,
    "start_time": "2024-03-19T23:28:57.552Z"
   },
   {
    "duration": 0,
    "start_time": "2024-03-19T23:28:57.553Z"
   },
   {
    "duration": 0,
    "start_time": "2024-03-19T23:28:57.555Z"
   },
   {
    "duration": 0,
    "start_time": "2024-03-19T23:28:57.556Z"
   },
   {
    "duration": 0,
    "start_time": "2024-03-19T23:28:57.558Z"
   },
   {
    "duration": 3,
    "start_time": "2024-03-19T23:29:45.846Z"
   },
   {
    "duration": 67,
    "start_time": "2024-03-19T23:29:45.850Z"
   },
   {
    "duration": 8,
    "start_time": "2024-03-19T23:29:45.918Z"
   },
   {
    "duration": 13,
    "start_time": "2024-03-19T23:29:45.928Z"
   },
   {
    "duration": 9,
    "start_time": "2024-03-19T23:29:45.943Z"
   },
   {
    "duration": 23,
    "start_time": "2024-03-19T23:29:45.953Z"
   },
   {
    "duration": 11,
    "start_time": "2024-03-19T23:29:45.978Z"
   },
   {
    "duration": 19,
    "start_time": "2024-03-19T23:29:45.990Z"
   },
   {
    "duration": 15,
    "start_time": "2024-03-19T23:29:46.010Z"
   },
   {
    "duration": 5,
    "start_time": "2024-03-19T23:29:46.027Z"
   },
   {
    "duration": 20,
    "start_time": "2024-03-19T23:29:46.033Z"
   },
   {
    "duration": 5,
    "start_time": "2024-03-19T23:29:46.055Z"
   },
   {
    "duration": 20,
    "start_time": "2024-03-19T23:29:46.070Z"
   },
   {
    "duration": 10,
    "start_time": "2024-03-19T23:29:46.093Z"
   },
   {
    "duration": 6,
    "start_time": "2024-03-19T23:29:46.104Z"
   },
   {
    "duration": 174,
    "start_time": "2024-03-19T23:29:46.112Z"
   },
   {
    "duration": 5,
    "start_time": "2024-03-19T23:29:46.288Z"
   },
   {
    "duration": 82,
    "start_time": "2024-03-19T23:29:46.294Z"
   },
   {
    "duration": 194,
    "start_time": "2024-03-19T23:29:46.377Z"
   },
   {
    "duration": 5,
    "start_time": "2024-03-19T23:29:46.573Z"
   },
   {
    "duration": 218,
    "start_time": "2024-03-19T23:29:46.579Z"
   },
   {
    "duration": 7,
    "start_time": "2024-03-19T23:29:46.798Z"
   },
   {
    "duration": 124,
    "start_time": "2024-03-19T23:29:46.807Z"
   },
   {
    "duration": 5,
    "start_time": "2024-03-19T23:29:46.933Z"
   },
   {
    "duration": 174,
    "start_time": "2024-03-19T23:32:03.959Z"
   },
   {
    "duration": 171,
    "start_time": "2024-03-19T23:32:16.003Z"
   },
   {
    "duration": 310,
    "start_time": "2024-03-19T23:32:24.571Z"
   },
   {
    "duration": 177,
    "start_time": "2024-03-19T23:32:36.454Z"
   },
   {
    "duration": 14,
    "start_time": "2024-03-19T23:34:38.164Z"
   },
   {
    "duration": 12,
    "start_time": "2024-03-19T23:35:11.187Z"
   },
   {
    "duration": 199,
    "start_time": "2024-03-19T23:40:21.207Z"
   },
   {
    "duration": 205,
    "start_time": "2024-03-19T23:40:45.559Z"
   },
   {
    "duration": 12,
    "start_time": "2024-03-19T23:47:49.299Z"
   },
   {
    "duration": 9,
    "start_time": "2024-03-19T23:50:36.254Z"
   },
   {
    "duration": 9,
    "start_time": "2024-03-19T23:56:01.421Z"
   },
   {
    "duration": 9,
    "start_time": "2024-03-19T23:56:09.515Z"
   },
   {
    "duration": 6,
    "start_time": "2024-03-19T23:57:04.119Z"
   },
   {
    "duration": 11,
    "start_time": "2024-03-19T23:58:02.412Z"
   },
   {
    "duration": 25,
    "start_time": "2024-03-20T00:00:18.141Z"
   },
   {
    "duration": 21,
    "start_time": "2024-03-20T00:01:27.774Z"
   },
   {
    "duration": 22,
    "start_time": "2024-03-20T00:04:02.205Z"
   },
   {
    "duration": 22,
    "start_time": "2024-03-20T00:04:55.031Z"
   },
   {
    "duration": 8,
    "start_time": "2024-03-20T00:06:52.858Z"
   },
   {
    "duration": 14,
    "start_time": "2024-03-20T00:07:05.182Z"
   },
   {
    "duration": 14,
    "start_time": "2024-03-20T00:08:04.973Z"
   },
   {
    "duration": 3,
    "start_time": "2024-03-20T00:20:11.618Z"
   },
   {
    "duration": 72,
    "start_time": "2024-03-20T00:20:11.623Z"
   },
   {
    "duration": 8,
    "start_time": "2024-03-20T00:20:11.696Z"
   },
   {
    "duration": 23,
    "start_time": "2024-03-20T00:20:11.705Z"
   },
   {
    "duration": 20,
    "start_time": "2024-03-20T00:20:11.730Z"
   },
   {
    "duration": 22,
    "start_time": "2024-03-20T00:20:11.751Z"
   },
   {
    "duration": 6,
    "start_time": "2024-03-20T00:20:11.775Z"
   },
   {
    "duration": 12,
    "start_time": "2024-03-20T00:20:11.783Z"
   },
   {
    "duration": 28,
    "start_time": "2024-03-20T00:20:11.797Z"
   },
   {
    "duration": 7,
    "start_time": "2024-03-20T00:20:11.826Z"
   },
   {
    "duration": 34,
    "start_time": "2024-03-20T00:20:11.834Z"
   },
   {
    "duration": 4,
    "start_time": "2024-03-20T00:20:11.869Z"
   },
   {
    "duration": 28,
    "start_time": "2024-03-20T00:20:11.874Z"
   },
   {
    "duration": 10,
    "start_time": "2024-03-20T00:20:11.905Z"
   },
   {
    "duration": 5,
    "start_time": "2024-03-20T00:20:11.916Z"
   },
   {
    "duration": 159,
    "start_time": "2024-03-20T00:20:11.923Z"
   },
   {
    "duration": 6,
    "start_time": "2024-03-20T00:20:12.083Z"
   },
   {
    "duration": 92,
    "start_time": "2024-03-20T00:20:12.090Z"
   },
   {
    "duration": 185,
    "start_time": "2024-03-20T00:20:12.184Z"
   },
   {
    "duration": 5,
    "start_time": "2024-03-20T00:20:12.371Z"
   },
   {
    "duration": 226,
    "start_time": "2024-03-20T00:20:12.378Z"
   },
   {
    "duration": 8,
    "start_time": "2024-03-20T00:20:12.607Z"
   },
   {
    "duration": 116,
    "start_time": "2024-03-20T00:20:12.616Z"
   },
   {
    "duration": 12,
    "start_time": "2024-03-20T00:20:12.734Z"
   },
   {
    "duration": 234,
    "start_time": "2024-03-20T00:20:12.748Z"
   },
   {
    "duration": 21,
    "start_time": "2024-03-20T00:20:12.984Z"
   },
   {
    "duration": 23,
    "start_time": "2024-03-20T00:20:13.007Z"
   },
   {
    "duration": 38,
    "start_time": "2024-03-20T00:20:13.032Z"
   },
   {
    "duration": 17,
    "start_time": "2024-03-20T00:20:13.072Z"
   },
   {
    "duration": 5,
    "start_time": "2024-03-20T00:20:13.091Z"
   },
   {
    "duration": 225,
    "start_time": "2024-03-20T00:20:47.567Z"
   },
   {
    "duration": 192,
    "start_time": "2024-03-20T00:21:08.138Z"
   },
   {
    "duration": 214,
    "start_time": "2024-03-20T00:23:21.832Z"
   },
   {
    "duration": 211,
    "start_time": "2024-03-20T00:23:39.458Z"
   },
   {
    "duration": 177,
    "start_time": "2024-03-20T00:30:23.083Z"
   },
   {
    "duration": 353,
    "start_time": "2024-03-20T00:31:31.843Z"
   },
   {
    "duration": 121,
    "start_time": "2024-03-20T00:31:52.849Z"
   },
   {
    "duration": 117,
    "start_time": "2024-03-20T00:32:13.004Z"
   },
   {
    "duration": 126,
    "start_time": "2024-03-20T00:32:24.449Z"
   },
   {
    "duration": 150,
    "start_time": "2024-03-20T00:33:58.628Z"
   },
   {
    "duration": 157,
    "start_time": "2024-03-20T00:35:16.248Z"
   },
   {
    "duration": 161,
    "start_time": "2024-03-20T00:35:26.775Z"
   },
   {
    "duration": 162,
    "start_time": "2024-03-20T00:35:59.061Z"
   },
   {
    "duration": 158,
    "start_time": "2024-03-20T00:36:08.280Z"
   },
   {
    "duration": 158,
    "start_time": "2024-03-20T00:36:33.253Z"
   },
   {
    "duration": 172,
    "start_time": "2024-03-20T00:37:08.429Z"
   },
   {
    "duration": 168,
    "start_time": "2024-03-20T00:37:45.232Z"
   },
   {
    "duration": 5,
    "start_time": "2024-03-20T00:45:01.656Z"
   },
   {
    "duration": 5,
    "start_time": "2024-03-20T00:45:34.837Z"
   },
   {
    "duration": 49,
    "start_time": "2024-03-20T06:57:45.427Z"
   },
   {
    "duration": 782,
    "start_time": "2024-03-20T06:57:49.555Z"
   },
   {
    "duration": 298,
    "start_time": "2024-03-20T06:57:50.340Z"
   },
   {
    "duration": 13,
    "start_time": "2024-03-20T06:57:50.640Z"
   },
   {
    "duration": 29,
    "start_time": "2024-03-20T06:57:50.655Z"
   },
   {
    "duration": 26,
    "start_time": "2024-03-20T06:57:50.687Z"
   },
   {
    "duration": 22,
    "start_time": "2024-03-20T06:57:50.715Z"
   },
   {
    "duration": 6,
    "start_time": "2024-03-20T06:57:50.738Z"
   },
   {
    "duration": 10,
    "start_time": "2024-03-20T06:57:50.745Z"
   },
   {
    "duration": 13,
    "start_time": "2024-03-20T06:57:50.756Z"
   },
   {
    "duration": 8,
    "start_time": "2024-03-20T06:57:50.771Z"
   },
   {
    "duration": 49,
    "start_time": "2024-03-20T06:57:50.781Z"
   },
   {
    "duration": 0,
    "start_time": "2024-03-20T06:57:50.832Z"
   },
   {
    "duration": 0,
    "start_time": "2024-03-20T06:57:50.834Z"
   },
   {
    "duration": 0,
    "start_time": "2024-03-20T06:57:50.835Z"
   },
   {
    "duration": 0,
    "start_time": "2024-03-20T06:57:50.836Z"
   },
   {
    "duration": 0,
    "start_time": "2024-03-20T06:57:50.837Z"
   },
   {
    "duration": 0,
    "start_time": "2024-03-20T06:57:50.838Z"
   },
   {
    "duration": 0,
    "start_time": "2024-03-20T06:57:50.839Z"
   },
   {
    "duration": 0,
    "start_time": "2024-03-20T06:57:50.840Z"
   },
   {
    "duration": 0,
    "start_time": "2024-03-20T06:57:50.841Z"
   },
   {
    "duration": 0,
    "start_time": "2024-03-20T06:57:50.842Z"
   },
   {
    "duration": 0,
    "start_time": "2024-03-20T06:57:50.844Z"
   },
   {
    "duration": 0,
    "start_time": "2024-03-20T06:57:50.845Z"
   },
   {
    "duration": 0,
    "start_time": "2024-03-20T06:57:50.846Z"
   },
   {
    "duration": 0,
    "start_time": "2024-03-20T06:57:50.848Z"
   },
   {
    "duration": 0,
    "start_time": "2024-03-20T06:57:50.849Z"
   },
   {
    "duration": 0,
    "start_time": "2024-03-20T06:57:50.850Z"
   },
   {
    "duration": 0,
    "start_time": "2024-03-20T06:57:50.852Z"
   },
   {
    "duration": 0,
    "start_time": "2024-03-20T06:57:50.853Z"
   },
   {
    "duration": 0,
    "start_time": "2024-03-20T06:57:50.855Z"
   },
   {
    "duration": 0,
    "start_time": "2024-03-20T06:57:50.856Z"
   },
   {
    "duration": 0,
    "start_time": "2024-03-20T06:57:50.857Z"
   },
   {
    "duration": 3,
    "start_time": "2024-03-20T06:58:21.857Z"
   },
   {
    "duration": 77,
    "start_time": "2024-03-20T06:58:21.862Z"
   },
   {
    "duration": 8,
    "start_time": "2024-03-20T06:58:21.940Z"
   },
   {
    "duration": 19,
    "start_time": "2024-03-20T06:58:21.949Z"
   },
   {
    "duration": 20,
    "start_time": "2024-03-20T06:58:21.969Z"
   },
   {
    "duration": 15,
    "start_time": "2024-03-20T06:58:21.991Z"
   },
   {
    "duration": 6,
    "start_time": "2024-03-20T06:58:22.007Z"
   },
   {
    "duration": 15,
    "start_time": "2024-03-20T06:58:22.014Z"
   },
   {
    "duration": 16,
    "start_time": "2024-03-20T06:58:22.031Z"
   },
   {
    "duration": 16,
    "start_time": "2024-03-20T06:58:22.049Z"
   },
   {
    "duration": 13,
    "start_time": "2024-03-20T06:58:22.067Z"
   },
   {
    "duration": 5,
    "start_time": "2024-03-20T06:58:22.081Z"
   },
   {
    "duration": 36,
    "start_time": "2024-03-20T06:58:22.087Z"
   },
   {
    "duration": 10,
    "start_time": "2024-03-20T06:58:22.124Z"
   },
   {
    "duration": 20,
    "start_time": "2024-03-20T06:58:22.135Z"
   },
   {
    "duration": 165,
    "start_time": "2024-03-20T06:58:22.156Z"
   },
   {
    "duration": 7,
    "start_time": "2024-03-20T06:58:22.322Z"
   },
   {
    "duration": 90,
    "start_time": "2024-03-20T06:58:22.331Z"
   },
   {
    "duration": 194,
    "start_time": "2024-03-20T06:58:22.422Z"
   },
   {
    "duration": 4,
    "start_time": "2024-03-20T06:58:22.618Z"
   },
   {
    "duration": 228,
    "start_time": "2024-03-20T06:58:22.624Z"
   },
   {
    "duration": 7,
    "start_time": "2024-03-20T06:58:22.853Z"
   },
   {
    "duration": 176,
    "start_time": "2024-03-20T06:58:22.861Z"
   },
   {
    "duration": 14,
    "start_time": "2024-03-20T06:58:23.039Z"
   },
   {
    "duration": 226,
    "start_time": "2024-03-20T06:58:23.054Z"
   },
   {
    "duration": 21,
    "start_time": "2024-03-20T06:58:23.282Z"
   },
   {
    "duration": 30,
    "start_time": "2024-03-20T06:58:23.304Z"
   },
   {
    "duration": 17,
    "start_time": "2024-03-20T06:58:23.335Z"
   },
   {
    "duration": 14,
    "start_time": "2024-03-20T06:58:23.355Z"
   },
   {
    "duration": 186,
    "start_time": "2024-03-20T06:58:23.370Z"
   },
   {
    "duration": 161,
    "start_time": "2024-03-20T06:58:23.557Z"
   },
   {
    "duration": 11,
    "start_time": "2024-03-20T06:58:23.719Z"
   },
   {
    "duration": 10,
    "start_time": "2024-03-20T07:00:06.915Z"
   },
   {
    "duration": 13,
    "start_time": "2024-03-20T07:01:18.710Z"
   },
   {
    "duration": 13,
    "start_time": "2024-03-20T07:01:56.383Z"
   },
   {
    "duration": 12,
    "start_time": "2024-03-20T07:03:34.220Z"
   },
   {
    "duration": 29,
    "start_time": "2024-03-20T07:03:41.841Z"
   },
   {
    "duration": 14,
    "start_time": "2024-03-20T07:04:00.592Z"
   },
   {
    "duration": 13,
    "start_time": "2024-03-20T07:05:43.758Z"
   },
   {
    "duration": 13,
    "start_time": "2024-03-20T07:06:26.005Z"
   },
   {
    "duration": 18,
    "start_time": "2024-03-20T07:06:50.017Z"
   },
   {
    "duration": 7,
    "start_time": "2024-03-20T07:07:43.375Z"
   },
   {
    "duration": 14,
    "start_time": "2024-03-20T07:07:57.285Z"
   },
   {
    "duration": 12,
    "start_time": "2024-03-20T07:08:07.112Z"
   },
   {
    "duration": 2,
    "start_time": "2024-03-20T08:39:50.056Z"
   },
   {
    "duration": 9,
    "start_time": "2024-03-20T08:40:27.043Z"
   },
   {
    "duration": 8,
    "start_time": "2024-03-20T08:41:14.052Z"
   },
   {
    "duration": 10,
    "start_time": "2024-03-20T08:57:15.760Z"
   },
   {
    "duration": 1242,
    "start_time": "2024-03-20T08:57:29.273Z"
   },
   {
    "duration": 3,
    "start_time": "2024-03-20T08:57:41.915Z"
   },
   {
    "duration": 69,
    "start_time": "2024-03-20T08:57:41.926Z"
   },
   {
    "duration": 9,
    "start_time": "2024-03-20T08:57:41.998Z"
   },
   {
    "duration": 11,
    "start_time": "2024-03-20T08:57:42.009Z"
   },
   {
    "duration": 11,
    "start_time": "2024-03-20T08:57:42.022Z"
   },
   {
    "duration": 14,
    "start_time": "2024-03-20T08:57:42.035Z"
   },
   {
    "duration": 8,
    "start_time": "2024-03-20T08:57:42.050Z"
   },
   {
    "duration": 10,
    "start_time": "2024-03-20T08:57:42.059Z"
   },
   {
    "duration": 20,
    "start_time": "2024-03-20T08:57:42.071Z"
   },
   {
    "duration": 23,
    "start_time": "2024-03-20T08:57:42.093Z"
   },
   {
    "duration": 14,
    "start_time": "2024-03-20T08:57:42.117Z"
   },
   {
    "duration": 5,
    "start_time": "2024-03-20T08:57:42.133Z"
   },
   {
    "duration": 35,
    "start_time": "2024-03-20T08:57:42.140Z"
   },
   {
    "duration": 13,
    "start_time": "2024-03-20T08:57:42.176Z"
   },
   {
    "duration": 25,
    "start_time": "2024-03-20T08:57:42.191Z"
   },
   {
    "duration": 141,
    "start_time": "2024-03-20T08:57:42.217Z"
   },
   {
    "duration": 5,
    "start_time": "2024-03-20T08:57:42.360Z"
   },
   {
    "duration": 96,
    "start_time": "2024-03-20T08:57:42.367Z"
   },
   {
    "duration": 198,
    "start_time": "2024-03-20T08:57:42.464Z"
   },
   {
    "duration": 5,
    "start_time": "2024-03-20T08:57:42.663Z"
   },
   {
    "duration": 225,
    "start_time": "2024-03-20T08:57:42.670Z"
   },
   {
    "duration": 7,
    "start_time": "2024-03-20T08:57:42.896Z"
   },
   {
    "duration": 112,
    "start_time": "2024-03-20T08:57:42.904Z"
   },
   {
    "duration": 13,
    "start_time": "2024-03-20T08:57:43.017Z"
   },
   {
    "duration": 250,
    "start_time": "2024-03-20T08:57:43.031Z"
   },
   {
    "duration": 23,
    "start_time": "2024-03-20T08:57:43.282Z"
   },
   {
    "duration": 32,
    "start_time": "2024-03-20T08:57:43.306Z"
   },
   {
    "duration": 18,
    "start_time": "2024-03-20T08:57:43.339Z"
   },
   {
    "duration": 21,
    "start_time": "2024-03-20T08:57:43.358Z"
   },
   {
    "duration": 253,
    "start_time": "2024-03-20T08:57:43.381Z"
   },
   {
    "duration": 179,
    "start_time": "2024-03-20T08:57:43.636Z"
   },
   {
    "duration": 13,
    "start_time": "2024-03-20T08:57:43.817Z"
   },
   {
    "duration": 9,
    "start_time": "2024-03-20T08:57:43.831Z"
   },
   {
    "duration": 1239,
    "start_time": "2024-03-20T08:57:43.842Z"
   },
   {
    "duration": 1670,
    "start_time": "2024-03-20T08:58:38.647Z"
   },
   {
    "duration": 5,
    "start_time": "2024-03-20T08:59:00.289Z"
   },
   {
    "duration": 1167,
    "start_time": "2024-03-20T08:59:46.546Z"
   },
   {
    "duration": 1224,
    "start_time": "2024-03-20T09:00:25.150Z"
   },
   {
    "duration": 3,
    "start_time": "2024-03-20T09:01:20.555Z"
   },
   {
    "duration": 73,
    "start_time": "2024-03-20T09:01:20.565Z"
   },
   {
    "duration": 9,
    "start_time": "2024-03-20T09:01:20.640Z"
   },
   {
    "duration": 11,
    "start_time": "2024-03-20T09:01:20.650Z"
   },
   {
    "duration": 13,
    "start_time": "2024-03-20T09:01:20.663Z"
   },
   {
    "duration": 30,
    "start_time": "2024-03-20T09:01:20.678Z"
   },
   {
    "duration": 7,
    "start_time": "2024-03-20T09:01:20.710Z"
   },
   {
    "duration": 15,
    "start_time": "2024-03-20T09:01:20.718Z"
   },
   {
    "duration": 18,
    "start_time": "2024-03-20T09:01:20.734Z"
   },
   {
    "duration": 6,
    "start_time": "2024-03-20T09:01:20.753Z"
   },
   {
    "duration": 19,
    "start_time": "2024-03-20T09:01:20.760Z"
   },
   {
    "duration": 4,
    "start_time": "2024-03-20T09:01:20.780Z"
   },
   {
    "duration": 40,
    "start_time": "2024-03-20T09:01:20.785Z"
   },
   {
    "duration": 11,
    "start_time": "2024-03-20T09:01:20.827Z"
   },
   {
    "duration": 7,
    "start_time": "2024-03-20T09:01:20.842Z"
   },
   {
    "duration": 166,
    "start_time": "2024-03-20T09:01:20.851Z"
   },
   {
    "duration": 6,
    "start_time": "2024-03-20T09:01:21.018Z"
   },
   {
    "duration": 101,
    "start_time": "2024-03-20T09:01:21.025Z"
   },
   {
    "duration": 186,
    "start_time": "2024-03-20T09:01:21.128Z"
   },
   {
    "duration": 4,
    "start_time": "2024-03-20T09:01:21.316Z"
   },
   {
    "duration": 224,
    "start_time": "2024-03-20T09:01:21.321Z"
   },
   {
    "duration": 7,
    "start_time": "2024-03-20T09:01:21.546Z"
   },
   {
    "duration": 112,
    "start_time": "2024-03-20T09:01:21.554Z"
   },
   {
    "duration": 13,
    "start_time": "2024-03-20T09:01:21.668Z"
   },
   {
    "duration": 227,
    "start_time": "2024-03-20T09:01:21.682Z"
   },
   {
    "duration": 21,
    "start_time": "2024-03-20T09:01:21.914Z"
   },
   {
    "duration": 21,
    "start_time": "2024-03-20T09:01:21.937Z"
   },
   {
    "duration": 20,
    "start_time": "2024-03-20T09:01:21.960Z"
   },
   {
    "duration": 44,
    "start_time": "2024-03-20T09:01:21.982Z"
   },
   {
    "duration": 196,
    "start_time": "2024-03-20T09:01:22.028Z"
   },
   {
    "duration": 169,
    "start_time": "2024-03-20T09:01:22.225Z"
   },
   {
    "duration": 23,
    "start_time": "2024-03-20T09:01:22.395Z"
   },
   {
    "duration": 8,
    "start_time": "2024-03-20T09:01:22.419Z"
   },
   {
    "duration": 1160,
    "start_time": "2024-03-20T09:01:22.429Z"
   },
   {
    "duration": 19,
    "start_time": "2024-03-20T09:11:08.177Z"
   },
   {
    "duration": 3,
    "start_time": "2024-03-20T09:11:40.020Z"
   },
   {
    "duration": 85,
    "start_time": "2024-03-20T09:11:40.030Z"
   },
   {
    "duration": 9,
    "start_time": "2024-03-20T09:11:40.117Z"
   },
   {
    "duration": 43,
    "start_time": "2024-03-20T09:11:40.128Z"
   },
   {
    "duration": 28,
    "start_time": "2024-03-20T09:11:40.173Z"
   },
   {
    "duration": 28,
    "start_time": "2024-03-20T09:11:40.204Z"
   },
   {
    "duration": 39,
    "start_time": "2024-03-20T09:11:40.234Z"
   },
   {
    "duration": 28,
    "start_time": "2024-03-20T09:11:40.274Z"
   },
   {
    "duration": 29,
    "start_time": "2024-03-20T09:11:40.304Z"
   },
   {
    "duration": 12,
    "start_time": "2024-03-20T09:11:40.335Z"
   },
   {
    "duration": 32,
    "start_time": "2024-03-20T09:11:40.349Z"
   },
   {
    "duration": 22,
    "start_time": "2024-03-20T09:11:40.382Z"
   },
   {
    "duration": 28,
    "start_time": "2024-03-20T09:11:40.406Z"
   },
   {
    "duration": 16,
    "start_time": "2024-03-20T09:11:40.435Z"
   },
   {
    "duration": 14,
    "start_time": "2024-03-20T09:11:40.454Z"
   },
   {
    "duration": 150,
    "start_time": "2024-03-20T09:11:40.469Z"
   },
   {
    "duration": 6,
    "start_time": "2024-03-20T09:11:40.621Z"
   },
   {
    "duration": 200,
    "start_time": "2024-03-20T09:11:40.628Z"
   },
   {
    "duration": 200,
    "start_time": "2024-03-20T09:11:40.829Z"
   },
   {
    "duration": 7,
    "start_time": "2024-03-20T09:11:41.031Z"
   },
   {
    "duration": 242,
    "start_time": "2024-03-20T09:11:41.040Z"
   },
   {
    "duration": 7,
    "start_time": "2024-03-20T09:11:41.284Z"
   },
   {
    "duration": 117,
    "start_time": "2024-03-20T09:11:41.292Z"
   },
   {
    "duration": 13,
    "start_time": "2024-03-20T09:11:41.414Z"
   },
   {
    "duration": 218,
    "start_time": "2024-03-20T09:11:41.428Z"
   },
   {
    "duration": 21,
    "start_time": "2024-03-20T09:11:41.648Z"
   },
   {
    "duration": 23,
    "start_time": "2024-03-20T09:11:41.670Z"
   },
   {
    "duration": 37,
    "start_time": "2024-03-20T09:11:41.694Z"
   },
   {
    "duration": 14,
    "start_time": "2024-03-20T09:11:41.732Z"
   },
   {
    "duration": 188,
    "start_time": "2024-03-20T09:11:41.748Z"
   },
   {
    "duration": 185,
    "start_time": "2024-03-20T09:11:41.937Z"
   },
   {
    "duration": 12,
    "start_time": "2024-03-20T09:11:42.123Z"
   },
   {
    "duration": 15,
    "start_time": "2024-03-20T09:11:42.137Z"
   },
   {
    "duration": 24,
    "start_time": "2024-03-20T09:11:42.154Z"
   },
   {
    "duration": 18,
    "start_time": "2024-03-20T09:12:25.867Z"
   },
   {
    "duration": 15,
    "start_time": "2024-03-20T09:15:03.681Z"
   },
   {
    "duration": 1502,
    "start_time": "2024-03-20T09:17:07.004Z"
   },
   {
    "duration": 4,
    "start_time": "2024-03-20T09:18:40.978Z"
   },
   {
    "duration": 6,
    "start_time": "2024-03-20T09:19:23.819Z"
   },
   {
    "duration": 18,
    "start_time": "2024-03-20T09:20:39.729Z"
   },
   {
    "duration": 17,
    "start_time": "2024-03-20T09:21:36.473Z"
   },
   {
    "duration": 3,
    "start_time": "2024-03-20T09:23:09.429Z"
   },
   {
    "duration": 67,
    "start_time": "2024-03-20T09:23:09.439Z"
   },
   {
    "duration": 7,
    "start_time": "2024-03-20T09:23:09.508Z"
   },
   {
    "duration": 32,
    "start_time": "2024-03-20T09:23:09.516Z"
   },
   {
    "duration": 22,
    "start_time": "2024-03-20T09:23:09.549Z"
   },
   {
    "duration": 10,
    "start_time": "2024-03-20T09:23:09.573Z"
   },
   {
    "duration": 6,
    "start_time": "2024-03-20T09:23:09.584Z"
   },
   {
    "duration": 17,
    "start_time": "2024-03-20T09:23:09.591Z"
   },
   {
    "duration": 14,
    "start_time": "2024-03-20T09:23:09.609Z"
   },
   {
    "duration": 6,
    "start_time": "2024-03-20T09:23:09.624Z"
   },
   {
    "duration": 12,
    "start_time": "2024-03-20T09:23:09.632Z"
   },
   {
    "duration": 4,
    "start_time": "2024-03-20T09:23:09.645Z"
   },
   {
    "duration": 24,
    "start_time": "2024-03-20T09:23:09.650Z"
   },
   {
    "duration": 10,
    "start_time": "2024-03-20T09:23:09.675Z"
   },
   {
    "duration": 6,
    "start_time": "2024-03-20T09:23:09.715Z"
   },
   {
    "duration": 158,
    "start_time": "2024-03-20T09:23:09.722Z"
   },
   {
    "duration": 6,
    "start_time": "2024-03-20T09:23:09.881Z"
   },
   {
    "duration": 84,
    "start_time": "2024-03-20T09:23:09.889Z"
   },
   {
    "duration": 195,
    "start_time": "2024-03-20T09:23:09.975Z"
   },
   {
    "duration": 4,
    "start_time": "2024-03-20T09:23:10.172Z"
   },
   {
    "duration": 229,
    "start_time": "2024-03-20T09:23:10.177Z"
   },
   {
    "duration": 11,
    "start_time": "2024-03-20T09:23:10.407Z"
   },
   {
    "duration": 122,
    "start_time": "2024-03-20T09:23:10.419Z"
   },
   {
    "duration": 12,
    "start_time": "2024-03-20T09:23:10.543Z"
   },
   {
    "duration": 346,
    "start_time": "2024-03-20T09:23:10.557Z"
   },
   {
    "duration": 25,
    "start_time": "2024-03-20T09:23:10.904Z"
   },
   {
    "duration": 23,
    "start_time": "2024-03-20T09:23:10.931Z"
   },
   {
    "duration": 17,
    "start_time": "2024-03-20T09:23:10.955Z"
   },
   {
    "duration": 13,
    "start_time": "2024-03-20T09:23:10.974Z"
   },
   {
    "duration": 164,
    "start_time": "2024-03-20T09:23:11.014Z"
   },
   {
    "duration": 169,
    "start_time": "2024-03-20T09:23:11.180Z"
   },
   {
    "duration": 11,
    "start_time": "2024-03-20T09:23:11.351Z"
   },
   {
    "duration": 8,
    "start_time": "2024-03-20T09:23:11.363Z"
   },
   {
    "duration": 16,
    "start_time": "2024-03-20T09:23:11.373Z"
   },
   {
    "duration": 17,
    "start_time": "2024-03-20T09:24:32.420Z"
   },
   {
    "duration": 18,
    "start_time": "2024-03-20T09:53:50.139Z"
   },
   {
    "duration": 17,
    "start_time": "2024-03-20T09:54:34.235Z"
   },
   {
    "duration": 21,
    "start_time": "2024-03-20T09:54:48.019Z"
   },
   {
    "duration": 325,
    "start_time": "2024-03-20T09:55:27.494Z"
   },
   {
    "duration": 7,
    "start_time": "2024-03-20T09:55:40.865Z"
   },
   {
    "duration": 103,
    "start_time": "2024-03-20T09:55:48.202Z"
   },
   {
    "duration": 6,
    "start_time": "2024-03-20T09:55:55.469Z"
   },
   {
    "duration": 5,
    "start_time": "2024-03-20T09:56:09.858Z"
   },
   {
    "duration": 191,
    "start_time": "2024-03-20T10:03:43.230Z"
   },
   {
    "duration": 18,
    "start_time": "2024-03-20T10:04:28.661Z"
   },
   {
    "duration": 222,
    "start_time": "2024-03-20T10:10:29.017Z"
   },
   {
    "duration": 242,
    "start_time": "2024-03-20T10:10:43.712Z"
   },
   {
    "duration": 28,
    "start_time": "2024-03-20T10:11:01.334Z"
   },
   {
    "duration": 32,
    "start_time": "2024-03-20T10:11:21.178Z"
   },
   {
    "duration": 431,
    "start_time": "2024-03-20T10:11:33.255Z"
   },
   {
    "duration": 407,
    "start_time": "2024-03-20T10:13:03.361Z"
   },
   {
    "duration": 17,
    "start_time": "2024-03-20T10:13:27.769Z"
   },
   {
    "duration": 428,
    "start_time": "2024-03-20T10:13:52.326Z"
   },
   {
    "duration": 427,
    "start_time": "2024-03-20T10:14:24.683Z"
   },
   {
    "duration": 7,
    "start_time": "2024-03-20T10:16:04.945Z"
   },
   {
    "duration": 7,
    "start_time": "2024-03-20T10:16:22.491Z"
   },
   {
    "duration": 5,
    "start_time": "2024-03-20T10:16:30.953Z"
   },
   {
    "duration": 1536,
    "start_time": "2024-03-20T10:16:49.280Z"
   },
   {
    "duration": 5,
    "start_time": "2024-03-20T10:16:59.422Z"
   },
   {
    "duration": 11,
    "start_time": "2024-03-20T10:23:52.647Z"
   },
   {
    "duration": 4,
    "start_time": "2024-03-20T10:24:01.911Z"
   },
   {
    "duration": 5,
    "start_time": "2024-03-20T10:27:24.279Z"
   },
   {
    "duration": 20,
    "start_time": "2024-03-20T10:31:18.303Z"
   },
   {
    "duration": 19,
    "start_time": "2024-03-20T10:33:11.835Z"
   },
   {
    "duration": 4,
    "start_time": "2024-03-20T10:33:33.483Z"
   },
   {
    "duration": 14,
    "start_time": "2024-03-20T10:34:16.818Z"
   },
   {
    "duration": 3,
    "start_time": "2024-03-20T10:41:33.279Z"
   },
   {
    "duration": 110,
    "start_time": "2024-03-20T10:43:51.948Z"
   },
   {
    "duration": 106,
    "start_time": "2024-03-20T10:44:00.828Z"
   },
   {
    "duration": 130,
    "start_time": "2024-03-20T10:44:12.044Z"
   },
   {
    "duration": 14,
    "start_time": "2024-03-20T10:45:42.651Z"
   },
   {
    "duration": 4,
    "start_time": "2024-03-20T10:49:21.308Z"
   },
   {
    "duration": 3,
    "start_time": "2024-03-20T10:52:01.641Z"
   },
   {
    "duration": 17,
    "start_time": "2024-03-20T10:55:00.348Z"
   },
   {
    "duration": 4,
    "start_time": "2024-03-20T10:56:35.008Z"
   },
   {
    "duration": 1367,
    "start_time": "2024-03-20T10:56:49.921Z"
   },
   {
    "duration": 30,
    "start_time": "2024-03-20T11:02:04.961Z"
   },
   {
    "duration": 22,
    "start_time": "2024-03-20T11:03:03.337Z"
   },
   {
    "duration": 3,
    "start_time": "2024-03-20T11:03:06.311Z"
   },
   {
    "duration": 79,
    "start_time": "2024-03-20T11:03:06.321Z"
   },
   {
    "duration": 7,
    "start_time": "2024-03-20T11:03:06.402Z"
   },
   {
    "duration": 15,
    "start_time": "2024-03-20T11:03:06.411Z"
   },
   {
    "duration": 19,
    "start_time": "2024-03-20T11:03:06.427Z"
   },
   {
    "duration": 12,
    "start_time": "2024-03-20T11:03:06.448Z"
   },
   {
    "duration": 7,
    "start_time": "2024-03-20T11:03:06.462Z"
   },
   {
    "duration": 12,
    "start_time": "2024-03-20T11:03:06.470Z"
   },
   {
    "duration": 15,
    "start_time": "2024-03-20T11:03:06.484Z"
   },
   {
    "duration": 21,
    "start_time": "2024-03-20T11:03:06.500Z"
   },
   {
    "duration": 13,
    "start_time": "2024-03-20T11:03:06.522Z"
   },
   {
    "duration": 4,
    "start_time": "2024-03-20T11:03:06.537Z"
   },
   {
    "duration": 22,
    "start_time": "2024-03-20T11:03:06.543Z"
   },
   {
    "duration": 11,
    "start_time": "2024-03-20T11:03:06.566Z"
   },
   {
    "duration": 5,
    "start_time": "2024-03-20T11:03:06.616Z"
   },
   {
    "duration": 159,
    "start_time": "2024-03-20T11:03:06.623Z"
   },
   {
    "duration": 7,
    "start_time": "2024-03-20T11:03:06.784Z"
   },
   {
    "duration": 102,
    "start_time": "2024-03-20T11:03:06.793Z"
   },
   {
    "duration": 201,
    "start_time": "2024-03-20T11:03:06.896Z"
   },
   {
    "duration": 5,
    "start_time": "2024-03-20T11:03:07.099Z"
   },
   {
    "duration": 238,
    "start_time": "2024-03-20T11:03:07.115Z"
   },
   {
    "duration": 8,
    "start_time": "2024-03-20T11:03:07.355Z"
   },
   {
    "duration": 119,
    "start_time": "2024-03-20T11:03:07.365Z"
   },
   {
    "duration": 11,
    "start_time": "2024-03-20T11:03:07.486Z"
   },
   {
    "duration": 228,
    "start_time": "2024-03-20T11:03:07.499Z"
   },
   {
    "duration": 23,
    "start_time": "2024-03-20T11:03:07.728Z"
   },
   {
    "duration": 24,
    "start_time": "2024-03-20T11:03:07.752Z"
   },
   {
    "duration": 39,
    "start_time": "2024-03-20T11:03:07.777Z"
   },
   {
    "duration": 21,
    "start_time": "2024-03-20T11:03:07.817Z"
   },
   {
    "duration": 181,
    "start_time": "2024-03-20T11:03:07.840Z"
   },
   {
    "duration": 184,
    "start_time": "2024-03-20T11:03:08.022Z"
   },
   {
    "duration": 14,
    "start_time": "2024-03-20T11:03:08.214Z"
   },
   {
    "duration": 9,
    "start_time": "2024-03-20T11:03:08.229Z"
   },
   {
    "duration": 29,
    "start_time": "2024-03-20T11:03:08.240Z"
   },
   {
    "duration": 10,
    "start_time": "2024-03-20T11:03:08.271Z"
   },
   {
    "duration": 29,
    "start_time": "2024-03-20T11:03:52.622Z"
   },
   {
    "duration": 2,
    "start_time": "2024-03-20T11:04:19.606Z"
   },
   {
    "duration": 68,
    "start_time": "2024-03-20T11:04:19.621Z"
   },
   {
    "duration": 8,
    "start_time": "2024-03-20T11:04:19.691Z"
   },
   {
    "duration": 11,
    "start_time": "2024-03-20T11:04:19.701Z"
   },
   {
    "duration": 16,
    "start_time": "2024-03-20T11:04:19.713Z"
   },
   {
    "duration": 23,
    "start_time": "2024-03-20T11:04:19.731Z"
   },
   {
    "duration": 6,
    "start_time": "2024-03-20T11:04:19.756Z"
   },
   {
    "duration": 19,
    "start_time": "2024-03-20T11:04:19.763Z"
   },
   {
    "duration": 14,
    "start_time": "2024-03-20T11:04:19.784Z"
   },
   {
    "duration": 6,
    "start_time": "2024-03-20T11:04:19.799Z"
   },
   {
    "duration": 19,
    "start_time": "2024-03-20T11:04:19.806Z"
   },
   {
    "duration": 5,
    "start_time": "2024-03-20T11:04:19.826Z"
   },
   {
    "duration": 22,
    "start_time": "2024-03-20T11:04:19.832Z"
   },
   {
    "duration": 10,
    "start_time": "2024-03-20T11:04:19.856Z"
   },
   {
    "duration": 5,
    "start_time": "2024-03-20T11:04:19.869Z"
   },
   {
    "duration": 185,
    "start_time": "2024-03-20T11:04:19.876Z"
   },
   {
    "duration": 6,
    "start_time": "2024-03-20T11:04:20.063Z"
   },
   {
    "duration": 113,
    "start_time": "2024-03-20T11:04:20.071Z"
   },
   {
    "duration": 240,
    "start_time": "2024-03-20T11:04:20.186Z"
   },
   {
    "duration": 5,
    "start_time": "2024-03-20T11:04:20.428Z"
   },
   {
    "duration": 244,
    "start_time": "2024-03-20T11:04:20.435Z"
   },
   {
    "duration": 8,
    "start_time": "2024-03-20T11:04:20.680Z"
   },
   {
    "duration": 263,
    "start_time": "2024-03-20T11:04:20.690Z"
   },
   {
    "duration": 12,
    "start_time": "2024-03-20T11:04:20.955Z"
   },
   {
    "duration": 238,
    "start_time": "2024-03-20T11:04:20.968Z"
   },
   {
    "duration": 25,
    "start_time": "2024-03-20T11:04:21.207Z"
   },
   {
    "duration": 23,
    "start_time": "2024-03-20T11:04:21.234Z"
   },
   {
    "duration": 17,
    "start_time": "2024-03-20T11:04:21.258Z"
   },
   {
    "duration": 14,
    "start_time": "2024-03-20T11:04:21.276Z"
   },
   {
    "duration": 170,
    "start_time": "2024-03-20T11:04:21.316Z"
   },
   {
    "duration": 186,
    "start_time": "2024-03-20T11:04:21.487Z"
   },
   {
    "duration": 12,
    "start_time": "2024-03-20T11:04:21.674Z"
   },
   {
    "duration": 8,
    "start_time": "2024-03-20T11:04:21.688Z"
   },
   {
    "duration": 17,
    "start_time": "2024-03-20T11:04:21.698Z"
   },
   {
    "duration": 19,
    "start_time": "2024-03-20T11:04:21.716Z"
   },
   {
    "duration": 3,
    "start_time": "2024-03-20T11:06:13.932Z"
   },
   {
    "duration": 17,
    "start_time": "2024-03-20T11:06:30.859Z"
   },
   {
    "duration": 9,
    "start_time": "2024-03-20T11:06:44.039Z"
   },
   {
    "duration": 5,
    "start_time": "2024-03-20T11:11:56.268Z"
   },
   {
    "duration": 12,
    "start_time": "2024-03-20T11:12:27.540Z"
   },
   {
    "duration": 9,
    "start_time": "2024-03-20T11:24:08.450Z"
   },
   {
    "duration": 8,
    "start_time": "2024-03-20T11:24:20.627Z"
   },
   {
    "duration": 432,
    "start_time": "2024-03-20T11:47:47.495Z"
   },
   {
    "duration": 7,
    "start_time": "2024-03-20T11:52:47.762Z"
   },
   {
    "duration": 8,
    "start_time": "2024-03-20T12:02:27.686Z"
   },
   {
    "duration": 4,
    "start_time": "2024-03-20T12:05:37.755Z"
   },
   {
    "duration": 97,
    "start_time": "2024-03-20T12:06:38.984Z"
   },
   {
    "duration": 5,
    "start_time": "2024-03-20T12:08:04.143Z"
   },
   {
    "duration": 1580,
    "start_time": "2024-03-20T12:10:13.487Z"
   },
   {
    "duration": 781,
    "start_time": "2024-03-20T12:12:04.600Z"
   },
   {
    "duration": 3,
    "start_time": "2024-03-20T12:12:52.499Z"
   },
   {
    "duration": 118,
    "start_time": "2024-03-20T12:12:52.506Z"
   },
   {
    "duration": 9,
    "start_time": "2024-03-20T12:12:52.626Z"
   },
   {
    "duration": 26,
    "start_time": "2024-03-20T12:12:52.637Z"
   },
   {
    "duration": 32,
    "start_time": "2024-03-20T12:12:52.664Z"
   },
   {
    "duration": 24,
    "start_time": "2024-03-20T12:12:52.698Z"
   },
   {
    "duration": 43,
    "start_time": "2024-03-20T12:12:52.724Z"
   },
   {
    "duration": 27,
    "start_time": "2024-03-20T12:12:52.768Z"
   },
   {
    "duration": 41,
    "start_time": "2024-03-20T12:12:52.796Z"
   },
   {
    "duration": 23,
    "start_time": "2024-03-20T12:12:52.838Z"
   },
   {
    "duration": 46,
    "start_time": "2024-03-20T12:12:52.862Z"
   },
   {
    "duration": 20,
    "start_time": "2024-03-20T12:12:52.909Z"
   },
   {
    "duration": 43,
    "start_time": "2024-03-20T12:12:52.930Z"
   },
   {
    "duration": 10,
    "start_time": "2024-03-20T12:12:52.975Z"
   },
   {
    "duration": 11,
    "start_time": "2024-03-20T12:12:52.988Z"
   },
   {
    "duration": 166,
    "start_time": "2024-03-20T12:12:53.000Z"
   },
   {
    "duration": 6,
    "start_time": "2024-03-20T12:12:53.167Z"
   },
   {
    "duration": 94,
    "start_time": "2024-03-20T12:12:53.175Z"
   },
   {
    "duration": 207,
    "start_time": "2024-03-20T12:12:53.271Z"
   },
   {
    "duration": 6,
    "start_time": "2024-03-20T12:12:53.479Z"
   },
   {
    "duration": 243,
    "start_time": "2024-03-20T12:12:53.486Z"
   },
   {
    "duration": 7,
    "start_time": "2024-03-20T12:12:53.731Z"
   },
   {
    "duration": 126,
    "start_time": "2024-03-20T12:12:53.740Z"
   },
   {
    "duration": 13,
    "start_time": "2024-03-20T12:12:53.868Z"
   },
   {
    "duration": 232,
    "start_time": "2024-03-20T12:12:53.883Z"
   },
   {
    "duration": 24,
    "start_time": "2024-03-20T12:12:54.116Z"
   },
   {
    "duration": 25,
    "start_time": "2024-03-20T12:12:54.142Z"
   },
   {
    "duration": 18,
    "start_time": "2024-03-20T12:12:54.168Z"
   },
   {
    "duration": 41,
    "start_time": "2024-03-20T12:12:54.187Z"
   },
   {
    "duration": 194,
    "start_time": "2024-03-20T12:12:54.230Z"
   },
   {
    "duration": 176,
    "start_time": "2024-03-20T12:12:54.426Z"
   },
   {
    "duration": 25,
    "start_time": "2024-03-20T12:12:54.604Z"
   },
   {
    "duration": 11,
    "start_time": "2024-03-20T12:12:54.630Z"
   },
   {
    "duration": 5,
    "start_time": "2024-03-20T12:12:54.642Z"
   },
   {
    "duration": 26,
    "start_time": "2024-03-20T12:12:54.648Z"
   },
   {
    "duration": 23,
    "start_time": "2024-03-20T12:12:54.676Z"
   },
   {
    "duration": 15,
    "start_time": "2024-03-20T12:12:54.701Z"
   },
   {
    "duration": 796,
    "start_time": "2024-03-20T12:12:54.717Z"
   },
   {
    "duration": 855,
    "start_time": "2024-03-20T12:13:46.299Z"
   },
   {
    "duration": 848,
    "start_time": "2024-03-20T12:15:44.610Z"
   },
   {
    "duration": 7,
    "start_time": "2024-03-20T12:17:10.801Z"
   },
   {
    "duration": 94,
    "start_time": "2024-03-20T12:18:04.298Z"
   },
   {
    "duration": 6,
    "start_time": "2024-03-20T12:28:29.164Z"
   },
   {
    "duration": 5,
    "start_time": "2024-03-20T12:29:31.025Z"
   },
   {
    "duration": 2,
    "start_time": "2024-03-20T12:29:52.373Z"
   },
   {
    "duration": 85,
    "start_time": "2024-03-20T12:29:52.380Z"
   },
   {
    "duration": 8,
    "start_time": "2024-03-20T12:29:52.467Z"
   },
   {
    "duration": 12,
    "start_time": "2024-03-20T12:29:52.476Z"
   },
   {
    "duration": 35,
    "start_time": "2024-03-20T12:29:52.489Z"
   },
   {
    "duration": 30,
    "start_time": "2024-03-20T12:29:52.527Z"
   },
   {
    "duration": 7,
    "start_time": "2024-03-20T12:29:52.559Z"
   },
   {
    "duration": 23,
    "start_time": "2024-03-20T12:29:52.567Z"
   },
   {
    "duration": 21,
    "start_time": "2024-03-20T12:29:52.592Z"
   },
   {
    "duration": 26,
    "start_time": "2024-03-20T12:29:52.615Z"
   },
   {
    "duration": 13,
    "start_time": "2024-03-20T12:29:52.642Z"
   },
   {
    "duration": 5,
    "start_time": "2024-03-20T12:29:52.657Z"
   },
   {
    "duration": 43,
    "start_time": "2024-03-20T12:29:52.664Z"
   },
   {
    "duration": 14,
    "start_time": "2024-03-20T12:29:52.708Z"
   },
   {
    "duration": 12,
    "start_time": "2024-03-20T12:29:52.725Z"
   },
   {
    "duration": 153,
    "start_time": "2024-03-20T12:29:52.738Z"
   },
   {
    "duration": 5,
    "start_time": "2024-03-20T12:29:52.893Z"
   },
   {
    "duration": 281,
    "start_time": "2024-03-20T12:29:52.900Z"
   },
   {
    "duration": 204,
    "start_time": "2024-03-20T12:29:53.182Z"
   },
   {
    "duration": 5,
    "start_time": "2024-03-20T12:29:53.388Z"
   },
   {
    "duration": 229,
    "start_time": "2024-03-20T12:29:53.394Z"
   },
   {
    "duration": 7,
    "start_time": "2024-03-20T12:29:53.625Z"
   },
   {
    "duration": 118,
    "start_time": "2024-03-20T12:29:53.633Z"
   },
   {
    "duration": 13,
    "start_time": "2024-03-20T12:29:53.753Z"
   },
   {
    "duration": 223,
    "start_time": "2024-03-20T12:29:53.768Z"
   },
   {
    "duration": 29,
    "start_time": "2024-03-20T12:29:53.993Z"
   },
   {
    "duration": 22,
    "start_time": "2024-03-20T12:29:54.023Z"
   },
   {
    "duration": 17,
    "start_time": "2024-03-20T12:29:54.046Z"
   },
   {
    "duration": 14,
    "start_time": "2024-03-20T12:29:54.064Z"
   },
   {
    "duration": 202,
    "start_time": "2024-03-20T12:29:54.079Z"
   },
   {
    "duration": 184,
    "start_time": "2024-03-20T12:29:54.283Z"
   },
   {
    "duration": 16,
    "start_time": "2024-03-20T12:29:54.469Z"
   },
   {
    "duration": 9,
    "start_time": "2024-03-20T12:29:54.487Z"
   },
   {
    "duration": 20,
    "start_time": "2024-03-20T12:29:54.497Z"
   },
   {
    "duration": 21,
    "start_time": "2024-03-20T12:29:54.519Z"
   },
   {
    "duration": 6,
    "start_time": "2024-03-20T12:29:54.542Z"
   },
   {
    "duration": 5,
    "start_time": "2024-03-20T12:29:54.550Z"
   },
   {
    "duration": 6,
    "start_time": "2024-03-20T12:29:54.557Z"
   },
   {
    "duration": 4,
    "start_time": "2024-03-20T12:29:54.564Z"
   },
   {
    "duration": 7,
    "start_time": "2024-03-20T12:29:54.570Z"
   },
   {
    "duration": 7,
    "start_time": "2024-03-20T12:31:21.191Z"
   },
   {
    "duration": 7,
    "start_time": "2024-03-20T12:32:11.731Z"
   },
   {
    "duration": 6,
    "start_time": "2024-03-20T12:32:18.521Z"
   },
   {
    "duration": 5,
    "start_time": "2024-03-20T12:32:47.776Z"
   },
   {
    "duration": 6,
    "start_time": "2024-03-20T12:33:07.583Z"
   },
   {
    "duration": 3,
    "start_time": "2024-03-20T13:04:07.771Z"
   },
   {
    "duration": 82,
    "start_time": "2024-03-20T13:04:07.779Z"
   },
   {
    "duration": 11,
    "start_time": "2024-03-20T13:04:07.863Z"
   },
   {
    "duration": 28,
    "start_time": "2024-03-20T13:04:07.876Z"
   },
   {
    "duration": 11,
    "start_time": "2024-03-20T13:04:07.905Z"
   },
   {
    "duration": 16,
    "start_time": "2024-03-20T13:04:07.919Z"
   },
   {
    "duration": 13,
    "start_time": "2024-03-20T13:04:07.937Z"
   },
   {
    "duration": 11,
    "start_time": "2024-03-20T13:04:07.952Z"
   },
   {
    "duration": 15,
    "start_time": "2024-03-20T13:04:07.965Z"
   },
   {
    "duration": 6,
    "start_time": "2024-03-20T13:04:07.982Z"
   },
   {
    "duration": 31,
    "start_time": "2024-03-20T13:04:07.990Z"
   },
   {
    "duration": 4,
    "start_time": "2024-03-20T13:04:08.022Z"
   },
   {
    "duration": 41,
    "start_time": "2024-03-20T13:04:08.028Z"
   },
   {
    "duration": 11,
    "start_time": "2024-03-20T13:04:08.071Z"
   },
   {
    "duration": 5,
    "start_time": "2024-03-20T13:04:08.085Z"
   },
   {
    "duration": 167,
    "start_time": "2024-03-20T13:04:08.091Z"
   },
   {
    "duration": 6,
    "start_time": "2024-03-20T13:04:08.260Z"
   },
   {
    "duration": 100,
    "start_time": "2024-03-20T13:04:08.267Z"
   },
   {
    "duration": 200,
    "start_time": "2024-03-20T13:04:08.368Z"
   },
   {
    "duration": 5,
    "start_time": "2024-03-20T13:04:08.569Z"
   },
   {
    "duration": 286,
    "start_time": "2024-03-20T13:04:08.575Z"
   },
   {
    "duration": 8,
    "start_time": "2024-03-20T13:04:08.863Z"
   },
   {
    "duration": 120,
    "start_time": "2024-03-20T13:04:08.873Z"
   },
   {
    "duration": 29,
    "start_time": "2024-03-20T13:04:08.996Z"
   },
   {
    "duration": 226,
    "start_time": "2024-03-20T13:04:09.027Z"
   },
   {
    "duration": 22,
    "start_time": "2024-03-20T13:04:09.254Z"
   },
   {
    "duration": 38,
    "start_time": "2024-03-20T13:04:09.278Z"
   },
   {
    "duration": 19,
    "start_time": "2024-03-20T13:04:09.317Z"
   },
   {
    "duration": 15,
    "start_time": "2024-03-20T13:04:09.337Z"
   },
   {
    "duration": 191,
    "start_time": "2024-03-20T13:04:09.354Z"
   },
   {
    "duration": 191,
    "start_time": "2024-03-20T13:04:09.547Z"
   },
   {
    "duration": 16,
    "start_time": "2024-03-20T13:04:09.740Z"
   },
   {
    "duration": 9,
    "start_time": "2024-03-20T13:04:09.758Z"
   },
   {
    "duration": 12,
    "start_time": "2024-03-20T13:04:09.769Z"
   },
   {
    "duration": 18,
    "start_time": "2024-03-20T13:04:09.782Z"
   },
   {
    "duration": 6,
    "start_time": "2024-03-20T13:04:09.815Z"
   },
   {
    "duration": 20,
    "start_time": "2024-03-20T13:04:09.822Z"
   },
   {
    "duration": 18,
    "start_time": "2024-03-20T13:04:09.845Z"
   },
   {
    "duration": 10,
    "start_time": "2024-03-20T13:04:09.865Z"
   },
   {
    "duration": 19,
    "start_time": "2024-03-20T13:04:09.877Z"
   },
   {
    "duration": 3,
    "start_time": "2024-03-20T13:08:06.697Z"
   },
   {
    "duration": 80,
    "start_time": "2024-03-20T13:08:06.704Z"
   },
   {
    "duration": 7,
    "start_time": "2024-03-20T13:08:06.786Z"
   },
   {
    "duration": 12,
    "start_time": "2024-03-20T13:08:06.795Z"
   },
   {
    "duration": 35,
    "start_time": "2024-03-20T13:08:06.809Z"
   },
   {
    "duration": 14,
    "start_time": "2024-03-20T13:08:06.847Z"
   },
   {
    "duration": 12,
    "start_time": "2024-03-20T13:08:06.862Z"
   },
   {
    "duration": 14,
    "start_time": "2024-03-20T13:08:06.875Z"
   },
   {
    "duration": 16,
    "start_time": "2024-03-20T13:08:06.891Z"
   },
   {
    "duration": 6,
    "start_time": "2024-03-20T13:08:06.908Z"
   },
   {
    "duration": 35,
    "start_time": "2024-03-20T13:08:06.915Z"
   },
   {
    "duration": 11,
    "start_time": "2024-03-20T13:08:06.951Z"
   },
   {
    "duration": 33,
    "start_time": "2024-03-20T13:08:06.963Z"
   },
   {
    "duration": 9,
    "start_time": "2024-03-20T13:08:06.998Z"
   },
   {
    "duration": 5,
    "start_time": "2024-03-20T13:08:07.010Z"
   },
   {
    "duration": 147,
    "start_time": "2024-03-20T13:08:07.016Z"
   },
   {
    "duration": 6,
    "start_time": "2024-03-20T13:08:07.164Z"
   },
   {
    "duration": 90,
    "start_time": "2024-03-20T13:08:07.171Z"
   },
   {
    "duration": 191,
    "start_time": "2024-03-20T13:08:07.263Z"
   },
   {
    "duration": 4,
    "start_time": "2024-03-20T13:08:07.456Z"
   },
   {
    "duration": 223,
    "start_time": "2024-03-20T13:08:07.462Z"
   },
   {
    "duration": 7,
    "start_time": "2024-03-20T13:08:07.686Z"
   },
   {
    "duration": 143,
    "start_time": "2024-03-20T13:08:07.694Z"
   },
   {
    "duration": 13,
    "start_time": "2024-03-20T13:08:07.838Z"
   },
   {
    "duration": 225,
    "start_time": "2024-03-20T13:08:07.852Z"
   },
   {
    "duration": 23,
    "start_time": "2024-03-20T13:08:08.078Z"
   },
   {
    "duration": 34,
    "start_time": "2024-03-20T13:08:08.102Z"
   },
   {
    "duration": 17,
    "start_time": "2024-03-20T13:08:08.138Z"
   },
   {
    "duration": 15,
    "start_time": "2024-03-20T13:08:08.156Z"
   },
   {
    "duration": 195,
    "start_time": "2024-03-20T13:08:08.173Z"
   },
   {
    "duration": 370,
    "start_time": "2024-03-20T13:08:08.370Z"
   },
   {
    "duration": 15,
    "start_time": "2024-03-20T13:08:08.741Z"
   },
   {
    "duration": 33,
    "start_time": "2024-03-20T13:08:08.758Z"
   },
   {
    "duration": 18,
    "start_time": "2024-03-20T13:08:08.792Z"
   },
   {
    "duration": 22,
    "start_time": "2024-03-20T13:08:08.812Z"
   },
   {
    "duration": 18,
    "start_time": "2024-03-20T13:08:08.836Z"
   },
   {
    "duration": 11,
    "start_time": "2024-03-20T13:08:08.856Z"
   },
   {
    "duration": 8,
    "start_time": "2024-03-20T13:08:08.868Z"
   },
   {
    "duration": 9,
    "start_time": "2024-03-20T13:08:08.878Z"
   },
   {
    "duration": 9,
    "start_time": "2024-03-20T13:08:08.889Z"
   },
   {
    "duration": 3,
    "start_time": "2024-03-20T13:14:09.814Z"
   },
   {
    "duration": 68,
    "start_time": "2024-03-20T13:14:09.825Z"
   },
   {
    "duration": 8,
    "start_time": "2024-03-20T13:14:09.895Z"
   },
   {
    "duration": 11,
    "start_time": "2024-03-20T13:14:09.905Z"
   },
   {
    "duration": 21,
    "start_time": "2024-03-20T13:14:09.917Z"
   },
   {
    "duration": 11,
    "start_time": "2024-03-20T13:14:09.941Z"
   },
   {
    "duration": 11,
    "start_time": "2024-03-20T13:14:09.953Z"
   },
   {
    "duration": 13,
    "start_time": "2024-03-20T13:14:09.965Z"
   },
   {
    "duration": 15,
    "start_time": "2024-03-20T13:14:09.980Z"
   },
   {
    "duration": 17,
    "start_time": "2024-03-20T13:14:09.998Z"
   },
   {
    "duration": 33,
    "start_time": "2024-03-20T13:14:10.017Z"
   },
   {
    "duration": 3,
    "start_time": "2024-03-20T13:14:10.052Z"
   },
   {
    "duration": 26,
    "start_time": "2024-03-20T13:14:10.057Z"
   },
   {
    "duration": 10,
    "start_time": "2024-03-20T13:14:10.084Z"
   },
   {
    "duration": 5,
    "start_time": "2024-03-20T13:14:10.097Z"
   },
   {
    "duration": 148,
    "start_time": "2024-03-20T13:14:10.103Z"
   },
   {
    "duration": 6,
    "start_time": "2024-03-20T13:14:10.252Z"
   },
   {
    "duration": 90,
    "start_time": "2024-03-20T13:14:10.259Z"
   },
   {
    "duration": 199,
    "start_time": "2024-03-20T13:14:10.351Z"
   },
   {
    "duration": 6,
    "start_time": "2024-03-20T13:14:10.552Z"
   },
   {
    "duration": 229,
    "start_time": "2024-03-20T13:14:10.560Z"
   },
   {
    "duration": 7,
    "start_time": "2024-03-20T13:14:10.791Z"
   },
   {
    "duration": 115,
    "start_time": "2024-03-20T13:14:10.799Z"
   },
   {
    "duration": 13,
    "start_time": "2024-03-20T13:14:10.916Z"
   },
   {
    "duration": 227,
    "start_time": "2024-03-20T13:14:10.930Z"
   },
   {
    "duration": 21,
    "start_time": "2024-03-20T13:14:11.159Z"
   },
   {
    "duration": 35,
    "start_time": "2024-03-20T13:14:11.181Z"
   },
   {
    "duration": 16,
    "start_time": "2024-03-20T13:14:11.217Z"
   },
   {
    "duration": 13,
    "start_time": "2024-03-20T13:14:11.235Z"
   },
   {
    "duration": 182,
    "start_time": "2024-03-20T13:14:11.249Z"
   },
   {
    "duration": 164,
    "start_time": "2024-03-20T13:14:11.433Z"
   },
   {
    "duration": 26,
    "start_time": "2024-03-20T13:14:11.599Z"
   },
   {
    "duration": 9,
    "start_time": "2024-03-20T13:14:11.627Z"
   },
   {
    "duration": 2,
    "start_time": "2024-03-20T13:14:11.638Z"
   },
   {
    "duration": 15,
    "start_time": "2024-03-20T13:14:11.642Z"
   },
   {
    "duration": 6,
    "start_time": "2024-03-20T13:14:11.658Z"
   },
   {
    "duration": 4,
    "start_time": "2024-03-20T13:14:11.665Z"
   },
   {
    "duration": 4,
    "start_time": "2024-03-20T13:14:11.671Z"
   },
   {
    "duration": 41,
    "start_time": "2024-03-20T13:14:11.676Z"
   },
   {
    "duration": 8,
    "start_time": "2024-03-20T13:14:11.718Z"
   },
   {
    "duration": 1876,
    "start_time": "2024-03-20T14:49:14.811Z"
   },
   {
    "duration": 209,
    "start_time": "2024-03-20T14:49:16.689Z"
   },
   {
    "duration": 12,
    "start_time": "2024-03-20T14:49:16.900Z"
   },
   {
    "duration": 63,
    "start_time": "2024-03-20T14:49:16.915Z"
   },
   {
    "duration": 11,
    "start_time": "2024-03-20T14:49:16.980Z"
   },
   {
    "duration": 22,
    "start_time": "2024-03-20T14:49:16.993Z"
   },
   {
    "duration": 7,
    "start_time": "2024-03-20T14:49:17.017Z"
   },
   {
    "duration": 45,
    "start_time": "2024-03-20T14:49:17.026Z"
   },
   {
    "duration": 40,
    "start_time": "2024-03-20T14:49:17.072Z"
   },
   {
    "duration": 6,
    "start_time": "2024-03-20T14:49:17.115Z"
   },
   {
    "duration": 44,
    "start_time": "2024-03-20T14:49:17.122Z"
   },
   {
    "duration": 4,
    "start_time": "2024-03-20T14:49:17.168Z"
   },
   {
    "duration": 27,
    "start_time": "2024-03-20T14:49:17.174Z"
   },
   {
    "duration": 71,
    "start_time": "2024-03-20T14:49:17.202Z"
   },
   {
    "duration": 39,
    "start_time": "2024-03-20T14:49:17.275Z"
   },
   {
    "duration": 394,
    "start_time": "2024-03-20T14:49:17.315Z"
   },
   {
    "duration": 9,
    "start_time": "2024-03-20T14:49:17.765Z"
   },
   {
    "duration": 207,
    "start_time": "2024-03-20T14:49:17.775Z"
   },
   {
    "duration": 388,
    "start_time": "2024-03-20T14:49:17.984Z"
   },
   {
    "duration": 5,
    "start_time": "2024-03-20T14:49:18.374Z"
   },
   {
    "duration": 419,
    "start_time": "2024-03-20T14:49:18.381Z"
   },
   {
    "duration": 6,
    "start_time": "2024-03-20T14:49:18.802Z"
   },
   {
    "duration": 264,
    "start_time": "2024-03-20T14:49:18.810Z"
   },
   {
    "duration": 13,
    "start_time": "2024-03-20T14:49:19.075Z"
   },
   {
    "duration": 498,
    "start_time": "2024-03-20T14:49:19.090Z"
   },
   {
    "duration": 88,
    "start_time": "2024-03-20T14:49:19.590Z"
   },
   {
    "duration": 95,
    "start_time": "2024-03-20T14:49:19.680Z"
   },
   {
    "duration": 24,
    "start_time": "2024-03-20T14:49:19.780Z"
   },
   {
    "duration": 71,
    "start_time": "2024-03-20T14:49:19.805Z"
   },
   {
    "duration": 406,
    "start_time": "2024-03-20T14:49:19.878Z"
   },
   {
    "duration": 381,
    "start_time": "2024-03-20T14:49:20.286Z"
   },
   {
    "duration": 16,
    "start_time": "2024-03-20T14:49:20.668Z"
   },
   {
    "duration": 8,
    "start_time": "2024-03-20T14:49:20.686Z"
   },
   {
    "duration": 11,
    "start_time": "2024-03-20T14:49:20.696Z"
   },
   {
    "duration": 36,
    "start_time": "2024-03-20T14:49:20.765Z"
   },
   {
    "duration": 72,
    "start_time": "2024-03-20T14:49:20.803Z"
   },
   {
    "duration": 13,
    "start_time": "2024-03-20T14:49:20.876Z"
   },
   {
    "duration": 5,
    "start_time": "2024-03-20T14:49:20.891Z"
   },
   {
    "duration": 11,
    "start_time": "2024-03-20T14:49:20.897Z"
   },
   {
    "duration": 57,
    "start_time": "2024-03-20T14:49:20.909Z"
   },
   {
    "duration": 1142,
    "start_time": "2024-03-20T14:54:48.979Z"
   },
   {
    "duration": 65,
    "start_time": "2024-03-20T14:54:50.123Z"
   },
   {
    "duration": 11,
    "start_time": "2024-03-20T14:54:50.190Z"
   },
   {
    "duration": 10,
    "start_time": "2024-03-20T14:54:50.203Z"
   },
   {
    "duration": 9,
    "start_time": "2024-03-20T14:54:50.215Z"
   },
   {
    "duration": 14,
    "start_time": "2024-03-20T14:54:50.226Z"
   },
   {
    "duration": 6,
    "start_time": "2024-03-20T14:54:50.242Z"
   },
   {
    "duration": 15,
    "start_time": "2024-03-20T14:54:50.250Z"
   },
   {
    "duration": 15,
    "start_time": "2024-03-20T14:54:50.267Z"
   },
   {
    "duration": 6,
    "start_time": "2024-03-20T14:54:50.285Z"
   },
   {
    "duration": 12,
    "start_time": "2024-03-20T14:54:50.292Z"
   },
   {
    "duration": 4,
    "start_time": "2024-03-20T14:54:50.305Z"
   },
   {
    "duration": 23,
    "start_time": "2024-03-20T14:54:50.311Z"
   },
   {
    "duration": 38,
    "start_time": "2024-03-20T14:54:50.335Z"
   },
   {
    "duration": 7,
    "start_time": "2024-03-20T14:54:50.374Z"
   },
   {
    "duration": 163,
    "start_time": "2024-03-20T14:54:50.383Z"
   },
   {
    "duration": 19,
    "start_time": "2024-03-20T14:54:50.547Z"
   },
   {
    "duration": 87,
    "start_time": "2024-03-20T14:54:50.567Z"
   },
   {
    "duration": 189,
    "start_time": "2024-03-20T14:54:50.656Z"
   },
   {
    "duration": 5,
    "start_time": "2024-03-20T14:54:50.847Z"
   },
   {
    "duration": 244,
    "start_time": "2024-03-20T14:54:50.853Z"
   },
   {
    "duration": 7,
    "start_time": "2024-03-20T14:54:51.099Z"
   },
   {
    "duration": 117,
    "start_time": "2024-03-20T14:54:51.108Z"
   },
   {
    "duration": 13,
    "start_time": "2024-03-20T14:54:51.226Z"
   },
   {
    "duration": 231,
    "start_time": "2024-03-20T14:54:51.241Z"
   },
   {
    "duration": 22,
    "start_time": "2024-03-20T14:54:51.473Z"
   },
   {
    "duration": 22,
    "start_time": "2024-03-20T14:54:51.497Z"
   },
   {
    "duration": 16,
    "start_time": "2024-03-20T14:54:51.522Z"
   },
   {
    "duration": 37,
    "start_time": "2024-03-20T14:54:51.539Z"
   },
   {
    "duration": 180,
    "start_time": "2024-03-20T14:54:51.578Z"
   },
   {
    "duration": 180,
    "start_time": "2024-03-20T14:54:51.760Z"
   },
   {
    "duration": 15,
    "start_time": "2024-03-20T14:54:51.942Z"
   },
   {
    "duration": 10,
    "start_time": "2024-03-20T14:54:51.965Z"
   },
   {
    "duration": 11,
    "start_time": "2024-03-20T14:54:51.976Z"
   },
   {
    "duration": 23,
    "start_time": "2024-03-20T14:54:51.989Z"
   },
   {
    "duration": 14,
    "start_time": "2024-03-20T14:54:52.013Z"
   },
   {
    "duration": 10,
    "start_time": "2024-03-20T14:54:52.028Z"
   },
   {
    "duration": 18,
    "start_time": "2024-03-20T14:54:52.039Z"
   },
   {
    "duration": 10,
    "start_time": "2024-03-20T14:54:52.059Z"
   },
   {
    "duration": 24,
    "start_time": "2024-03-20T14:54:52.070Z"
   },
   {
    "duration": 7,
    "start_time": "2024-03-20T15:05:44.383Z"
   },
   {
    "duration": 16,
    "start_time": "2024-03-20T15:06:05.881Z"
   },
   {
    "duration": 1123,
    "start_time": "2024-03-20T15:06:20.097Z"
   },
   {
    "duration": 66,
    "start_time": "2024-03-20T15:06:21.221Z"
   },
   {
    "duration": 12,
    "start_time": "2024-03-20T15:06:21.288Z"
   },
   {
    "duration": 14,
    "start_time": "2024-03-20T15:06:21.302Z"
   },
   {
    "duration": 16,
    "start_time": "2024-03-20T15:06:21.318Z"
   },
   {
    "duration": 28,
    "start_time": "2024-03-20T15:06:21.336Z"
   },
   {
    "duration": 11,
    "start_time": "2024-03-20T15:06:21.366Z"
   },
   {
    "duration": 10,
    "start_time": "2024-03-20T15:06:21.378Z"
   },
   {
    "duration": 26,
    "start_time": "2024-03-20T15:06:21.390Z"
   },
   {
    "duration": 5,
    "start_time": "2024-03-20T15:06:21.419Z"
   },
   {
    "duration": 13,
    "start_time": "2024-03-20T15:06:21.425Z"
   },
   {
    "duration": 3,
    "start_time": "2024-03-20T15:06:21.440Z"
   },
   {
    "duration": 35,
    "start_time": "2024-03-20T15:06:21.445Z"
   },
   {
    "duration": 10,
    "start_time": "2024-03-20T15:06:21.481Z"
   },
   {
    "duration": 5,
    "start_time": "2024-03-20T15:06:21.492Z"
   },
   {
    "duration": 175,
    "start_time": "2024-03-20T15:06:21.498Z"
   },
   {
    "duration": 8,
    "start_time": "2024-03-20T15:06:21.674Z"
   },
   {
    "duration": 111,
    "start_time": "2024-03-20T15:06:21.684Z"
   },
   {
    "duration": 207,
    "start_time": "2024-03-20T15:06:21.797Z"
   },
   {
    "duration": 5,
    "start_time": "2024-03-20T15:06:22.005Z"
   },
   {
    "duration": 223,
    "start_time": "2024-03-20T15:06:22.012Z"
   },
   {
    "duration": 7,
    "start_time": "2024-03-20T15:06:22.236Z"
   },
   {
    "duration": 103,
    "start_time": "2024-03-20T15:06:22.244Z"
   },
   {
    "duration": 22,
    "start_time": "2024-03-20T15:06:22.348Z"
   },
   {
    "duration": 223,
    "start_time": "2024-03-20T15:06:22.371Z"
   },
   {
    "duration": 23,
    "start_time": "2024-03-20T15:06:22.596Z"
   },
   {
    "duration": 23,
    "start_time": "2024-03-20T15:06:22.621Z"
   },
   {
    "duration": 16,
    "start_time": "2024-03-20T15:06:22.666Z"
   },
   {
    "duration": 28,
    "start_time": "2024-03-20T15:06:22.684Z"
   },
   {
    "duration": 165,
    "start_time": "2024-03-20T15:06:22.714Z"
   },
   {
    "duration": 161,
    "start_time": "2024-03-20T15:06:22.880Z"
   },
   {
    "duration": 23,
    "start_time": "2024-03-20T15:06:23.043Z"
   },
   {
    "duration": 10,
    "start_time": "2024-03-20T15:06:23.067Z"
   },
   {
    "duration": 14,
    "start_time": "2024-03-20T15:06:23.079Z"
   },
   {
    "duration": 15,
    "start_time": "2024-03-20T15:06:23.095Z"
   },
   {
    "duration": 14,
    "start_time": "2024-03-20T15:06:23.111Z"
   },
   {
    "duration": 9,
    "start_time": "2024-03-20T15:06:23.126Z"
   },
   {
    "duration": 9,
    "start_time": "2024-03-20T15:06:23.136Z"
   },
   {
    "duration": 19,
    "start_time": "2024-03-20T15:06:23.146Z"
   },
   {
    "duration": 5,
    "start_time": "2024-03-20T15:06:23.167Z"
   },
   {
    "duration": 23,
    "start_time": "2024-03-20T15:06:23.173Z"
   },
   {
    "duration": 73,
    "start_time": "2024-03-20T15:06:23.197Z"
   },
   {
    "duration": 5,
    "start_time": "2024-03-20T15:07:13.639Z"
   },
   {
    "duration": 6,
    "start_time": "2024-03-20T15:07:47.317Z"
   },
   {
    "duration": 5,
    "start_time": "2024-03-20T15:08:33.615Z"
   },
   {
    "duration": 5,
    "start_time": "2024-03-20T15:09:18.311Z"
   },
   {
    "duration": 51,
    "start_time": "2024-03-20T16:37:23.340Z"
   },
   {
    "duration": 1409,
    "start_time": "2024-03-20T16:37:28.546Z"
   },
   {
    "duration": 148,
    "start_time": "2024-03-20T16:37:29.957Z"
   },
   {
    "duration": 0,
    "start_time": "2024-03-20T16:37:30.109Z"
   },
   {
    "duration": 0,
    "start_time": "2024-03-20T16:37:30.110Z"
   },
   {
    "duration": 0,
    "start_time": "2024-03-20T16:37:30.111Z"
   },
   {
    "duration": 0,
    "start_time": "2024-03-20T16:37:30.112Z"
   },
   {
    "duration": 0,
    "start_time": "2024-03-20T16:37:30.113Z"
   },
   {
    "duration": 0,
    "start_time": "2024-03-20T16:37:30.114Z"
   },
   {
    "duration": 0,
    "start_time": "2024-03-20T16:37:30.115Z"
   },
   {
    "duration": 0,
    "start_time": "2024-03-20T16:37:30.116Z"
   },
   {
    "duration": 0,
    "start_time": "2024-03-20T16:37:30.118Z"
   },
   {
    "duration": 0,
    "start_time": "2024-03-20T16:37:30.119Z"
   },
   {
    "duration": 0,
    "start_time": "2024-03-20T16:37:30.120Z"
   },
   {
    "duration": 0,
    "start_time": "2024-03-20T16:37:30.121Z"
   },
   {
    "duration": 0,
    "start_time": "2024-03-20T16:37:30.123Z"
   },
   {
    "duration": 0,
    "start_time": "2024-03-20T16:37:30.124Z"
   },
   {
    "duration": 0,
    "start_time": "2024-03-20T16:37:30.125Z"
   },
   {
    "duration": 0,
    "start_time": "2024-03-20T16:37:30.126Z"
   },
   {
    "duration": 0,
    "start_time": "2024-03-20T16:37:30.127Z"
   },
   {
    "duration": 0,
    "start_time": "2024-03-20T16:37:30.128Z"
   },
   {
    "duration": 0,
    "start_time": "2024-03-20T16:37:30.129Z"
   },
   {
    "duration": 0,
    "start_time": "2024-03-20T16:37:30.130Z"
   },
   {
    "duration": 0,
    "start_time": "2024-03-20T16:37:30.131Z"
   },
   {
    "duration": 0,
    "start_time": "2024-03-20T16:37:30.132Z"
   },
   {
    "duration": 0,
    "start_time": "2024-03-20T16:37:30.133Z"
   },
   {
    "duration": 0,
    "start_time": "2024-03-20T16:37:30.134Z"
   },
   {
    "duration": 0,
    "start_time": "2024-03-20T16:37:30.136Z"
   },
   {
    "duration": 0,
    "start_time": "2024-03-20T16:37:30.173Z"
   },
   {
    "duration": 0,
    "start_time": "2024-03-20T16:37:30.175Z"
   },
   {
    "duration": 0,
    "start_time": "2024-03-20T16:37:30.176Z"
   },
   {
    "duration": 0,
    "start_time": "2024-03-20T16:37:30.177Z"
   },
   {
    "duration": 0,
    "start_time": "2024-03-20T16:37:30.178Z"
   },
   {
    "duration": 0,
    "start_time": "2024-03-20T16:37:30.179Z"
   },
   {
    "duration": 0,
    "start_time": "2024-03-20T16:37:30.180Z"
   },
   {
    "duration": 0,
    "start_time": "2024-03-20T16:37:30.181Z"
   },
   {
    "duration": 0,
    "start_time": "2024-03-20T16:37:30.182Z"
   },
   {
    "duration": 0,
    "start_time": "2024-03-20T16:37:30.183Z"
   },
   {
    "duration": 0,
    "start_time": "2024-03-20T16:37:30.184Z"
   },
   {
    "duration": 0,
    "start_time": "2024-03-20T16:37:30.185Z"
   },
   {
    "duration": 0,
    "start_time": "2024-03-20T16:37:30.186Z"
   },
   {
    "duration": 248,
    "start_time": "2024-03-20T16:37:54.307Z"
   },
   {
    "duration": 3,
    "start_time": "2024-03-20T16:38:02.856Z"
   },
   {
    "duration": 85,
    "start_time": "2024-03-20T16:38:02.861Z"
   },
   {
    "duration": 14,
    "start_time": "2024-03-20T16:38:02.947Z"
   },
   {
    "duration": 17,
    "start_time": "2024-03-20T16:38:02.963Z"
   },
   {
    "duration": 38,
    "start_time": "2024-03-20T16:38:02.982Z"
   },
   {
    "duration": 20,
    "start_time": "2024-03-20T16:38:03.022Z"
   },
   {
    "duration": 7,
    "start_time": "2024-03-20T16:38:03.044Z"
   },
   {
    "duration": 36,
    "start_time": "2024-03-20T16:38:03.052Z"
   },
   {
    "duration": 28,
    "start_time": "2024-03-20T16:38:03.090Z"
   },
   {
    "duration": 6,
    "start_time": "2024-03-20T16:38:03.119Z"
   },
   {
    "duration": 21,
    "start_time": "2024-03-20T16:38:03.127Z"
   },
   {
    "duration": 4,
    "start_time": "2024-03-20T16:38:03.149Z"
   },
   {
    "duration": 37,
    "start_time": "2024-03-20T16:38:03.154Z"
   },
   {
    "duration": 12,
    "start_time": "2024-03-20T16:38:03.196Z"
   },
   {
    "duration": 10,
    "start_time": "2024-03-20T16:38:03.210Z"
   },
   {
    "duration": 181,
    "start_time": "2024-03-20T16:38:03.222Z"
   },
   {
    "duration": 7,
    "start_time": "2024-03-20T16:38:03.405Z"
   },
   {
    "duration": 108,
    "start_time": "2024-03-20T16:38:03.414Z"
   },
   {
    "duration": 217,
    "start_time": "2024-03-20T16:38:03.524Z"
   },
   {
    "duration": 5,
    "start_time": "2024-03-20T16:38:03.742Z"
   },
   {
    "duration": 254,
    "start_time": "2024-03-20T16:38:03.748Z"
   },
   {
    "duration": 10,
    "start_time": "2024-03-20T16:38:04.004Z"
   },
   {
    "duration": 137,
    "start_time": "2024-03-20T16:38:04.016Z"
   },
   {
    "duration": 26,
    "start_time": "2024-03-20T16:38:04.155Z"
   },
   {
    "duration": 242,
    "start_time": "2024-03-20T16:38:04.183Z"
   },
   {
    "duration": 24,
    "start_time": "2024-03-20T16:38:04.426Z"
   },
   {
    "duration": 41,
    "start_time": "2024-03-20T16:38:04.451Z"
   },
   {
    "duration": 17,
    "start_time": "2024-03-20T16:38:04.494Z"
   },
   {
    "duration": 15,
    "start_time": "2024-03-20T16:38:04.513Z"
   },
   {
    "duration": 200,
    "start_time": "2024-03-20T16:38:04.529Z"
   },
   {
    "duration": 253,
    "start_time": "2024-03-20T16:38:04.730Z"
   },
   {
    "duration": 17,
    "start_time": "2024-03-20T16:38:04.985Z"
   },
   {
    "duration": 10,
    "start_time": "2024-03-20T16:38:05.003Z"
   },
   {
    "duration": 5,
    "start_time": "2024-03-20T16:38:05.014Z"
   },
   {
    "duration": 20,
    "start_time": "2024-03-20T16:38:05.021Z"
   },
   {
    "duration": 6,
    "start_time": "2024-03-20T16:38:05.042Z"
   },
   {
    "duration": 6,
    "start_time": "2024-03-20T16:38:05.074Z"
   },
   {
    "duration": 15,
    "start_time": "2024-03-20T16:38:05.082Z"
   },
   {
    "duration": 15,
    "start_time": "2024-03-20T16:38:05.099Z"
   },
   {
    "duration": 8,
    "start_time": "2024-03-20T16:38:05.115Z"
   },
   {
    "duration": 152,
    "start_time": "2024-03-20T16:40:58.895Z"
   },
   {
    "duration": 8,
    "start_time": "2024-03-20T16:46:16.759Z"
   },
   {
    "duration": 10,
    "start_time": "2024-03-20T16:48:11.229Z"
   },
   {
    "duration": 4,
    "start_time": "2024-03-20T16:48:19.076Z"
   },
   {
    "duration": 4,
    "start_time": "2024-03-20T16:48:42.060Z"
   },
   {
    "duration": 14,
    "start_time": "2024-03-20T16:50:55.263Z"
   },
   {
    "duration": 2,
    "start_time": "2024-03-20T16:50:59.078Z"
   },
   {
    "duration": 87,
    "start_time": "2024-03-20T16:50:59.082Z"
   },
   {
    "duration": 8,
    "start_time": "2024-03-20T16:50:59.171Z"
   },
   {
    "duration": 23,
    "start_time": "2024-03-20T16:50:59.180Z"
   },
   {
    "duration": 13,
    "start_time": "2024-03-20T16:50:59.205Z"
   },
   {
    "duration": 32,
    "start_time": "2024-03-20T16:50:59.219Z"
   },
   {
    "duration": 7,
    "start_time": "2024-03-20T16:50:59.252Z"
   },
   {
    "duration": 10,
    "start_time": "2024-03-20T16:50:59.261Z"
   },
   {
    "duration": 8,
    "start_time": "2024-03-20T16:50:59.273Z"
   },
   {
    "duration": 14,
    "start_time": "2024-03-20T16:50:59.283Z"
   },
   {
    "duration": 4,
    "start_time": "2024-03-20T16:50:59.300Z"
   },
   {
    "duration": 27,
    "start_time": "2024-03-20T16:50:59.306Z"
   },
   {
    "duration": 45,
    "start_time": "2024-03-20T16:50:59.335Z"
   },
   {
    "duration": 6,
    "start_time": "2024-03-20T16:50:59.382Z"
   },
   {
    "duration": 173,
    "start_time": "2024-03-20T16:50:59.390Z"
   },
   {
    "duration": 9,
    "start_time": "2024-03-20T16:50:59.564Z"
   },
   {
    "duration": 84,
    "start_time": "2024-03-20T16:50:59.575Z"
   },
   {
    "duration": 218,
    "start_time": "2024-03-20T16:50:59.673Z"
   },
   {
    "duration": 5,
    "start_time": "2024-03-20T16:50:59.892Z"
   },
   {
    "duration": 10,
    "start_time": "2024-03-20T16:50:59.899Z"
   },
   {
    "duration": 290,
    "start_time": "2024-03-20T16:50:59.911Z"
   },
   {
    "duration": 7,
    "start_time": "2024-03-20T16:51:00.203Z"
   },
   {
    "duration": 184,
    "start_time": "2024-03-20T16:51:00.211Z"
   },
   {
    "duration": 12,
    "start_time": "2024-03-20T16:51:00.397Z"
   },
   {
    "duration": 268,
    "start_time": "2024-03-20T16:51:00.411Z"
   },
   {
    "duration": 23,
    "start_time": "2024-03-20T16:51:00.681Z"
   },
   {
    "duration": 68,
    "start_time": "2024-03-20T16:51:00.706Z"
   },
   {
    "duration": 139,
    "start_time": "2024-03-20T16:51:00.776Z"
   },
   {
    "duration": 63,
    "start_time": "2024-03-20T16:51:00.919Z"
   },
   {
    "duration": 43,
    "start_time": "2024-03-20T16:51:00.984Z"
   },
   {
    "duration": 29,
    "start_time": "2024-03-20T16:51:01.028Z"
   },
   {
    "duration": 304,
    "start_time": "2024-03-20T16:51:01.059Z"
   },
   {
    "duration": 200,
    "start_time": "2024-03-20T16:51:01.365Z"
   },
   {
    "duration": 18,
    "start_time": "2024-03-20T16:51:01.566Z"
   },
   {
    "duration": 70,
    "start_time": "2024-03-20T16:51:01.585Z"
   },
   {
    "duration": 48,
    "start_time": "2024-03-20T16:51:01.657Z"
   },
   {
    "duration": 45,
    "start_time": "2024-03-20T16:51:01.706Z"
   },
   {
    "duration": 77,
    "start_time": "2024-03-20T16:51:01.752Z"
   },
   {
    "duration": 56,
    "start_time": "2024-03-20T16:51:01.831Z"
   },
   {
    "duration": 46,
    "start_time": "2024-03-20T16:51:01.889Z"
   },
   {
    "duration": 83,
    "start_time": "2024-03-20T16:51:01.937Z"
   },
   {
    "duration": 37,
    "start_time": "2024-03-20T16:51:02.022Z"
   },
   {
    "duration": 44,
    "start_time": "2024-03-20T16:51:02.060Z"
   },
   {
    "duration": 24,
    "start_time": "2024-03-20T16:54:10.993Z"
   },
   {
    "duration": 28,
    "start_time": "2024-03-20T16:54:20.521Z"
   },
   {
    "duration": 28,
    "start_time": "2024-03-20T16:54:51.216Z"
   },
   {
    "duration": 1538,
    "start_time": "2024-03-20T16:56:35.460Z"
   },
   {
    "duration": 1609,
    "start_time": "2024-03-20T16:56:56.694Z"
   },
   {
    "duration": 2,
    "start_time": "2024-03-20T16:57:10.378Z"
   },
   {
    "duration": 78,
    "start_time": "2024-03-20T16:57:10.382Z"
   },
   {
    "duration": 9,
    "start_time": "2024-03-20T16:57:10.461Z"
   },
   {
    "duration": 18,
    "start_time": "2024-03-20T16:57:10.472Z"
   },
   {
    "duration": 21,
    "start_time": "2024-03-20T16:57:10.493Z"
   },
   {
    "duration": 38,
    "start_time": "2024-03-20T16:57:10.515Z"
   },
   {
    "duration": 9,
    "start_time": "2024-03-20T16:57:10.555Z"
   },
   {
    "duration": 23,
    "start_time": "2024-03-20T16:57:10.565Z"
   },
   {
    "duration": 17,
    "start_time": "2024-03-20T16:57:10.590Z"
   },
   {
    "duration": 16,
    "start_time": "2024-03-20T16:57:10.609Z"
   },
   {
    "duration": 4,
    "start_time": "2024-03-20T16:57:10.627Z"
   },
   {
    "duration": 33,
    "start_time": "2024-03-20T16:57:10.633Z"
   },
   {
    "duration": 12,
    "start_time": "2024-03-20T16:57:10.668Z"
   },
   {
    "duration": 6,
    "start_time": "2024-03-20T16:57:10.684Z"
   },
   {
    "duration": 167,
    "start_time": "2024-03-20T16:57:10.691Z"
   },
   {
    "duration": 15,
    "start_time": "2024-03-20T16:57:10.860Z"
   },
   {
    "duration": 173,
    "start_time": "2024-03-20T16:57:10.876Z"
   },
   {
    "duration": 218,
    "start_time": "2024-03-20T16:57:11.051Z"
   },
   {
    "duration": 5,
    "start_time": "2024-03-20T16:57:11.272Z"
   },
   {
    "duration": 21,
    "start_time": "2024-03-20T16:57:11.278Z"
   },
   {
    "duration": 241,
    "start_time": "2024-03-20T16:57:11.301Z"
   },
   {
    "duration": 7,
    "start_time": "2024-03-20T16:57:11.543Z"
   },
   {
    "duration": 132,
    "start_time": "2024-03-20T16:57:11.552Z"
   },
   {
    "duration": 13,
    "start_time": "2024-03-20T16:57:11.686Z"
   },
   {
    "duration": 254,
    "start_time": "2024-03-20T16:57:11.700Z"
   },
   {
    "duration": 27,
    "start_time": "2024-03-20T16:57:11.956Z"
   },
   {
    "duration": 24,
    "start_time": "2024-03-20T16:57:11.985Z"
   },
   {
    "duration": 18,
    "start_time": "2024-03-20T16:57:12.011Z"
   },
   {
    "duration": 3,
    "start_time": "2024-03-20T16:57:12.031Z"
   },
   {
    "duration": 42,
    "start_time": "2024-03-20T16:57:12.036Z"
   },
   {
    "duration": 4,
    "start_time": "2024-03-20T16:57:12.080Z"
   },
   {
    "duration": 199,
    "start_time": "2024-03-20T16:57:12.086Z"
   },
   {
    "duration": 191,
    "start_time": "2024-03-20T16:57:12.287Z"
   },
   {
    "duration": 14,
    "start_time": "2024-03-20T16:57:12.480Z"
   },
   {
    "duration": 43,
    "start_time": "2024-03-20T16:57:12.495Z"
   },
   {
    "duration": 1544,
    "start_time": "2024-03-20T16:57:12.539Z"
   },
   {
    "duration": 0,
    "start_time": "2024-03-20T16:57:14.086Z"
   },
   {
    "duration": 0,
    "start_time": "2024-03-20T16:57:14.087Z"
   },
   {
    "duration": 0,
    "start_time": "2024-03-20T16:57:14.088Z"
   },
   {
    "duration": 0,
    "start_time": "2024-03-20T16:57:14.089Z"
   },
   {
    "duration": 0,
    "start_time": "2024-03-20T16:57:14.092Z"
   },
   {
    "duration": 0,
    "start_time": "2024-03-20T16:57:14.093Z"
   },
   {
    "duration": 0,
    "start_time": "2024-03-20T16:57:14.095Z"
   },
   {
    "duration": 0,
    "start_time": "2024-03-20T16:57:14.096Z"
   },
   {
    "duration": 3,
    "start_time": "2024-03-20T17:01:51.472Z"
   },
   {
    "duration": 79,
    "start_time": "2024-03-20T17:01:51.477Z"
   },
   {
    "duration": 9,
    "start_time": "2024-03-20T17:01:51.557Z"
   },
   {
    "duration": 12,
    "start_time": "2024-03-20T17:01:51.567Z"
   },
   {
    "duration": 18,
    "start_time": "2024-03-20T17:01:51.581Z"
   },
   {
    "duration": 13,
    "start_time": "2024-03-20T17:01:51.601Z"
   },
   {
    "duration": 7,
    "start_time": "2024-03-20T17:01:51.615Z"
   },
   {
    "duration": 10,
    "start_time": "2024-03-20T17:01:51.624Z"
   },
   {
    "duration": 12,
    "start_time": "2024-03-20T17:01:51.635Z"
   },
   {
    "duration": 32,
    "start_time": "2024-03-20T17:01:51.650Z"
   },
   {
    "duration": 4,
    "start_time": "2024-03-20T17:01:51.684Z"
   },
   {
    "duration": 31,
    "start_time": "2024-03-20T17:01:51.690Z"
   },
   {
    "duration": 11,
    "start_time": "2024-03-20T17:01:51.722Z"
   },
   {
    "duration": 5,
    "start_time": "2024-03-20T17:01:51.735Z"
   },
   {
    "duration": 191,
    "start_time": "2024-03-20T17:01:51.742Z"
   },
   {
    "duration": 6,
    "start_time": "2024-03-20T17:01:51.934Z"
   },
   {
    "duration": 96,
    "start_time": "2024-03-20T17:01:51.942Z"
   },
   {
    "duration": 207,
    "start_time": "2024-03-20T17:01:52.040Z"
   },
   {
    "duration": 5,
    "start_time": "2024-03-20T17:01:52.248Z"
   },
   {
    "duration": 21,
    "start_time": "2024-03-20T17:01:52.254Z"
   },
   {
    "duration": 253,
    "start_time": "2024-03-20T17:01:52.276Z"
   },
   {
    "duration": 7,
    "start_time": "2024-03-20T17:01:52.531Z"
   },
   {
    "duration": 135,
    "start_time": "2024-03-20T17:01:52.540Z"
   },
   {
    "duration": 15,
    "start_time": "2024-03-20T17:01:52.677Z"
   },
   {
    "duration": 353,
    "start_time": "2024-03-20T17:01:52.693Z"
   },
   {
    "duration": 32,
    "start_time": "2024-03-20T17:01:53.048Z"
   },
   {
    "duration": 25,
    "start_time": "2024-03-20T17:01:53.082Z"
   },
   {
    "duration": 19,
    "start_time": "2024-03-20T17:01:53.111Z"
   },
   {
    "duration": 4,
    "start_time": "2024-03-20T17:01:53.132Z"
   },
   {
    "duration": 46,
    "start_time": "2024-03-20T17:01:53.138Z"
   },
   {
    "duration": 8,
    "start_time": "2024-03-20T17:01:53.186Z"
   },
   {
    "duration": 192,
    "start_time": "2024-03-20T17:01:53.196Z"
   },
   {
    "duration": 218,
    "start_time": "2024-03-20T17:01:53.390Z"
   },
   {
    "duration": 13,
    "start_time": "2024-03-20T17:01:53.610Z"
   },
   {
    "duration": 35,
    "start_time": "2024-03-20T17:01:53.625Z"
   },
   {
    "duration": 13,
    "start_time": "2024-03-20T17:01:53.661Z"
   },
   {
    "duration": 232,
    "start_time": "2024-03-20T17:01:53.675Z"
   },
   {
    "duration": 13,
    "start_time": "2024-03-20T17:01:53.909Z"
   },
   {
    "duration": 9,
    "start_time": "2024-03-20T17:01:53.923Z"
   },
   {
    "duration": 11,
    "start_time": "2024-03-20T17:01:53.934Z"
   },
   {
    "duration": 6,
    "start_time": "2024-03-20T17:01:53.947Z"
   },
   {
    "duration": 5,
    "start_time": "2024-03-20T17:01:53.973Z"
   },
   {
    "duration": 9,
    "start_time": "2024-03-20T17:01:53.979Z"
   },
   {
    "duration": 3,
    "start_time": "2024-03-20T17:02:22.806Z"
   },
   {
    "duration": 111,
    "start_time": "2024-03-20T17:02:22.811Z"
   },
   {
    "duration": 9,
    "start_time": "2024-03-20T17:02:22.923Z"
   },
   {
    "duration": 43,
    "start_time": "2024-03-20T17:02:22.934Z"
   },
   {
    "duration": 35,
    "start_time": "2024-03-20T17:02:22.980Z"
   },
   {
    "duration": 29,
    "start_time": "2024-03-20T17:02:23.016Z"
   },
   {
    "duration": 34,
    "start_time": "2024-03-20T17:02:23.047Z"
   },
   {
    "duration": 29,
    "start_time": "2024-03-20T17:02:23.082Z"
   },
   {
    "duration": 45,
    "start_time": "2024-03-20T17:02:23.113Z"
   },
   {
    "duration": 26,
    "start_time": "2024-03-20T17:02:23.160Z"
   },
   {
    "duration": 4,
    "start_time": "2024-03-20T17:02:23.188Z"
   },
   {
    "duration": 45,
    "start_time": "2024-03-20T17:02:23.193Z"
   },
   {
    "duration": 34,
    "start_time": "2024-03-20T17:02:23.241Z"
   },
   {
    "duration": 13,
    "start_time": "2024-03-20T17:02:23.277Z"
   },
   {
    "duration": 206,
    "start_time": "2024-03-20T17:02:23.292Z"
   },
   {
    "duration": 8,
    "start_time": "2024-03-20T17:02:23.501Z"
   },
   {
    "duration": 126,
    "start_time": "2024-03-20T17:02:23.511Z"
   },
   {
    "duration": 241,
    "start_time": "2024-03-20T17:02:23.639Z"
   },
   {
    "duration": 5,
    "start_time": "2024-03-20T17:02:23.882Z"
   },
   {
    "duration": 13,
    "start_time": "2024-03-20T17:02:23.889Z"
   },
   {
    "duration": 281,
    "start_time": "2024-03-20T17:02:23.903Z"
   },
   {
    "duration": 7,
    "start_time": "2024-03-20T17:02:24.186Z"
   },
   {
    "duration": 127,
    "start_time": "2024-03-20T17:02:24.195Z"
   },
   {
    "duration": 13,
    "start_time": "2024-03-20T17:02:24.324Z"
   },
   {
    "duration": 249,
    "start_time": "2024-03-20T17:02:24.338Z"
   },
   {
    "duration": 23,
    "start_time": "2024-03-20T17:02:24.588Z"
   },
   {
    "duration": 24,
    "start_time": "2024-03-20T17:02:24.613Z"
   },
   {
    "duration": 38,
    "start_time": "2024-03-20T17:02:24.639Z"
   },
   {
    "duration": 3,
    "start_time": "2024-03-20T17:02:24.679Z"
   },
   {
    "duration": 21,
    "start_time": "2024-03-20T17:02:24.684Z"
   },
   {
    "duration": 2,
    "start_time": "2024-03-20T17:02:24.707Z"
   },
   {
    "duration": 196,
    "start_time": "2024-03-20T17:02:24.711Z"
   },
   {
    "duration": 187,
    "start_time": "2024-03-20T17:02:24.908Z"
   },
   {
    "duration": 13,
    "start_time": "2024-03-20T17:02:25.097Z"
   },
   {
    "duration": 40,
    "start_time": "2024-03-20T17:02:25.111Z"
   },
   {
    "duration": 2,
    "start_time": "2024-03-20T17:02:25.153Z"
   },
   {
    "duration": 362,
    "start_time": "2024-03-20T17:02:25.159Z"
   },
   {
    "duration": 12,
    "start_time": "2024-03-20T17:02:25.523Z"
   },
   {
    "duration": 5,
    "start_time": "2024-03-20T17:02:25.537Z"
   },
   {
    "duration": 6,
    "start_time": "2024-03-20T17:02:25.543Z"
   },
   {
    "duration": 25,
    "start_time": "2024-03-20T17:02:25.550Z"
   },
   {
    "duration": 8,
    "start_time": "2024-03-20T17:02:25.577Z"
   },
   {
    "duration": 10,
    "start_time": "2024-03-20T17:02:25.587Z"
   },
   {
    "duration": 2,
    "start_time": "2024-03-20T17:02:55.566Z"
   },
   {
    "duration": 90,
    "start_time": "2024-03-20T17:02:55.570Z"
   },
   {
    "duration": 8,
    "start_time": "2024-03-20T17:02:55.662Z"
   },
   {
    "duration": 22,
    "start_time": "2024-03-20T17:02:55.671Z"
   },
   {
    "duration": 22,
    "start_time": "2024-03-20T17:02:55.695Z"
   },
   {
    "duration": 26,
    "start_time": "2024-03-20T17:02:55.718Z"
   },
   {
    "duration": 19,
    "start_time": "2024-03-20T17:02:55.746Z"
   },
   {
    "duration": 21,
    "start_time": "2024-03-20T17:02:55.766Z"
   },
   {
    "duration": 33,
    "start_time": "2024-03-20T17:02:55.789Z"
   },
   {
    "duration": 30,
    "start_time": "2024-03-20T17:02:55.824Z"
   },
   {
    "duration": 4,
    "start_time": "2024-03-20T17:02:55.855Z"
   },
   {
    "duration": 51,
    "start_time": "2024-03-20T17:02:55.860Z"
   },
   {
    "duration": 11,
    "start_time": "2024-03-20T17:02:55.913Z"
   },
   {
    "duration": 17,
    "start_time": "2024-03-20T17:02:55.927Z"
   },
   {
    "duration": 192,
    "start_time": "2024-03-20T17:02:55.945Z"
   },
   {
    "duration": 6,
    "start_time": "2024-03-20T17:02:56.139Z"
   },
   {
    "duration": 104,
    "start_time": "2024-03-20T17:02:56.146Z"
   },
   {
    "duration": 228,
    "start_time": "2024-03-20T17:02:56.251Z"
   },
   {
    "duration": 5,
    "start_time": "2024-03-20T17:02:56.481Z"
   },
   {
    "duration": 22,
    "start_time": "2024-03-20T17:02:56.488Z"
   },
   {
    "duration": 258,
    "start_time": "2024-03-20T17:02:56.512Z"
   },
   {
    "duration": 7,
    "start_time": "2024-03-20T17:02:56.771Z"
   },
   {
    "duration": 126,
    "start_time": "2024-03-20T17:02:56.780Z"
   },
   {
    "duration": 13,
    "start_time": "2024-03-20T17:02:56.908Z"
   },
   {
    "duration": 265,
    "start_time": "2024-03-20T17:02:56.922Z"
   },
   {
    "duration": 24,
    "start_time": "2024-03-20T17:02:57.189Z"
   },
   {
    "duration": 24,
    "start_time": "2024-03-20T17:02:57.215Z"
   },
   {
    "duration": 39,
    "start_time": "2024-03-20T17:02:57.240Z"
   },
   {
    "duration": 4,
    "start_time": "2024-03-20T17:02:57.281Z"
   },
   {
    "duration": 19,
    "start_time": "2024-03-20T17:02:57.286Z"
   },
   {
    "duration": 3,
    "start_time": "2024-03-20T17:02:57.307Z"
   },
   {
    "duration": 209,
    "start_time": "2024-03-20T17:02:57.312Z"
   },
   {
    "duration": 187,
    "start_time": "2024-03-20T17:02:57.522Z"
   },
   {
    "duration": 14,
    "start_time": "2024-03-20T17:02:57.711Z"
   },
   {
    "duration": 37,
    "start_time": "2024-03-20T17:02:57.726Z"
   },
   {
    "duration": 2,
    "start_time": "2024-03-20T17:02:57.773Z"
   },
   {
    "duration": 245,
    "start_time": "2024-03-20T17:02:57.777Z"
   },
   {
    "duration": 12,
    "start_time": "2024-03-20T17:02:58.024Z"
   },
   {
    "duration": 7,
    "start_time": "2024-03-20T17:02:58.038Z"
   },
   {
    "duration": 12,
    "start_time": "2024-03-20T17:02:58.047Z"
   },
   {
    "duration": 5,
    "start_time": "2024-03-20T17:02:58.072Z"
   },
   {
    "duration": 9,
    "start_time": "2024-03-20T17:02:58.079Z"
   },
   {
    "duration": 17,
    "start_time": "2024-03-20T17:02:58.089Z"
   },
   {
    "duration": 3,
    "start_time": "2024-03-20T17:05:35.161Z"
   },
   {
    "duration": 90,
    "start_time": "2024-03-20T17:05:35.165Z"
   },
   {
    "duration": 8,
    "start_time": "2024-03-20T17:05:35.257Z"
   },
   {
    "duration": 32,
    "start_time": "2024-03-20T17:05:35.266Z"
   },
   {
    "duration": 12,
    "start_time": "2024-03-20T17:05:35.300Z"
   },
   {
    "duration": 21,
    "start_time": "2024-03-20T17:05:35.314Z"
   },
   {
    "duration": 12,
    "start_time": "2024-03-20T17:05:35.337Z"
   },
   {
    "duration": 39,
    "start_time": "2024-03-20T17:05:35.350Z"
   },
   {
    "duration": 8,
    "start_time": "2024-03-20T17:05:35.391Z"
   },
   {
    "duration": 13,
    "start_time": "2024-03-20T17:05:35.400Z"
   },
   {
    "duration": 3,
    "start_time": "2024-03-20T17:05:35.415Z"
   },
   {
    "duration": 26,
    "start_time": "2024-03-20T17:05:35.419Z"
   },
   {
    "duration": 25,
    "start_time": "2024-03-20T17:05:35.448Z"
   },
   {
    "duration": 6,
    "start_time": "2024-03-20T17:05:35.474Z"
   },
   {
    "duration": 164,
    "start_time": "2024-03-20T17:05:35.481Z"
   },
   {
    "duration": 6,
    "start_time": "2024-03-20T17:05:35.647Z"
   },
   {
    "duration": 108,
    "start_time": "2024-03-20T17:05:35.654Z"
   },
   {
    "duration": 203,
    "start_time": "2024-03-20T17:05:35.764Z"
   },
   {
    "duration": 5,
    "start_time": "2024-03-20T17:05:35.972Z"
   },
   {
    "duration": 11,
    "start_time": "2024-03-20T17:05:35.978Z"
   },
   {
    "duration": 251,
    "start_time": "2024-03-20T17:05:35.990Z"
   },
   {
    "duration": 7,
    "start_time": "2024-03-20T17:05:36.243Z"
   },
   {
    "duration": 139,
    "start_time": "2024-03-20T17:05:36.251Z"
   },
   {
    "duration": 13,
    "start_time": "2024-03-20T17:05:36.391Z"
   },
   {
    "duration": 236,
    "start_time": "2024-03-20T17:05:36.405Z"
   },
   {
    "duration": 32,
    "start_time": "2024-03-20T17:05:36.642Z"
   },
   {
    "duration": 25,
    "start_time": "2024-03-20T17:05:36.675Z"
   },
   {
    "duration": 18,
    "start_time": "2024-03-20T17:05:36.701Z"
   },
   {
    "duration": 7,
    "start_time": "2024-03-20T17:05:36.720Z"
   },
   {
    "duration": 42,
    "start_time": "2024-03-20T17:05:36.728Z"
   },
   {
    "duration": 4,
    "start_time": "2024-03-20T17:05:36.772Z"
   },
   {
    "duration": 192,
    "start_time": "2024-03-20T17:05:36.777Z"
   },
   {
    "duration": 336,
    "start_time": "2024-03-20T17:05:36.971Z"
   },
   {
    "duration": 14,
    "start_time": "2024-03-20T17:05:37.308Z"
   },
   {
    "duration": 29,
    "start_time": "2024-03-20T17:05:37.324Z"
   },
   {
    "duration": 3,
    "start_time": "2024-03-20T17:05:37.355Z"
   },
   {
    "duration": 241,
    "start_time": "2024-03-20T17:05:37.376Z"
   },
   {
    "duration": 7,
    "start_time": "2024-03-20T17:05:37.619Z"
   },
   {
    "duration": 11,
    "start_time": "2024-03-20T17:05:37.628Z"
   },
   {
    "duration": 6,
    "start_time": "2024-03-20T17:05:37.641Z"
   },
   {
    "duration": 27,
    "start_time": "2024-03-20T17:05:37.648Z"
   },
   {
    "duration": 9,
    "start_time": "2024-03-20T17:05:37.677Z"
   },
   {
    "duration": 1596,
    "start_time": "2024-03-20T17:11:15.730Z"
   },
   {
    "duration": 3,
    "start_time": "2024-03-20T17:11:27.383Z"
   },
   {
    "duration": 82,
    "start_time": "2024-03-20T17:11:27.388Z"
   },
   {
    "duration": 9,
    "start_time": "2024-03-20T17:11:27.472Z"
   },
   {
    "duration": 12,
    "start_time": "2024-03-20T17:11:27.483Z"
   },
   {
    "duration": 12,
    "start_time": "2024-03-20T17:11:27.496Z"
   },
   {
    "duration": 11,
    "start_time": "2024-03-20T17:11:27.510Z"
   },
   {
    "duration": 8,
    "start_time": "2024-03-20T17:11:27.523Z"
   },
   {
    "duration": 47,
    "start_time": "2024-03-20T17:11:27.533Z"
   },
   {
    "duration": 6,
    "start_time": "2024-03-20T17:11:27.584Z"
   },
   {
    "duration": 14,
    "start_time": "2024-03-20T17:11:27.592Z"
   },
   {
    "duration": 4,
    "start_time": "2024-03-20T17:11:27.608Z"
   },
   {
    "duration": 22,
    "start_time": "2024-03-20T17:11:27.614Z"
   },
   {
    "duration": 44,
    "start_time": "2024-03-20T17:11:27.638Z"
   },
   {
    "duration": 10,
    "start_time": "2024-03-20T17:11:27.683Z"
   },
   {
    "duration": 180,
    "start_time": "2024-03-20T17:11:27.695Z"
   },
   {
    "duration": 6,
    "start_time": "2024-03-20T17:11:27.877Z"
   },
   {
    "duration": 109,
    "start_time": "2024-03-20T17:11:27.885Z"
   },
   {
    "duration": 228,
    "start_time": "2024-03-20T17:11:27.996Z"
   },
   {
    "duration": 6,
    "start_time": "2024-03-20T17:11:28.226Z"
   },
   {
    "duration": 10,
    "start_time": "2024-03-20T17:11:28.235Z"
   },
   {
    "duration": 291,
    "start_time": "2024-03-20T17:11:28.248Z"
   },
   {
    "duration": 8,
    "start_time": "2024-03-20T17:11:28.541Z"
   },
   {
    "duration": 130,
    "start_time": "2024-03-20T17:11:28.551Z"
   },
   {
    "duration": 15,
    "start_time": "2024-03-20T17:11:28.685Z"
   },
   {
    "duration": 257,
    "start_time": "2024-03-20T17:11:28.701Z"
   },
   {
    "duration": 41,
    "start_time": "2024-03-20T17:11:28.960Z"
   },
   {
    "duration": 26,
    "start_time": "2024-03-20T17:11:29.002Z"
   },
   {
    "duration": 20,
    "start_time": "2024-03-20T17:11:29.030Z"
   },
   {
    "duration": 4,
    "start_time": "2024-03-20T17:11:29.073Z"
   },
   {
    "duration": 18,
    "start_time": "2024-03-20T17:11:29.079Z"
   },
   {
    "duration": 6,
    "start_time": "2024-03-20T17:11:29.098Z"
   },
   {
    "duration": 208,
    "start_time": "2024-03-20T17:11:29.105Z"
   },
   {
    "duration": 192,
    "start_time": "2024-03-20T17:11:29.315Z"
   },
   {
    "duration": 15,
    "start_time": "2024-03-20T17:11:29.509Z"
   },
   {
    "duration": 30,
    "start_time": "2024-03-20T17:11:29.525Z"
   },
   {
    "duration": 4,
    "start_time": "2024-03-20T17:11:29.572Z"
   },
   {
    "duration": 269,
    "start_time": "2024-03-20T17:11:29.578Z"
   },
   {
    "duration": 5,
    "start_time": "2024-03-20T17:11:29.849Z"
   },
   {
    "duration": 26,
    "start_time": "2024-03-20T17:11:29.856Z"
   },
   {
    "duration": 32,
    "start_time": "2024-03-20T17:11:29.884Z"
   },
   {
    "duration": 36,
    "start_time": "2024-03-20T17:11:29.917Z"
   },
   {
    "duration": 20,
    "start_time": "2024-03-20T17:11:29.955Z"
   },
   {
    "duration": 5,
    "start_time": "2024-03-20T17:14:23.934Z"
   },
   {
    "duration": 3,
    "start_time": "2024-03-20T17:28:25.567Z"
   },
   {
    "duration": 78,
    "start_time": "2024-03-20T17:28:25.573Z"
   },
   {
    "duration": 8,
    "start_time": "2024-03-20T17:28:25.653Z"
   },
   {
    "duration": 15,
    "start_time": "2024-03-20T17:28:25.662Z"
   },
   {
    "duration": 11,
    "start_time": "2024-03-20T17:28:25.679Z"
   },
   {
    "duration": 15,
    "start_time": "2024-03-20T17:28:25.692Z"
   },
   {
    "duration": 7,
    "start_time": "2024-03-20T17:28:25.709Z"
   },
   {
    "duration": 12,
    "start_time": "2024-03-20T17:28:25.717Z"
   },
   {
    "duration": 24,
    "start_time": "2024-03-20T17:28:25.731Z"
   },
   {
    "duration": 29,
    "start_time": "2024-03-20T17:28:25.756Z"
   },
   {
    "duration": 5,
    "start_time": "2024-03-20T17:28:25.787Z"
   },
   {
    "duration": 31,
    "start_time": "2024-03-20T17:28:25.793Z"
   },
   {
    "duration": 11,
    "start_time": "2024-03-20T17:28:25.825Z"
   },
   {
    "duration": 12,
    "start_time": "2024-03-20T17:28:25.838Z"
   },
   {
    "duration": 173,
    "start_time": "2024-03-20T17:28:25.874Z"
   },
   {
    "duration": 7,
    "start_time": "2024-03-20T17:28:26.051Z"
   },
   {
    "duration": 107,
    "start_time": "2024-03-20T17:28:26.072Z"
   },
   {
    "duration": 210,
    "start_time": "2024-03-20T17:28:26.181Z"
   },
   {
    "duration": 5,
    "start_time": "2024-03-20T17:28:26.392Z"
   },
   {
    "duration": 9,
    "start_time": "2024-03-20T17:28:26.398Z"
   },
   {
    "duration": 246,
    "start_time": "2024-03-20T17:28:26.409Z"
   },
   {
    "duration": 19,
    "start_time": "2024-03-20T17:28:26.657Z"
   },
   {
    "duration": 115,
    "start_time": "2024-03-20T17:28:26.678Z"
   },
   {
    "duration": 14,
    "start_time": "2024-03-20T17:28:26.794Z"
   },
   {
    "duration": 265,
    "start_time": "2024-03-20T17:28:26.810Z"
   },
   {
    "duration": 36,
    "start_time": "2024-03-20T17:28:27.077Z"
   },
   {
    "duration": 37,
    "start_time": "2024-03-20T17:28:27.115Z"
   },
   {
    "duration": 33,
    "start_time": "2024-03-20T17:28:27.154Z"
   },
   {
    "duration": 9,
    "start_time": "2024-03-20T17:28:27.190Z"
   },
   {
    "duration": 17,
    "start_time": "2024-03-20T17:28:27.206Z"
   },
   {
    "duration": 4,
    "start_time": "2024-03-20T17:28:27.224Z"
   },
   {
    "duration": 217,
    "start_time": "2024-03-20T17:28:27.229Z"
   },
   {
    "duration": 182,
    "start_time": "2024-03-20T17:28:27.448Z"
   },
   {
    "duration": 13,
    "start_time": "2024-03-20T17:28:27.631Z"
   },
   {
    "duration": 42,
    "start_time": "2024-03-20T17:28:27.645Z"
   },
   {
    "duration": 2,
    "start_time": "2024-03-20T17:28:27.688Z"
   },
   {
    "duration": 412,
    "start_time": "2024-03-20T17:28:27.692Z"
   },
   {
    "duration": 7,
    "start_time": "2024-03-20T17:28:28.106Z"
   },
   {
    "duration": 6,
    "start_time": "2024-03-20T17:28:28.115Z"
   },
   {
    "duration": 8,
    "start_time": "2024-03-20T17:28:28.122Z"
   },
   {
    "duration": 4,
    "start_time": "2024-03-20T17:28:28.131Z"
   },
   {
    "duration": 37,
    "start_time": "2024-03-20T17:28:28.136Z"
   },
   {
    "duration": 17,
    "start_time": "2024-03-20T17:32:19.114Z"
   },
   {
    "duration": 27,
    "start_time": "2024-03-20T17:32:41.007Z"
   },
   {
    "duration": 3,
    "start_time": "2024-03-20T17:32:46.603Z"
   },
   {
    "duration": 85,
    "start_time": "2024-03-20T17:32:46.608Z"
   },
   {
    "duration": 9,
    "start_time": "2024-03-20T17:32:46.695Z"
   },
   {
    "duration": 22,
    "start_time": "2024-03-20T17:32:46.706Z"
   },
   {
    "duration": 10,
    "start_time": "2024-03-20T17:32:46.730Z"
   },
   {
    "duration": 20,
    "start_time": "2024-03-20T17:32:46.741Z"
   },
   {
    "duration": 10,
    "start_time": "2024-03-20T17:32:46.763Z"
   },
   {
    "duration": 15,
    "start_time": "2024-03-20T17:32:46.775Z"
   },
   {
    "duration": 9,
    "start_time": "2024-03-20T17:32:46.791Z"
   },
   {
    "duration": 14,
    "start_time": "2024-03-20T17:32:46.801Z"
   },
   {
    "duration": 4,
    "start_time": "2024-03-20T17:32:46.817Z"
   },
   {
    "duration": 52,
    "start_time": "2024-03-20T17:32:46.822Z"
   },
   {
    "duration": 11,
    "start_time": "2024-03-20T17:32:46.875Z"
   },
   {
    "duration": 12,
    "start_time": "2024-03-20T17:32:46.888Z"
   },
   {
    "duration": 200,
    "start_time": "2024-03-20T17:32:46.902Z"
   },
   {
    "duration": 6,
    "start_time": "2024-03-20T17:32:47.104Z"
   },
   {
    "duration": 105,
    "start_time": "2024-03-20T17:32:47.111Z"
   },
   {
    "duration": 220,
    "start_time": "2024-03-20T17:32:47.217Z"
   },
   {
    "duration": 5,
    "start_time": "2024-03-20T17:32:47.439Z"
   },
   {
    "duration": 8,
    "start_time": "2024-03-20T17:32:47.446Z"
   },
   {
    "duration": 257,
    "start_time": "2024-03-20T17:32:47.456Z"
   },
   {
    "duration": 7,
    "start_time": "2024-03-20T17:32:47.715Z"
   },
   {
    "duration": 129,
    "start_time": "2024-03-20T17:32:47.724Z"
   },
   {
    "duration": 27,
    "start_time": "2024-03-20T17:32:47.855Z"
   },
   {
    "duration": 245,
    "start_time": "2024-03-20T17:32:47.884Z"
   },
   {
    "duration": 26,
    "start_time": "2024-03-20T17:32:48.130Z"
   },
   {
    "duration": 39,
    "start_time": "2024-03-20T17:32:48.158Z"
   },
   {
    "duration": 18,
    "start_time": "2024-03-20T17:32:48.198Z"
   },
   {
    "duration": 3,
    "start_time": "2024-03-20T17:32:48.219Z"
   },
   {
    "duration": 22,
    "start_time": "2024-03-20T17:32:48.224Z"
   },
   {
    "duration": 26,
    "start_time": "2024-03-20T17:32:48.248Z"
   },
   {
    "duration": 199,
    "start_time": "2024-03-20T17:32:48.276Z"
   },
   {
    "duration": 206,
    "start_time": "2024-03-20T17:32:48.477Z"
   },
   {
    "duration": 13,
    "start_time": "2024-03-20T17:32:48.685Z"
   },
   {
    "duration": 57,
    "start_time": "2024-03-20T17:32:48.700Z"
   },
   {
    "duration": 2,
    "start_time": "2024-03-20T17:32:48.759Z"
   },
   {
    "duration": 227,
    "start_time": "2024-03-20T17:32:48.763Z"
   },
   {
    "duration": 5,
    "start_time": "2024-03-20T17:32:48.992Z"
   },
   {
    "duration": 14,
    "start_time": "2024-03-20T17:32:48.998Z"
   },
   {
    "duration": 17,
    "start_time": "2024-03-20T17:32:49.014Z"
   },
   {
    "duration": 17,
    "start_time": "2024-03-20T17:32:49.032Z"
   },
   {
    "duration": 23,
    "start_time": "2024-03-20T17:32:49.050Z"
   },
   {
    "duration": 3,
    "start_time": "2024-03-20T17:40:09.726Z"
   },
   {
    "duration": 79,
    "start_time": "2024-03-20T17:40:09.732Z"
   },
   {
    "duration": 9,
    "start_time": "2024-03-20T17:40:09.813Z"
   },
   {
    "duration": 14,
    "start_time": "2024-03-20T17:40:09.824Z"
   },
   {
    "duration": 10,
    "start_time": "2024-03-20T17:40:09.841Z"
   },
   {
    "duration": 20,
    "start_time": "2024-03-20T17:40:09.853Z"
   },
   {
    "duration": 8,
    "start_time": "2024-03-20T17:40:09.875Z"
   },
   {
    "duration": 11,
    "start_time": "2024-03-20T17:40:09.885Z"
   },
   {
    "duration": 20,
    "start_time": "2024-03-20T17:40:09.899Z"
   },
   {
    "duration": 15,
    "start_time": "2024-03-20T17:40:09.921Z"
   },
   {
    "duration": 4,
    "start_time": "2024-03-20T17:40:09.973Z"
   },
   {
    "duration": 40,
    "start_time": "2024-03-20T17:40:09.978Z"
   },
   {
    "duration": 12,
    "start_time": "2024-03-20T17:40:10.020Z"
   },
   {
    "duration": 42,
    "start_time": "2024-03-20T17:40:10.034Z"
   },
   {
    "duration": 184,
    "start_time": "2024-03-20T17:40:10.077Z"
   },
   {
    "duration": 6,
    "start_time": "2024-03-20T17:40:10.263Z"
   },
   {
    "duration": 96,
    "start_time": "2024-03-20T17:40:10.273Z"
   },
   {
    "duration": 205,
    "start_time": "2024-03-20T17:40:10.370Z"
   },
   {
    "duration": 5,
    "start_time": "2024-03-20T17:40:10.577Z"
   },
   {
    "duration": 10,
    "start_time": "2024-03-20T17:40:10.584Z"
   },
   {
    "duration": 266,
    "start_time": "2024-03-20T17:40:10.595Z"
   },
   {
    "duration": 12,
    "start_time": "2024-03-20T17:40:10.863Z"
   },
   {
    "duration": 132,
    "start_time": "2024-03-20T17:40:10.877Z"
   },
   {
    "duration": 14,
    "start_time": "2024-03-20T17:40:11.011Z"
   },
   {
    "duration": 252,
    "start_time": "2024-03-20T17:40:11.026Z"
   },
   {
    "duration": 25,
    "start_time": "2024-03-20T17:40:11.280Z"
   },
   {
    "duration": 26,
    "start_time": "2024-03-20T17:40:11.307Z"
   },
   {
    "duration": 43,
    "start_time": "2024-03-20T17:40:11.335Z"
   },
   {
    "duration": 4,
    "start_time": "2024-03-20T17:40:11.383Z"
   },
   {
    "duration": 23,
    "start_time": "2024-03-20T17:40:11.389Z"
   },
   {
    "duration": 4,
    "start_time": "2024-03-20T17:40:11.414Z"
   },
   {
    "duration": 207,
    "start_time": "2024-03-20T17:40:11.420Z"
   },
   {
    "duration": 187,
    "start_time": "2024-03-20T17:40:11.629Z"
   },
   {
    "duration": 15,
    "start_time": "2024-03-20T17:40:11.818Z"
   },
   {
    "duration": 49,
    "start_time": "2024-03-20T17:40:11.835Z"
   },
   {
    "duration": 4,
    "start_time": "2024-03-20T17:40:11.885Z"
   },
   {
    "duration": 246,
    "start_time": "2024-03-20T17:40:11.891Z"
   },
   {
    "duration": 6,
    "start_time": "2024-03-20T17:40:12.140Z"
   },
   {
    "duration": 7,
    "start_time": "2024-03-20T17:40:12.148Z"
   },
   {
    "duration": 6,
    "start_time": "2024-03-20T17:40:12.174Z"
   },
   {
    "duration": 10,
    "start_time": "2024-03-20T17:40:12.181Z"
   },
   {
    "duration": 9,
    "start_time": "2024-03-20T17:40:12.193Z"
   },
   {
    "duration": 1145,
    "start_time": "2024-03-21T05:56:51.226Z"
   },
   {
    "duration": 194,
    "start_time": "2024-03-21T05:56:52.372Z"
   },
   {
    "duration": 13,
    "start_time": "2024-03-21T05:56:52.567Z"
   },
   {
    "duration": 25,
    "start_time": "2024-03-21T05:56:52.581Z"
   },
   {
    "duration": 32,
    "start_time": "2024-03-21T05:56:52.609Z"
   },
   {
    "duration": 26,
    "start_time": "2024-03-21T05:56:52.643Z"
   },
   {
    "duration": 12,
    "start_time": "2024-03-21T05:56:52.670Z"
   },
   {
    "duration": 28,
    "start_time": "2024-03-21T05:56:52.684Z"
   },
   {
    "duration": 15,
    "start_time": "2024-03-21T05:56:52.714Z"
   },
   {
    "duration": 30,
    "start_time": "2024-03-21T05:56:52.731Z"
   },
   {
    "duration": 5,
    "start_time": "2024-03-21T05:56:52.762Z"
   },
   {
    "duration": 51,
    "start_time": "2024-03-21T05:56:52.769Z"
   },
   {
    "duration": 18,
    "start_time": "2024-03-21T05:56:52.821Z"
   },
   {
    "duration": 5,
    "start_time": "2024-03-21T05:56:52.842Z"
   },
   {
    "duration": 164,
    "start_time": "2024-03-21T05:56:52.849Z"
   },
   {
    "duration": 6,
    "start_time": "2024-03-21T05:56:53.015Z"
   },
   {
    "duration": 105,
    "start_time": "2024-03-21T05:56:53.023Z"
   },
   {
    "duration": 210,
    "start_time": "2024-03-21T05:56:53.130Z"
   },
   {
    "duration": 4,
    "start_time": "2024-03-21T05:56:53.342Z"
   },
   {
    "duration": 9,
    "start_time": "2024-03-21T05:56:53.348Z"
   },
   {
    "duration": 256,
    "start_time": "2024-03-21T05:56:53.359Z"
   },
   {
    "duration": 8,
    "start_time": "2024-03-21T05:56:53.617Z"
   },
   {
    "duration": 120,
    "start_time": "2024-03-21T05:56:53.626Z"
   },
   {
    "duration": 13,
    "start_time": "2024-03-21T05:56:53.748Z"
   },
   {
    "duration": 247,
    "start_time": "2024-03-21T05:56:53.762Z"
   },
   {
    "duration": 23,
    "start_time": "2024-03-21T05:56:54.011Z"
   },
   {
    "duration": 24,
    "start_time": "2024-03-21T05:56:54.036Z"
   },
   {
    "duration": 19,
    "start_time": "2024-03-21T05:56:54.081Z"
   },
   {
    "duration": 4,
    "start_time": "2024-03-21T05:56:54.102Z"
   },
   {
    "duration": 15,
    "start_time": "2024-03-21T05:56:54.108Z"
   },
   {
    "duration": 4,
    "start_time": "2024-03-21T05:56:54.125Z"
   },
   {
    "duration": 209,
    "start_time": "2024-03-21T05:56:54.130Z"
   },
   {
    "duration": 192,
    "start_time": "2024-03-21T05:56:54.340Z"
   },
   {
    "duration": 13,
    "start_time": "2024-03-21T05:56:54.533Z"
   },
   {
    "duration": 41,
    "start_time": "2024-03-21T05:56:54.548Z"
   },
   {
    "duration": 3,
    "start_time": "2024-03-21T05:56:54.590Z"
   },
   {
    "duration": 236,
    "start_time": "2024-03-21T05:56:54.595Z"
   },
   {
    "duration": 7,
    "start_time": "2024-03-21T05:56:54.832Z"
   },
   {
    "duration": 8,
    "start_time": "2024-03-21T05:56:54.840Z"
   },
   {
    "duration": 5,
    "start_time": "2024-03-21T05:56:54.849Z"
   },
   {
    "duration": 26,
    "start_time": "2024-03-21T05:56:54.858Z"
   },
   {
    "duration": 6,
    "start_time": "2024-03-21T05:56:54.886Z"
   },
   {
    "duration": 7,
    "start_time": "2024-03-21T05:58:03.239Z"
   }
  ],
  "kernelspec": {
   "display_name": "Python 3 (ipykernel)",
   "language": "python",
   "name": "python3"
  },
  "language_info": {
   "codemirror_mode": {
    "name": "ipython",
    "version": 3
   },
   "file_extension": ".py",
   "mimetype": "text/x-python",
   "name": "python",
   "nbconvert_exporter": "python",
   "pygments_lexer": "ipython3",
   "version": "3.9.20"
  },
  "toc": {
   "base_numbering": 1,
   "nav_menu": {},
   "number_sections": true,
   "sideBar": true,
   "skip_h1_title": true,
   "title_cell": "Table of Contents",
   "title_sidebar": "Contents",
   "toc_cell": false,
   "toc_position": {},
   "toc_section_display": true,
   "toc_window_display": false
  }
 },
 "nbformat": 4,
 "nbformat_minor": 5
}
